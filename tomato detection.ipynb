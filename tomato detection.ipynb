{
  "nbformat": 4,
  "nbformat_minor": 0,
  "metadata": {
    "colab": {
      "provenance": [],
      "gpuType": "T4"
    },
    "kernelspec": {
      "name": "python3",
      "display_name": "Python 3"
    },
    "language_info": {
      "name": "python"
    },
    "accelerator": "GPU"
  },
  "cells": [
    {
      "cell_type": "code",
      "execution_count": 1,
      "metadata": {
        "colab": {
          "base_uri": "https://localhost:8080/",
          "height": 1000
        },
        "id": "dmHs_0fUE0Es",
        "outputId": "21dda8ff-cc50-4afc-8e86-360e5133c9e8"
      },
      "outputs": [
        {
          "output_type": "stream",
          "name": "stdout",
          "text": [
            "Collecting roboflow\n",
            "  Downloading roboflow-1.1.21-py3-none-any.whl (70 kB)\n",
            "\u001b[2K     \u001b[90m━━━━━━━━━━━━━━━━━━━━━━━━━━━━━━━━━━━━━━━━\u001b[0m \u001b[32m70.2/70.2 kB\u001b[0m \u001b[31m1.9 MB/s\u001b[0m eta \u001b[36m0:00:00\u001b[0m\n",
            "\u001b[?25hCollecting certifi==2023.7.22 (from roboflow)\n",
            "  Downloading certifi-2023.7.22-py3-none-any.whl (158 kB)\n",
            "\u001b[2K     \u001b[90m━━━━━━━━━━━━━━━━━━━━━━━━━━━━━━━━━━━━━━━━\u001b[0m \u001b[32m158.3/158.3 kB\u001b[0m \u001b[31m5.1 MB/s\u001b[0m eta \u001b[36m0:00:00\u001b[0m\n",
            "\u001b[?25hCollecting chardet==4.0.0 (from roboflow)\n",
            "  Downloading chardet-4.0.0-py2.py3-none-any.whl (178 kB)\n",
            "\u001b[2K     \u001b[90m━━━━━━━━━━━━━━━━━━━━━━━━━━━━━━━━━━━━━━━━\u001b[0m \u001b[32m178.7/178.7 kB\u001b[0m \u001b[31m6.1 MB/s\u001b[0m eta \u001b[36m0:00:00\u001b[0m\n",
            "\u001b[?25hCollecting cycler==0.10.0 (from roboflow)\n",
            "  Downloading cycler-0.10.0-py2.py3-none-any.whl (6.5 kB)\n",
            "Collecting idna==2.10 (from roboflow)\n",
            "  Downloading idna-2.10-py2.py3-none-any.whl (58 kB)\n",
            "\u001b[2K     \u001b[90m━━━━━━━━━━━━━━━━━━━━━━━━━━━━━━━━━━━━━━━━\u001b[0m \u001b[32m58.8/58.8 kB\u001b[0m \u001b[31m6.6 MB/s\u001b[0m eta \u001b[36m0:00:00\u001b[0m\n",
            "\u001b[?25hRequirement already satisfied: kiwisolver>=1.3.1 in /usr/local/lib/python3.10/dist-packages (from roboflow) (1.4.5)\n",
            "Requirement already satisfied: matplotlib in /usr/local/lib/python3.10/dist-packages (from roboflow) (3.7.1)\n",
            "Requirement already satisfied: numpy>=1.18.5 in /usr/local/lib/python3.10/dist-packages (from roboflow) (1.25.2)\n",
            "Collecting opencv-python-headless==4.8.0.74 (from roboflow)\n",
            "  Downloading opencv_python_headless-4.8.0.74-cp37-abi3-manylinux_2_17_x86_64.manylinux2014_x86_64.whl (49.1 MB)\n",
            "\u001b[2K     \u001b[90m━━━━━━━━━━━━━━━━━━━━━━━━━━━━━━━━━━━━━━━━\u001b[0m \u001b[32m49.1/49.1 MB\u001b[0m \u001b[31m11.5 MB/s\u001b[0m eta \u001b[36m0:00:00\u001b[0m\n",
            "\u001b[?25hRequirement already satisfied: Pillow>=7.1.2 in /usr/local/lib/python3.10/dist-packages (from roboflow) (9.4.0)\n",
            "Requirement already satisfied: python-dateutil in /usr/local/lib/python3.10/dist-packages (from roboflow) (2.8.2)\n",
            "Collecting python-dotenv (from roboflow)\n",
            "  Downloading python_dotenv-1.0.1-py3-none-any.whl (19 kB)\n",
            "Requirement already satisfied: requests in /usr/local/lib/python3.10/dist-packages (from roboflow) (2.31.0)\n",
            "Requirement already satisfied: six in /usr/local/lib/python3.10/dist-packages (from roboflow) (1.16.0)\n",
            "Collecting supervision (from roboflow)\n",
            "  Downloading supervision-0.18.0-py3-none-any.whl (86 kB)\n",
            "\u001b[2K     \u001b[90m━━━━━━━━━━━━━━━━━━━━━━━━━━━━━━━━━━━━━━━━\u001b[0m \u001b[32m86.7/86.7 kB\u001b[0m \u001b[31m13.0 MB/s\u001b[0m eta \u001b[36m0:00:00\u001b[0m\n",
            "\u001b[?25hRequirement already satisfied: urllib3>=1.26.6 in /usr/local/lib/python3.10/dist-packages (from roboflow) (2.0.7)\n",
            "Requirement already satisfied: tqdm>=4.41.0 in /usr/local/lib/python3.10/dist-packages (from roboflow) (4.66.2)\n",
            "Requirement already satisfied: PyYAML>=5.3.1 in /usr/local/lib/python3.10/dist-packages (from roboflow) (6.0.1)\n",
            "Collecting requests-toolbelt (from roboflow)\n",
            "  Downloading requests_toolbelt-1.0.0-py2.py3-none-any.whl (54 kB)\n",
            "\u001b[2K     \u001b[90m━━━━━━━━━━━━━━━━━━━━━━━━━━━━━━━━━━━━━━━━\u001b[0m \u001b[32m54.5/54.5 kB\u001b[0m \u001b[31m8.7 MB/s\u001b[0m eta \u001b[36m0:00:00\u001b[0m\n",
            "\u001b[?25hCollecting python-magic (from roboflow)\n",
            "  Downloading python_magic-0.4.27-py2.py3-none-any.whl (13 kB)\n",
            "Requirement already satisfied: contourpy>=1.0.1 in /usr/local/lib/python3.10/dist-packages (from matplotlib->roboflow) (1.2.0)\n",
            "Requirement already satisfied: fonttools>=4.22.0 in /usr/local/lib/python3.10/dist-packages (from matplotlib->roboflow) (4.49.0)\n",
            "Requirement already satisfied: packaging>=20.0 in /usr/local/lib/python3.10/dist-packages (from matplotlib->roboflow) (23.2)\n",
            "Requirement already satisfied: pyparsing>=2.3.1 in /usr/local/lib/python3.10/dist-packages (from matplotlib->roboflow) (3.1.1)\n",
            "Requirement already satisfied: charset-normalizer<4,>=2 in /usr/local/lib/python3.10/dist-packages (from requests->roboflow) (3.3.2)\n",
            "Requirement already satisfied: defusedxml<0.8.0,>=0.7.1 in /usr/local/lib/python3.10/dist-packages (from supervision->roboflow) (0.7.1)\n",
            "Requirement already satisfied: scipy<2.0.0,>=1.10.0 in /usr/local/lib/python3.10/dist-packages (from supervision->roboflow) (1.11.4)\n",
            "Installing collected packages: python-magic, python-dotenv, opencv-python-headless, idna, cycler, chardet, certifi, supervision, requests-toolbelt, roboflow\n",
            "  Attempting uninstall: opencv-python-headless\n",
            "    Found existing installation: opencv-python-headless 4.9.0.80\n",
            "    Uninstalling opencv-python-headless-4.9.0.80:\n",
            "      Successfully uninstalled opencv-python-headless-4.9.0.80\n",
            "  Attempting uninstall: idna\n",
            "    Found existing installation: idna 3.6\n",
            "    Uninstalling idna-3.6:\n",
            "      Successfully uninstalled idna-3.6\n",
            "  Attempting uninstall: cycler\n",
            "    Found existing installation: cycler 0.12.1\n",
            "    Uninstalling cycler-0.12.1:\n",
            "      Successfully uninstalled cycler-0.12.1\n",
            "  Attempting uninstall: chardet\n",
            "    Found existing installation: chardet 5.2.0\n",
            "    Uninstalling chardet-5.2.0:\n",
            "      Successfully uninstalled chardet-5.2.0\n",
            "  Attempting uninstall: certifi\n",
            "    Found existing installation: certifi 2024.2.2\n",
            "    Uninstalling certifi-2024.2.2:\n",
            "      Successfully uninstalled certifi-2024.2.2\n",
            "Successfully installed certifi-2023.7.22 chardet-4.0.0 cycler-0.10.0 idna-2.10 opencv-python-headless-4.8.0.74 python-dotenv-1.0.1 python-magic-0.4.27 requests-toolbelt-1.0.0 roboflow-1.1.21 supervision-0.18.0\n"
          ]
        },
        {
          "output_type": "display_data",
          "data": {
            "application/vnd.colab-display-data+json": {
              "pip_warning": {
                "packages": [
                  "certifi",
                  "cycler"
                ]
              },
              "id": "9b7734096cc84996bcaee3248721a0c0"
            }
          },
          "metadata": {}
        },
        {
          "output_type": "stream",
          "name": "stdout",
          "text": [
            "loading Roboflow workspace...\n",
            "loading Roboflow project...\n",
            "[WARNING] we noticed you are downloading a `yolov8` datasets but you don't have `ultralytics` installed. Roboflow `.deploy` supports only models trained with `ultralytics==8.0.196`, to intall it `pip install ultralytics==8.0.196`.\n"
          ]
        },
        {
          "output_type": "stream",
          "name": "stderr",
          "text": [
            "Downloading Dataset Version Zip in romato-2 to yolov8:: 100%|██████████| 7723/7723 [00:01<00:00, 5821.71it/s] "
          ]
        },
        {
          "output_type": "stream",
          "name": "stdout",
          "text": [
            "\n"
          ]
        },
        {
          "output_type": "stream",
          "name": "stderr",
          "text": [
            "\n",
            "Extracting Dataset Version Zip to romato-2 in yolov8:: 100%|██████████| 432/432 [00:00<00:00, 8057.33it/s]\n"
          ]
        }
      ],
      "source": [
        "!pip install roboflow\n",
        "\n",
        "from roboflow import Roboflow\n",
        "rf = Roboflow(api_key=\"MpvsUqlZ6XI3YRK7mo3G\")\n",
        "project = rf.workspace(\"file\").project(\"romato\")\n",
        "dataset = project.version(2).download(\"yolov8\")"
      ]
    },
    {
      "cell_type": "code",
      "source": [
        "from ultralytics import YOLO\n",
        "\n",
        "# Load a COCO-pretrained YOLOv8n model\n",
        "model = YOLO('yolov8n.pt')\n",
        "\n",
        "# Display model information (optional)\n",
        "model.info()\n",
        "\n",
        "# Train the model on the COCO8 example dataset for 100 epochs\n",
        "results = model.train(data='data.yaml', epochs=100, imgsz=640)"
      ],
      "metadata": {
        "colab": {
          "base_uri": "https://localhost:8080/"
        },
        "id": "lRH7MI3hFU6a",
        "outputId": "957d07e8-c8eb-454b-e118-8e45f3b9ddd1"
      },
      "execution_count": 4,
      "outputs": [
        {
          "output_type": "stream",
          "name": "stdout",
          "text": [
            "YOLOv8n summary: 225 layers, 3157200 parameters, 0 gradients, 8.9 GFLOPs\n",
            "Ultralytics YOLOv8.1.19 🚀 Python-3.10.12 torch-2.1.0+cu121 CUDA:0 (Tesla T4, 15102MiB)\n",
            "\u001b[34m\u001b[1mengine/trainer: \u001b[0mtask=detect, mode=train, model=yolov8n.pt, data=data.yaml, epochs=100, time=None, patience=100, batch=16, imgsz=640, save=True, save_period=-1, cache=False, device=None, workers=8, project=None, name=train2, exist_ok=False, pretrained=True, optimizer=auto, verbose=True, seed=0, deterministic=True, single_cls=False, rect=False, cos_lr=False, close_mosaic=10, resume=False, amp=True, fraction=1.0, profile=False, freeze=None, multi_scale=False, overlap_mask=True, mask_ratio=4, dropout=0.0, val=True, split=val, save_json=False, save_hybrid=False, conf=None, iou=0.7, max_det=300, half=False, dnn=False, plots=True, source=None, vid_stride=1, stream_buffer=False, visualize=False, augment=False, agnostic_nms=False, classes=None, retina_masks=False, embed=None, show=False, save_frames=False, save_txt=False, save_conf=False, save_crop=False, show_labels=True, show_conf=True, show_boxes=True, line_width=None, format=torchscript, keras=False, optimize=False, int8=False, dynamic=False, simplify=False, opset=None, workspace=4, nms=False, lr0=0.01, lrf=0.01, momentum=0.937, weight_decay=0.0005, warmup_epochs=3.0, warmup_momentum=0.8, warmup_bias_lr=0.1, box=7.5, cls=0.5, dfl=1.5, pose=12.0, kobj=1.0, label_smoothing=0.0, nbs=64, hsv_h=0.015, hsv_s=0.7, hsv_v=0.4, degrees=0.0, translate=0.1, scale=0.5, shear=0.0, perspective=0.0, flipud=0.0, fliplr=0.5, mosaic=1.0, mixup=0.0, copy_paste=0.0, auto_augment=randaugment, erasing=0.4, crop_fraction=1.0, cfg=None, tracker=botsort.yaml, save_dir=runs/detect/train2\n",
            "Downloading https://ultralytics.com/assets/Arial.ttf to '/root/.config/Ultralytics/Arial.ttf'...\n"
          ]
        },
        {
          "output_type": "stream",
          "name": "stderr",
          "text": [
            "100%|██████████| 755k/755k [00:00<00:00, 5.18MB/s]\n"
          ]
        },
        {
          "output_type": "stream",
          "name": "stdout",
          "text": [
            "Overriding model.yaml nc=80 with nc=2\n",
            "\n",
            "                   from  n    params  module                                       arguments                     \n",
            "  0                  -1  1       464  ultralytics.nn.modules.conv.Conv             [3, 16, 3, 2]                 \n",
            "  1                  -1  1      4672  ultralytics.nn.modules.conv.Conv             [16, 32, 3, 2]                \n",
            "  2                  -1  1      7360  ultralytics.nn.modules.block.C2f             [32, 32, 1, True]             \n",
            "  3                  -1  1     18560  ultralytics.nn.modules.conv.Conv             [32, 64, 3, 2]                \n",
            "  4                  -1  2     49664  ultralytics.nn.modules.block.C2f             [64, 64, 2, True]             \n",
            "  5                  -1  1     73984  ultralytics.nn.modules.conv.Conv             [64, 128, 3, 2]               \n",
            "  6                  -1  2    197632  ultralytics.nn.modules.block.C2f             [128, 128, 2, True]           \n",
            "  7                  -1  1    295424  ultralytics.nn.modules.conv.Conv             [128, 256, 3, 2]              \n",
            "  8                  -1  1    460288  ultralytics.nn.modules.block.C2f             [256, 256, 1, True]           \n",
            "  9                  -1  1    164608  ultralytics.nn.modules.block.SPPF            [256, 256, 5]                 \n",
            " 10                  -1  1         0  torch.nn.modules.upsampling.Upsample         [None, 2, 'nearest']          \n",
            " 11             [-1, 6]  1         0  ultralytics.nn.modules.conv.Concat           [1]                           \n",
            " 12                  -1  1    148224  ultralytics.nn.modules.block.C2f             [384, 128, 1]                 \n",
            " 13                  -1  1         0  torch.nn.modules.upsampling.Upsample         [None, 2, 'nearest']          \n",
            " 14             [-1, 4]  1         0  ultralytics.nn.modules.conv.Concat           [1]                           \n",
            " 15                  -1  1     37248  ultralytics.nn.modules.block.C2f             [192, 64, 1]                  \n",
            " 16                  -1  1     36992  ultralytics.nn.modules.conv.Conv             [64, 64, 3, 2]                \n",
            " 17            [-1, 12]  1         0  ultralytics.nn.modules.conv.Concat           [1]                           \n",
            " 18                  -1  1    123648  ultralytics.nn.modules.block.C2f             [192, 128, 1]                 \n",
            " 19                  -1  1    147712  ultralytics.nn.modules.conv.Conv             [128, 128, 3, 2]              \n",
            " 20             [-1, 9]  1         0  ultralytics.nn.modules.conv.Concat           [1]                           \n",
            " 21                  -1  1    493056  ultralytics.nn.modules.block.C2f             [384, 256, 1]                 \n",
            " 22        [15, 18, 21]  1    751702  ultralytics.nn.modules.head.Detect           [2, [64, 128, 256]]           \n",
            "Model summary: 225 layers, 3011238 parameters, 3011222 gradients, 8.2 GFLOPs\n",
            "\n",
            "Transferred 319/355 items from pretrained weights\n",
            "\u001b[34m\u001b[1mTensorBoard: \u001b[0mStart with 'tensorboard --logdir runs/detect/train2', view at http://localhost:6006/\n",
            "Freezing layer 'model.22.dfl.conv.weight'\n",
            "\u001b[34m\u001b[1mAMP: \u001b[0mrunning Automatic Mixed Precision (AMP) checks with YOLOv8n...\n",
            "\u001b[34m\u001b[1mAMP: \u001b[0mchecks passed ✅\n"
          ]
        },
        {
          "output_type": "stream",
          "name": "stderr",
          "text": [
            "\u001b[34m\u001b[1mtrain: \u001b[0mScanning /content/romato-2/train/labels... 147 images, 0 backgrounds, 0 corrupt: 100%|██████████| 147/147 [00:00<00:00, 1845.42it/s]"
          ]
        },
        {
          "output_type": "stream",
          "name": "stdout",
          "text": [
            "\u001b[34m\u001b[1mtrain: \u001b[0mNew cache created: /content/romato-2/train/labels.cache\n"
          ]
        },
        {
          "output_type": "stream",
          "name": "stderr",
          "text": [
            "\n"
          ]
        },
        {
          "output_type": "stream",
          "name": "stdout",
          "text": [
            "\u001b[34m\u001b[1malbumentations: \u001b[0mBlur(p=0.01, blur_limit=(3, 7)), MedianBlur(p=0.01, blur_limit=(3, 7)), ToGray(p=0.01), CLAHE(p=0.01, clip_limit=(1, 4.0), tile_grid_size=(8, 8))\n"
          ]
        },
        {
          "output_type": "stream",
          "name": "stderr",
          "text": [
            "\u001b[34m\u001b[1mval: \u001b[0mScanning /content/romato-2/valid/labels... 42 images, 0 backgrounds, 0 corrupt: 100%|██████████| 42/42 [00:00<00:00, 882.48it/s]"
          ]
        },
        {
          "output_type": "stream",
          "name": "stdout",
          "text": [
            "\u001b[34m\u001b[1mval: \u001b[0mNew cache created: /content/romato-2/valid/labels.cache\n"
          ]
        },
        {
          "output_type": "stream",
          "name": "stderr",
          "text": [
            "\n"
          ]
        },
        {
          "output_type": "stream",
          "name": "stdout",
          "text": [
            "Plotting labels to runs/detect/train2/labels.jpg... \n",
            "\u001b[34m\u001b[1moptimizer:\u001b[0m 'optimizer=auto' found, ignoring 'lr0=0.01' and 'momentum=0.937' and determining best 'optimizer', 'lr0' and 'momentum' automatically... \n",
            "\u001b[34m\u001b[1moptimizer:\u001b[0m AdamW(lr=0.001667, momentum=0.9) with parameter groups 57 weight(decay=0.0), 64 weight(decay=0.0005), 63 bias(decay=0.0)\n",
            "\u001b[34m\u001b[1mTensorBoard: \u001b[0mmodel graph visualization added ✅\n",
            "Image sizes 640 train, 640 val\n",
            "Using 2 dataloader workers\n",
            "Logging results to \u001b[1mruns/detect/train2\u001b[0m\n",
            "Starting training for 100 epochs...\n",
            "\n",
            "      Epoch    GPU_mem   box_loss   cls_loss   dfl_loss  Instances       Size\n"
          ]
        },
        {
          "output_type": "stream",
          "name": "stderr",
          "text": [
            "      1/100      2.66G      1.928      3.486      1.722         13        640: 100%|██████████| 10/10 [00:08<00:00,  1.22it/s]\n",
            "                 Class     Images  Instances      Box(P          R      mAP50  mAP50-95): 100%|██████████| 2/2 [00:01<00:00,  1.03it/s]"
          ]
        },
        {
          "output_type": "stream",
          "name": "stdout",
          "text": [
            "                   all         42        269    0.00842      0.383      0.124     0.0527\n"
          ]
        },
        {
          "output_type": "stream",
          "name": "stderr",
          "text": [
            "\n"
          ]
        },
        {
          "output_type": "stream",
          "name": "stdout",
          "text": [
            "\n",
            "      Epoch    GPU_mem   box_loss   cls_loss   dfl_loss  Instances       Size\n"
          ]
        },
        {
          "output_type": "stream",
          "name": "stderr",
          "text": [
            "      2/100      2.31G      1.879      2.324       1.58         16        640: 100%|██████████| 10/10 [00:02<00:00,  4.20it/s]\n",
            "                 Class     Images  Instances      Box(P          R      mAP50  mAP50-95): 100%|██████████| 2/2 [00:00<00:00,  3.01it/s]\n"
          ]
        },
        {
          "output_type": "stream",
          "name": "stdout",
          "text": [
            "                   all         42        269      0.364      0.223      0.152      0.066\n",
            "\n",
            "      Epoch    GPU_mem   box_loss   cls_loss   dfl_loss  Instances       Size\n"
          ]
        },
        {
          "output_type": "stream",
          "name": "stderr",
          "text": [
            "      3/100      2.24G      1.938       1.87       1.57         21        640: 100%|██████████| 10/10 [00:02<00:00,  4.60it/s]\n",
            "                 Class     Images  Instances      Box(P          R      mAP50  mAP50-95): 100%|██████████| 2/2 [00:00<00:00,  2.78it/s]\n"
          ]
        },
        {
          "output_type": "stream",
          "name": "stdout",
          "text": [
            "                   all         42        269     0.0181      0.841      0.247      0.108\n",
            "\n",
            "      Epoch    GPU_mem   box_loss   cls_loss   dfl_loss  Instances       Size\n"
          ]
        },
        {
          "output_type": "stream",
          "name": "stderr",
          "text": [
            "      4/100      2.24G      1.877      1.651      1.496         20        640: 100%|██████████| 10/10 [00:02<00:00,  4.19it/s]\n",
            "                 Class     Images  Instances      Box(P          R      mAP50  mAP50-95): 100%|██████████| 2/2 [00:00<00:00,  3.39it/s]\n"
          ]
        },
        {
          "output_type": "stream",
          "name": "stdout",
          "text": [
            "                   all         42        269      0.391      0.111      0.178     0.0623\n",
            "\n",
            "      Epoch    GPU_mem   box_loss   cls_loss   dfl_loss  Instances       Size\n"
          ]
        },
        {
          "output_type": "stream",
          "name": "stderr",
          "text": [
            "      5/100      2.24G      1.854      1.509       1.44         40        640: 100%|██████████| 10/10 [00:02<00:00,  4.56it/s]\n",
            "                 Class     Images  Instances      Box(P          R      mAP50  mAP50-95): 100%|██████████| 2/2 [00:00<00:00,  3.05it/s]"
          ]
        },
        {
          "output_type": "stream",
          "name": "stdout",
          "text": [
            "                   all         42        269      0.491      0.203      0.258      0.097\n"
          ]
        },
        {
          "output_type": "stream",
          "name": "stderr",
          "text": [
            "\n"
          ]
        },
        {
          "output_type": "stream",
          "name": "stdout",
          "text": [
            "\n",
            "      Epoch    GPU_mem   box_loss   cls_loss   dfl_loss  Instances       Size\n"
          ]
        },
        {
          "output_type": "stream",
          "name": "stderr",
          "text": [
            "      6/100      2.22G       1.79      1.515      1.458         12        640: 100%|██████████| 10/10 [00:02<00:00,  4.52it/s]\n",
            "                 Class     Images  Instances      Box(P          R      mAP50  mAP50-95): 100%|██████████| 2/2 [00:00<00:00,  3.69it/s]"
          ]
        },
        {
          "output_type": "stream",
          "name": "stdout",
          "text": [
            "                   all         42        269       0.33      0.197      0.245     0.0991\n"
          ]
        },
        {
          "output_type": "stream",
          "name": "stderr",
          "text": [
            "\n"
          ]
        },
        {
          "output_type": "stream",
          "name": "stdout",
          "text": [
            "\n",
            "      Epoch    GPU_mem   box_loss   cls_loss   dfl_loss  Instances       Size\n"
          ]
        },
        {
          "output_type": "stream",
          "name": "stderr",
          "text": [
            "      7/100      2.26G      1.803      1.395      1.462         25        640: 100%|██████████| 10/10 [00:02<00:00,  3.49it/s]\n",
            "                 Class     Images  Instances      Box(P          R      mAP50  mAP50-95): 100%|██████████| 2/2 [00:00<00:00,  2.34it/s]"
          ]
        },
        {
          "output_type": "stream",
          "name": "stdout",
          "text": [
            "                   all         42        269      0.298      0.186      0.147     0.0604\n"
          ]
        },
        {
          "output_type": "stream",
          "name": "stderr",
          "text": [
            "\n"
          ]
        },
        {
          "output_type": "stream",
          "name": "stdout",
          "text": [
            "\n",
            "      Epoch    GPU_mem   box_loss   cls_loss   dfl_loss  Instances       Size\n"
          ]
        },
        {
          "output_type": "stream",
          "name": "stderr",
          "text": [
            "      8/100      2.35G      1.778      1.444      1.479         15        640: 100%|██████████| 10/10 [00:02<00:00,  4.64it/s]\n",
            "                 Class     Images  Instances      Box(P          R      mAP50  mAP50-95): 100%|██████████| 2/2 [00:00<00:00,  3.89it/s]"
          ]
        },
        {
          "output_type": "stream",
          "name": "stdout",
          "text": [
            "                   all         42        269      0.372      0.225      0.273      0.114\n"
          ]
        },
        {
          "output_type": "stream",
          "name": "stderr",
          "text": [
            "\n"
          ]
        },
        {
          "output_type": "stream",
          "name": "stdout",
          "text": [
            "\n",
            "      Epoch    GPU_mem   box_loss   cls_loss   dfl_loss  Instances       Size\n"
          ]
        },
        {
          "output_type": "stream",
          "name": "stderr",
          "text": [
            "      9/100      2.21G      1.808      1.457       1.51         23        640: 100%|██████████| 10/10 [00:02<00:00,  4.76it/s]\n",
            "                 Class     Images  Instances      Box(P          R      mAP50  mAP50-95): 100%|██████████| 2/2 [00:00<00:00,  2.83it/s]"
          ]
        },
        {
          "output_type": "stream",
          "name": "stdout",
          "text": [
            "                   all         42        269      0.307      0.578      0.332      0.141\n"
          ]
        },
        {
          "output_type": "stream",
          "name": "stderr",
          "text": [
            "\n"
          ]
        },
        {
          "output_type": "stream",
          "name": "stdout",
          "text": [
            "\n",
            "      Epoch    GPU_mem   box_loss   cls_loss   dfl_loss  Instances       Size\n"
          ]
        },
        {
          "output_type": "stream",
          "name": "stderr",
          "text": [
            "     10/100       2.2G      1.785      1.498      1.532         28        640: 100%|██████████| 10/10 [00:02<00:00,  4.81it/s]\n",
            "                 Class     Images  Instances      Box(P          R      mAP50  mAP50-95): 100%|██████████| 2/2 [00:00<00:00,  2.50it/s]"
          ]
        },
        {
          "output_type": "stream",
          "name": "stdout",
          "text": [
            "                   all         42        269      0.679      0.264      0.418      0.174\n"
          ]
        },
        {
          "output_type": "stream",
          "name": "stderr",
          "text": [
            "\n"
          ]
        },
        {
          "output_type": "stream",
          "name": "stdout",
          "text": [
            "\n",
            "      Epoch    GPU_mem   box_loss   cls_loss   dfl_loss  Instances       Size\n"
          ]
        },
        {
          "output_type": "stream",
          "name": "stderr",
          "text": [
            "     11/100      2.22G      1.832      1.421      1.481         24        640: 100%|██████████| 10/10 [00:02<00:00,  4.02it/s]\n",
            "                 Class     Images  Instances      Box(P          R      mAP50  mAP50-95): 100%|██████████| 2/2 [00:00<00:00,  2.98it/s]\n"
          ]
        },
        {
          "output_type": "stream",
          "name": "stdout",
          "text": [
            "                   all         42        269      0.593      0.753      0.604      0.239\n",
            "\n",
            "      Epoch    GPU_mem   box_loss   cls_loss   dfl_loss  Instances       Size\n"
          ]
        },
        {
          "output_type": "stream",
          "name": "stderr",
          "text": [
            "     12/100      2.19G      1.856      1.316      1.448         25        640: 100%|██████████| 10/10 [00:02<00:00,  4.90it/s]\n",
            "                 Class     Images  Instances      Box(P          R      mAP50  mAP50-95): 100%|██████████| 2/2 [00:00<00:00,  3.45it/s]"
          ]
        },
        {
          "output_type": "stream",
          "name": "stdout",
          "text": [
            "                   all         42        269      0.555      0.784      0.587      0.245\n"
          ]
        },
        {
          "output_type": "stream",
          "name": "stderr",
          "text": [
            "\n"
          ]
        },
        {
          "output_type": "stream",
          "name": "stdout",
          "text": [
            "\n",
            "      Epoch    GPU_mem   box_loss   cls_loss   dfl_loss  Instances       Size\n"
          ]
        },
        {
          "output_type": "stream",
          "name": "stderr",
          "text": [
            "     13/100      2.29G      1.782      1.355      1.492         16        640: 100%|██████████| 10/10 [00:02<00:00,  4.81it/s]\n",
            "                 Class     Images  Instances      Box(P          R      mAP50  mAP50-95): 100%|██████████| 2/2 [00:00<00:00,  3.65it/s]"
          ]
        },
        {
          "output_type": "stream",
          "name": "stdout",
          "text": [
            "                   all         42        269      0.526      0.725       0.55      0.226\n"
          ]
        },
        {
          "output_type": "stream",
          "name": "stderr",
          "text": [
            "\n"
          ]
        },
        {
          "output_type": "stream",
          "name": "stdout",
          "text": [
            "\n",
            "      Epoch    GPU_mem   box_loss   cls_loss   dfl_loss  Instances       Size\n"
          ]
        },
        {
          "output_type": "stream",
          "name": "stderr",
          "text": [
            "     14/100       2.2G      1.792      1.356      1.483         49        640: 100%|██████████| 10/10 [00:02<00:00,  4.39it/s]\n",
            "                 Class     Images  Instances      Box(P          R      mAP50  mAP50-95): 100%|██████████| 2/2 [00:01<00:00,  1.91it/s]"
          ]
        },
        {
          "output_type": "stream",
          "name": "stdout",
          "text": [
            "                   all         42        269      0.626      0.711      0.618      0.242\n"
          ]
        },
        {
          "output_type": "stream",
          "name": "stderr",
          "text": [
            "\n"
          ]
        },
        {
          "output_type": "stream",
          "name": "stdout",
          "text": [
            "\n",
            "      Epoch    GPU_mem   box_loss   cls_loss   dfl_loss  Instances       Size\n"
          ]
        },
        {
          "output_type": "stream",
          "name": "stderr",
          "text": [
            "     15/100      2.33G      1.802      1.387      1.496         11        640: 100%|██████████| 10/10 [00:02<00:00,  4.66it/s]\n",
            "                 Class     Images  Instances      Box(P          R      mAP50  mAP50-95): 100%|██████████| 2/2 [00:00<00:00,  3.83it/s]"
          ]
        },
        {
          "output_type": "stream",
          "name": "stdout",
          "text": [
            "                   all         42        269      0.614      0.786      0.623      0.258\n"
          ]
        },
        {
          "output_type": "stream",
          "name": "stderr",
          "text": [
            "\n"
          ]
        },
        {
          "output_type": "stream",
          "name": "stdout",
          "text": [
            "\n",
            "      Epoch    GPU_mem   box_loss   cls_loss   dfl_loss  Instances       Size\n"
          ]
        },
        {
          "output_type": "stream",
          "name": "stderr",
          "text": [
            "     16/100      2.23G      1.723       1.35      1.469         13        640: 100%|██████████| 10/10 [00:02<00:00,  4.80it/s]\n",
            "                 Class     Images  Instances      Box(P          R      mAP50  mAP50-95): 100%|██████████| 2/2 [00:00<00:00,  3.77it/s]"
          ]
        },
        {
          "output_type": "stream",
          "name": "stdout",
          "text": [
            "                   all         42        269      0.705      0.809      0.734      0.311\n"
          ]
        },
        {
          "output_type": "stream",
          "name": "stderr",
          "text": [
            "\n"
          ]
        },
        {
          "output_type": "stream",
          "name": "stdout",
          "text": [
            "\n",
            "      Epoch    GPU_mem   box_loss   cls_loss   dfl_loss  Instances       Size\n"
          ]
        },
        {
          "output_type": "stream",
          "name": "stderr",
          "text": [
            "     17/100      2.33G      1.702       1.32      1.432          7        640: 100%|██████████| 10/10 [00:02<00:00,  4.84it/s]\n",
            "                 Class     Images  Instances      Box(P          R      mAP50  mAP50-95): 100%|██████████| 2/2 [00:00<00:00,  2.96it/s]"
          ]
        },
        {
          "output_type": "stream",
          "name": "stdout",
          "text": [
            "                   all         42        269      0.687      0.798      0.743      0.305\n"
          ]
        },
        {
          "output_type": "stream",
          "name": "stderr",
          "text": [
            "\n"
          ]
        },
        {
          "output_type": "stream",
          "name": "stdout",
          "text": [
            "\n",
            "      Epoch    GPU_mem   box_loss   cls_loss   dfl_loss  Instances       Size\n"
          ]
        },
        {
          "output_type": "stream",
          "name": "stderr",
          "text": [
            "     18/100      2.24G      1.895      1.387      1.515         17        640: 100%|██████████| 10/10 [00:03<00:00,  3.32it/s]\n",
            "                 Class     Images  Instances      Box(P          R      mAP50  mAP50-95): 100%|██████████| 2/2 [00:00<00:00,  3.21it/s]\n"
          ]
        },
        {
          "output_type": "stream",
          "name": "stdout",
          "text": [
            "                   all         42        269      0.623      0.776      0.658      0.272\n",
            "\n",
            "      Epoch    GPU_mem   box_loss   cls_loss   dfl_loss  Instances       Size\n"
          ]
        },
        {
          "output_type": "stream",
          "name": "stderr",
          "text": [
            "     19/100      2.33G      1.839      1.276       1.48         42        640: 100%|██████████| 10/10 [00:02<00:00,  4.87it/s]\n",
            "                 Class     Images  Instances      Box(P          R      mAP50  mAP50-95): 100%|██████████| 2/2 [00:00<00:00,  3.29it/s]"
          ]
        },
        {
          "output_type": "stream",
          "name": "stdout",
          "text": [
            "                   all         42        269      0.771      0.788      0.777      0.316\n"
          ]
        },
        {
          "output_type": "stream",
          "name": "stderr",
          "text": [
            "\n"
          ]
        },
        {
          "output_type": "stream",
          "name": "stdout",
          "text": [
            "\n",
            "      Epoch    GPU_mem   box_loss   cls_loss   dfl_loss  Instances       Size\n"
          ]
        },
        {
          "output_type": "stream",
          "name": "stderr",
          "text": [
            "     20/100      2.19G      1.715      1.226      1.423         38        640: 100%|██████████| 10/10 [00:02<00:00,  4.81it/s]\n",
            "                 Class     Images  Instances      Box(P          R      mAP50  mAP50-95): 100%|██████████| 2/2 [00:00<00:00,  3.40it/s]"
          ]
        },
        {
          "output_type": "stream",
          "name": "stdout",
          "text": [
            "                   all         42        269      0.759      0.802       0.73      0.304\n"
          ]
        },
        {
          "output_type": "stream",
          "name": "stderr",
          "text": [
            "\n"
          ]
        },
        {
          "output_type": "stream",
          "name": "stdout",
          "text": [
            "\n",
            "      Epoch    GPU_mem   box_loss   cls_loss   dfl_loss  Instances       Size\n"
          ]
        },
        {
          "output_type": "stream",
          "name": "stderr",
          "text": [
            "     21/100      2.24G      1.833      1.181      1.429         23        640: 100%|██████████| 10/10 [00:02<00:00,  4.78it/s]\n",
            "                 Class     Images  Instances      Box(P          R      mAP50  mAP50-95): 100%|██████████| 2/2 [00:00<00:00,  2.10it/s]"
          ]
        },
        {
          "output_type": "stream",
          "name": "stdout",
          "text": [
            "                   all         42        269      0.715      0.762      0.722      0.286\n"
          ]
        },
        {
          "output_type": "stream",
          "name": "stderr",
          "text": [
            "\n"
          ]
        },
        {
          "output_type": "stream",
          "name": "stdout",
          "text": [
            "\n",
            "      Epoch    GPU_mem   box_loss   cls_loss   dfl_loss  Instances       Size\n"
          ]
        },
        {
          "output_type": "stream",
          "name": "stderr",
          "text": [
            "     22/100      2.23G      1.796      1.182      1.435         33        640: 100%|██████████| 10/10 [00:02<00:00,  4.34it/s]\n",
            "                 Class     Images  Instances      Box(P          R      mAP50  mAP50-95): 100%|██████████| 2/2 [00:00<00:00,  3.60it/s]"
          ]
        },
        {
          "output_type": "stream",
          "name": "stdout",
          "text": [
            "                   all         42        269      0.718       0.82      0.746      0.312\n"
          ]
        },
        {
          "output_type": "stream",
          "name": "stderr",
          "text": [
            "\n"
          ]
        },
        {
          "output_type": "stream",
          "name": "stdout",
          "text": [
            "\n",
            "      Epoch    GPU_mem   box_loss   cls_loss   dfl_loss  Instances       Size\n"
          ]
        },
        {
          "output_type": "stream",
          "name": "stderr",
          "text": [
            "     23/100      2.27G      1.803      1.228      1.461         28        640: 100%|██████████| 10/10 [00:02<00:00,  4.85it/s]\n",
            "                 Class     Images  Instances      Box(P          R      mAP50  mAP50-95): 100%|██████████| 2/2 [00:00<00:00,  3.08it/s]\n"
          ]
        },
        {
          "output_type": "stream",
          "name": "stdout",
          "text": [
            "                   all         42        269      0.713      0.833      0.744      0.307\n",
            "\n",
            "      Epoch    GPU_mem   box_loss   cls_loss   dfl_loss  Instances       Size\n"
          ]
        },
        {
          "output_type": "stream",
          "name": "stderr",
          "text": [
            "     24/100      2.19G      1.719      1.292      1.449         24        640: 100%|██████████| 10/10 [00:02<00:00,  4.63it/s]\n",
            "                 Class     Images  Instances      Box(P          R      mAP50  mAP50-95): 100%|██████████| 2/2 [00:00<00:00,  3.83it/s]\n"
          ]
        },
        {
          "output_type": "stream",
          "name": "stdout",
          "text": [
            "                   all         42        269      0.537      0.679      0.596       0.22\n",
            "\n",
            "      Epoch    GPU_mem   box_loss   cls_loss   dfl_loss  Instances       Size\n"
          ]
        },
        {
          "output_type": "stream",
          "name": "stderr",
          "text": [
            "     25/100       2.3G      1.772      1.191      1.464         55        640: 100%|██████████| 10/10 [00:02<00:00,  3.91it/s]\n",
            "                 Class     Images  Instances      Box(P          R      mAP50  mAP50-95): 100%|██████████| 2/2 [00:00<00:00,  2.09it/s]"
          ]
        },
        {
          "output_type": "stream",
          "name": "stdout",
          "text": [
            "                   all         42        269      0.674      0.806      0.709      0.258\n"
          ]
        },
        {
          "output_type": "stream",
          "name": "stderr",
          "text": [
            "\n"
          ]
        },
        {
          "output_type": "stream",
          "name": "stdout",
          "text": [
            "\n",
            "      Epoch    GPU_mem   box_loss   cls_loss   dfl_loss  Instances       Size\n"
          ]
        },
        {
          "output_type": "stream",
          "name": "stderr",
          "text": [
            "     26/100      2.24G       1.78      1.174      1.479         26        640: 100%|██████████| 10/10 [00:02<00:00,  4.87it/s]\n",
            "                 Class     Images  Instances      Box(P          R      mAP50  mAP50-95): 100%|██████████| 2/2 [00:00<00:00,  3.04it/s]"
          ]
        },
        {
          "output_type": "stream",
          "name": "stdout",
          "text": [
            "                   all         42        269      0.741      0.794      0.759      0.305\n"
          ]
        },
        {
          "output_type": "stream",
          "name": "stderr",
          "text": [
            "\n"
          ]
        },
        {
          "output_type": "stream",
          "name": "stdout",
          "text": [
            "\n",
            "      Epoch    GPU_mem   box_loss   cls_loss   dfl_loss  Instances       Size\n"
          ]
        },
        {
          "output_type": "stream",
          "name": "stderr",
          "text": [
            "     27/100      2.23G      1.756      1.168      1.416         38        640: 100%|██████████| 10/10 [00:01<00:00,  5.00it/s]\n",
            "                 Class     Images  Instances      Box(P          R      mAP50  mAP50-95): 100%|██████████| 2/2 [00:00<00:00,  3.96it/s]"
          ]
        },
        {
          "output_type": "stream",
          "name": "stdout",
          "text": [
            "                   all         42        269      0.808      0.796      0.811       0.32\n"
          ]
        },
        {
          "output_type": "stream",
          "name": "stderr",
          "text": [
            "\n"
          ]
        },
        {
          "output_type": "stream",
          "name": "stdout",
          "text": [
            "\n",
            "      Epoch    GPU_mem   box_loss   cls_loss   dfl_loss  Instances       Size\n"
          ]
        },
        {
          "output_type": "stream",
          "name": "stderr",
          "text": [
            "     28/100      2.19G      1.798      1.222      1.489         12        640: 100%|██████████| 10/10 [00:02<00:00,  4.54it/s]\n",
            "                 Class     Images  Instances      Box(P          R      mAP50  mAP50-95): 100%|██████████| 2/2 [00:00<00:00,  4.01it/s]"
          ]
        },
        {
          "output_type": "stream",
          "name": "stdout",
          "text": [
            "                   all         42        269      0.797      0.762      0.761      0.298\n"
          ]
        },
        {
          "output_type": "stream",
          "name": "stderr",
          "text": [
            "\n"
          ]
        },
        {
          "output_type": "stream",
          "name": "stdout",
          "text": [
            "\n",
            "      Epoch    GPU_mem   box_loss   cls_loss   dfl_loss  Instances       Size\n"
          ]
        },
        {
          "output_type": "stream",
          "name": "stderr",
          "text": [
            "     29/100      2.28G      1.714       1.18      1.463          9        640: 100%|██████████| 10/10 [00:02<00:00,  3.45it/s]\n",
            "                 Class     Images  Instances      Box(P          R      mAP50  mAP50-95): 100%|██████████| 2/2 [00:00<00:00,  3.16it/s]"
          ]
        },
        {
          "output_type": "stream",
          "name": "stdout",
          "text": [
            "                   all         42        269      0.803      0.764      0.802      0.321\n"
          ]
        },
        {
          "output_type": "stream",
          "name": "stderr",
          "text": [
            "\n"
          ]
        },
        {
          "output_type": "stream",
          "name": "stdout",
          "text": [
            "\n",
            "      Epoch    GPU_mem   box_loss   cls_loss   dfl_loss  Instances       Size\n"
          ]
        },
        {
          "output_type": "stream",
          "name": "stderr",
          "text": [
            "     30/100      2.21G       1.74      1.232      1.411          5        640: 100%|██████████| 10/10 [00:02<00:00,  4.76it/s]\n",
            "                 Class     Images  Instances      Box(P          R      mAP50  mAP50-95): 100%|██████████| 2/2 [00:00<00:00,  3.56it/s]"
          ]
        },
        {
          "output_type": "stream",
          "name": "stdout",
          "text": [
            "                   all         42        269      0.754       0.81       0.78      0.334\n"
          ]
        },
        {
          "output_type": "stream",
          "name": "stderr",
          "text": [
            "\n"
          ]
        },
        {
          "output_type": "stream",
          "name": "stdout",
          "text": [
            "\n",
            "      Epoch    GPU_mem   box_loss   cls_loss   dfl_loss  Instances       Size\n"
          ]
        },
        {
          "output_type": "stream",
          "name": "stderr",
          "text": [
            "     31/100       2.3G       1.72      1.104      1.406         41        640: 100%|██████████| 10/10 [00:02<00:00,  4.86it/s]\n",
            "                 Class     Images  Instances      Box(P          R      mAP50  mAP50-95): 100%|██████████| 2/2 [00:00<00:00,  3.58it/s]"
          ]
        },
        {
          "output_type": "stream",
          "name": "stdout",
          "text": [
            "                   all         42        269      0.769      0.812      0.757      0.331\n"
          ]
        },
        {
          "output_type": "stream",
          "name": "stderr",
          "text": [
            "\n"
          ]
        },
        {
          "output_type": "stream",
          "name": "stdout",
          "text": [
            "\n",
            "      Epoch    GPU_mem   box_loss   cls_loss   dfl_loss  Instances       Size\n"
          ]
        },
        {
          "output_type": "stream",
          "name": "stderr",
          "text": [
            "     32/100       2.2G      1.753      1.071       1.37         47        640: 100%|██████████| 10/10 [00:02<00:00,  4.62it/s]\n",
            "                 Class     Images  Instances      Box(P          R      mAP50  mAP50-95): 100%|██████████| 2/2 [00:00<00:00,  2.29it/s]"
          ]
        },
        {
          "output_type": "stream",
          "name": "stdout",
          "text": [
            "                   all         42        269      0.745      0.839      0.786      0.329\n"
          ]
        },
        {
          "output_type": "stream",
          "name": "stderr",
          "text": [
            "\n"
          ]
        },
        {
          "output_type": "stream",
          "name": "stdout",
          "text": [
            "\n",
            "      Epoch    GPU_mem   box_loss   cls_loss   dfl_loss  Instances       Size\n"
          ]
        },
        {
          "output_type": "stream",
          "name": "stderr",
          "text": [
            "     33/100      2.23G      1.697      1.041      1.405         12        640: 100%|██████████| 10/10 [00:02<00:00,  4.38it/s]\n",
            "                 Class     Images  Instances      Box(P          R      mAP50  mAP50-95): 100%|██████████| 2/2 [00:00<00:00,  3.20it/s]"
          ]
        },
        {
          "output_type": "stream",
          "name": "stdout",
          "text": [
            "                   all         42        269      0.741      0.835      0.781      0.336\n"
          ]
        },
        {
          "output_type": "stream",
          "name": "stderr",
          "text": [
            "\n"
          ]
        },
        {
          "output_type": "stream",
          "name": "stdout",
          "text": [
            "\n",
            "      Epoch    GPU_mem   box_loss   cls_loss   dfl_loss  Instances       Size\n"
          ]
        },
        {
          "output_type": "stream",
          "name": "stderr",
          "text": [
            "     34/100      2.33G      1.716      1.075      1.397         40        640: 100%|██████████| 10/10 [00:02<00:00,  4.74it/s]\n",
            "                 Class     Images  Instances      Box(P          R      mAP50  mAP50-95): 100%|██████████| 2/2 [00:00<00:00,  3.43it/s]"
          ]
        },
        {
          "output_type": "stream",
          "name": "stdout",
          "text": [
            "                   all         42        269      0.769      0.824      0.781      0.318\n"
          ]
        },
        {
          "output_type": "stream",
          "name": "stderr",
          "text": [
            "\n"
          ]
        },
        {
          "output_type": "stream",
          "name": "stdout",
          "text": [
            "\n",
            "      Epoch    GPU_mem   box_loss   cls_loss   dfl_loss  Instances       Size\n"
          ]
        },
        {
          "output_type": "stream",
          "name": "stderr",
          "text": [
            "     35/100      2.31G      1.682      1.027      1.413         15        640: 100%|██████████| 10/10 [00:02<00:00,  4.80it/s]\n",
            "                 Class     Images  Instances      Box(P          R      mAP50  mAP50-95): 100%|██████████| 2/2 [00:00<00:00,  3.55it/s]\n"
          ]
        },
        {
          "output_type": "stream",
          "name": "stdout",
          "text": [
            "                   all         42        269      0.782      0.805      0.781      0.329\n",
            "\n",
            "      Epoch    GPU_mem   box_loss   cls_loss   dfl_loss  Instances       Size\n"
          ]
        },
        {
          "output_type": "stream",
          "name": "stderr",
          "text": [
            "     36/100      2.24G      1.722       1.07      1.381         68        640: 100%|██████████| 10/10 [00:02<00:00,  3.66it/s]\n",
            "                 Class     Images  Instances      Box(P          R      mAP50  mAP50-95): 100%|██████████| 2/2 [00:00<00:00,  2.34it/s]"
          ]
        },
        {
          "output_type": "stream",
          "name": "stdout",
          "text": [
            "                   all         42        269      0.734      0.869      0.733      0.304\n"
          ]
        },
        {
          "output_type": "stream",
          "name": "stderr",
          "text": [
            "\n"
          ]
        },
        {
          "output_type": "stream",
          "name": "stdout",
          "text": [
            "\n",
            "      Epoch    GPU_mem   box_loss   cls_loss   dfl_loss  Instances       Size\n"
          ]
        },
        {
          "output_type": "stream",
          "name": "stderr",
          "text": [
            "     37/100      2.22G       1.61      1.021      1.373         21        640: 100%|██████████| 10/10 [00:02<00:00,  4.93it/s]\n",
            "                 Class     Images  Instances      Box(P          R      mAP50  mAP50-95): 100%|██████████| 2/2 [00:00<00:00,  3.15it/s]"
          ]
        },
        {
          "output_type": "stream",
          "name": "stdout",
          "text": [
            "                   all         42        269      0.741       0.86      0.767      0.326\n"
          ]
        },
        {
          "output_type": "stream",
          "name": "stderr",
          "text": [
            "\n"
          ]
        },
        {
          "output_type": "stream",
          "name": "stdout",
          "text": [
            "\n",
            "      Epoch    GPU_mem   box_loss   cls_loss   dfl_loss  Instances       Size\n"
          ]
        },
        {
          "output_type": "stream",
          "name": "stderr",
          "text": [
            "     38/100      2.25G      1.673       1.03      1.395         19        640: 100%|██████████| 10/10 [00:02<00:00,  4.60it/s]\n",
            "                 Class     Images  Instances      Box(P          R      mAP50  mAP50-95): 100%|██████████| 2/2 [00:00<00:00,  4.17it/s]"
          ]
        },
        {
          "output_type": "stream",
          "name": "stdout",
          "text": [
            "                   all         42        269       0.77      0.829       0.79      0.332\n"
          ]
        },
        {
          "output_type": "stream",
          "name": "stderr",
          "text": [
            "\n"
          ]
        },
        {
          "output_type": "stream",
          "name": "stdout",
          "text": [
            "\n",
            "      Epoch    GPU_mem   box_loss   cls_loss   dfl_loss  Instances       Size\n"
          ]
        },
        {
          "output_type": "stream",
          "name": "stderr",
          "text": [
            "     39/100       2.2G      1.676      1.067      1.429         15        640: 100%|██████████| 10/10 [00:02<00:00,  4.88it/s]\n",
            "                 Class     Images  Instances      Box(P          R      mAP50  mAP50-95): 100%|██████████| 2/2 [00:00<00:00,  3.36it/s]\n"
          ]
        },
        {
          "output_type": "stream",
          "name": "stdout",
          "text": [
            "                   all         42        269      0.767      0.806      0.786      0.328\n",
            "\n",
            "      Epoch    GPU_mem   box_loss   cls_loss   dfl_loss  Instances       Size\n"
          ]
        },
        {
          "output_type": "stream",
          "name": "stderr",
          "text": [
            "     40/100      2.25G      1.674     0.9954      1.375         25        640: 100%|██████████| 10/10 [00:02<00:00,  3.59it/s]\n",
            "                 Class     Images  Instances      Box(P          R      mAP50  mAP50-95): 100%|██████████| 2/2 [00:00<00:00,  3.81it/s]"
          ]
        },
        {
          "output_type": "stream",
          "name": "stdout",
          "text": [
            "                   all         42        269      0.731      0.822      0.769      0.311\n"
          ]
        },
        {
          "output_type": "stream",
          "name": "stderr",
          "text": [
            "\n"
          ]
        },
        {
          "output_type": "stream",
          "name": "stdout",
          "text": [
            "\n",
            "      Epoch    GPU_mem   box_loss   cls_loss   dfl_loss  Instances       Size\n"
          ]
        },
        {
          "output_type": "stream",
          "name": "stderr",
          "text": [
            "     41/100      2.23G      1.639      1.009      1.355         16        640: 100%|██████████| 10/10 [00:01<00:00,  5.05it/s]\n",
            "                 Class     Images  Instances      Box(P          R      mAP50  mAP50-95): 100%|██████████| 2/2 [00:00<00:00,  3.08it/s]"
          ]
        },
        {
          "output_type": "stream",
          "name": "stdout",
          "text": [
            "                   all         42        269      0.793      0.844      0.827      0.347\n"
          ]
        },
        {
          "output_type": "stream",
          "name": "stderr",
          "text": [
            "\n"
          ]
        },
        {
          "output_type": "stream",
          "name": "stdout",
          "text": [
            "\n",
            "      Epoch    GPU_mem   box_loss   cls_loss   dfl_loss  Instances       Size\n"
          ]
        },
        {
          "output_type": "stream",
          "name": "stderr",
          "text": [
            "     42/100      2.21G      1.636      1.036      1.368         15        640: 100%|██████████| 10/10 [00:01<00:00,  5.03it/s]\n",
            "                 Class     Images  Instances      Box(P          R      mAP50  mAP50-95): 100%|██████████| 2/2 [00:00<00:00,  4.18it/s]"
          ]
        },
        {
          "output_type": "stream",
          "name": "stdout",
          "text": [
            "                   all         42        269      0.787       0.85       0.82      0.352\n"
          ]
        },
        {
          "output_type": "stream",
          "name": "stderr",
          "text": [
            "\n"
          ]
        },
        {
          "output_type": "stream",
          "name": "stdout",
          "text": [
            "\n",
            "      Epoch    GPU_mem   box_loss   cls_loss   dfl_loss  Instances       Size\n"
          ]
        },
        {
          "output_type": "stream",
          "name": "stderr",
          "text": [
            "     43/100      2.23G      1.641      1.023      1.391         27        640: 100%|██████████| 10/10 [00:02<00:00,  4.50it/s]\n",
            "                 Class     Images  Instances      Box(P          R      mAP50  mAP50-95): 100%|██████████| 2/2 [00:00<00:00,  2.17it/s]"
          ]
        },
        {
          "output_type": "stream",
          "name": "stdout",
          "text": [
            "                   all         42        269      0.792      0.841      0.813       0.35\n"
          ]
        },
        {
          "output_type": "stream",
          "name": "stderr",
          "text": [
            "\n"
          ]
        },
        {
          "output_type": "stream",
          "name": "stdout",
          "text": [
            "\n",
            "      Epoch    GPU_mem   box_loss   cls_loss   dfl_loss  Instances       Size\n"
          ]
        },
        {
          "output_type": "stream",
          "name": "stderr",
          "text": [
            "     44/100      2.28G      1.666      1.007      1.387         24        640: 100%|██████████| 10/10 [00:02<00:00,  4.50it/s]\n",
            "                 Class     Images  Instances      Box(P          R      mAP50  mAP50-95): 100%|██████████| 2/2 [00:00<00:00,  3.32it/s]"
          ]
        },
        {
          "output_type": "stream",
          "name": "stdout",
          "text": [
            "                   all         42        269      0.803      0.835      0.805      0.353\n"
          ]
        },
        {
          "output_type": "stream",
          "name": "stderr",
          "text": [
            "\n"
          ]
        },
        {
          "output_type": "stream",
          "name": "stdout",
          "text": [
            "\n",
            "      Epoch    GPU_mem   box_loss   cls_loss   dfl_loss  Instances       Size\n"
          ]
        },
        {
          "output_type": "stream",
          "name": "stderr",
          "text": [
            "     45/100      2.33G      1.648     0.9889      1.372         34        640: 100%|██████████| 10/10 [00:01<00:00,  5.06it/s]\n",
            "                 Class     Images  Instances      Box(P          R      mAP50  mAP50-95): 100%|██████████| 2/2 [00:00<00:00,  3.42it/s]"
          ]
        },
        {
          "output_type": "stream",
          "name": "stdout",
          "text": [
            "                   all         42        269        0.8      0.803      0.806      0.351\n"
          ]
        },
        {
          "output_type": "stream",
          "name": "stderr",
          "text": [
            "\n"
          ]
        },
        {
          "output_type": "stream",
          "name": "stdout",
          "text": [
            "\n",
            "      Epoch    GPU_mem   box_loss   cls_loss   dfl_loss  Instances       Size\n"
          ]
        },
        {
          "output_type": "stream",
          "name": "stderr",
          "text": [
            "     46/100      2.33G      1.595      1.031      1.411         36        640: 100%|██████████| 10/10 [00:02<00:00,  4.70it/s]\n",
            "                 Class     Images  Instances      Box(P          R      mAP50  mAP50-95): 100%|██████████| 2/2 [00:00<00:00,  5.14it/s]"
          ]
        },
        {
          "output_type": "stream",
          "name": "stdout",
          "text": [
            "                   all         42        269      0.788      0.824      0.797      0.344\n"
          ]
        },
        {
          "output_type": "stream",
          "name": "stderr",
          "text": [
            "\n"
          ]
        },
        {
          "output_type": "stream",
          "name": "stdout",
          "text": [
            "\n",
            "      Epoch    GPU_mem   box_loss   cls_loss   dfl_loss  Instances       Size\n"
          ]
        },
        {
          "output_type": "stream",
          "name": "stderr",
          "text": [
            "     47/100      2.23G      1.619     0.9716      1.375         24        640: 100%|██████████| 10/10 [00:02<00:00,  3.60it/s]\n",
            "                 Class     Images  Instances      Box(P          R      mAP50  mAP50-95): 100%|██████████| 2/2 [00:00<00:00,  2.25it/s]"
          ]
        },
        {
          "output_type": "stream",
          "name": "stdout",
          "text": [
            "                   all         42        269      0.794      0.859      0.818      0.353\n"
          ]
        },
        {
          "output_type": "stream",
          "name": "stderr",
          "text": [
            "\n"
          ]
        },
        {
          "output_type": "stream",
          "name": "stdout",
          "text": [
            "\n",
            "      Epoch    GPU_mem   box_loss   cls_loss   dfl_loss  Instances       Size\n"
          ]
        },
        {
          "output_type": "stream",
          "name": "stderr",
          "text": [
            "     48/100      2.25G      1.661     0.9708      1.357         18        640: 100%|██████████| 10/10 [00:02<00:00,  4.86it/s]\n",
            "                 Class     Images  Instances      Box(P          R      mAP50  mAP50-95): 100%|██████████| 2/2 [00:00<00:00,  3.24it/s]"
          ]
        },
        {
          "output_type": "stream",
          "name": "stdout",
          "text": [
            "                   all         42        269      0.792       0.85      0.808      0.348\n"
          ]
        },
        {
          "output_type": "stream",
          "name": "stderr",
          "text": [
            "\n"
          ]
        },
        {
          "output_type": "stream",
          "name": "stdout",
          "text": [
            "\n",
            "      Epoch    GPU_mem   box_loss   cls_loss   dfl_loss  Instances       Size\n"
          ]
        },
        {
          "output_type": "stream",
          "name": "stderr",
          "text": [
            "     49/100      2.29G      1.644     0.9969      1.352         33        640: 100%|██████████| 10/10 [00:02<00:00,  4.78it/s]\n",
            "                 Class     Images  Instances      Box(P          R      mAP50  mAP50-95): 100%|██████████| 2/2 [00:00<00:00,  3.55it/s]\n"
          ]
        },
        {
          "output_type": "stream",
          "name": "stdout",
          "text": [
            "                   all         42        269      0.763      0.807      0.782      0.324\n",
            "\n",
            "      Epoch    GPU_mem   box_loss   cls_loss   dfl_loss  Instances       Size\n"
          ]
        },
        {
          "output_type": "stream",
          "name": "stderr",
          "text": [
            "     50/100      2.21G      1.586     0.9819      1.345         26        640: 100%|██████████| 10/10 [00:02<00:00,  4.64it/s]\n",
            "                 Class     Images  Instances      Box(P          R      mAP50  mAP50-95): 100%|██████████| 2/2 [00:00<00:00,  4.40it/s]"
          ]
        },
        {
          "output_type": "stream",
          "name": "stdout",
          "text": [
            "                   all         42        269      0.808      0.787      0.814      0.343\n"
          ]
        },
        {
          "output_type": "stream",
          "name": "stderr",
          "text": [
            "\n"
          ]
        },
        {
          "output_type": "stream",
          "name": "stdout",
          "text": [
            "\n",
            "      Epoch    GPU_mem   box_loss   cls_loss   dfl_loss  Instances       Size\n"
          ]
        },
        {
          "output_type": "stream",
          "name": "stderr",
          "text": [
            "     51/100       2.3G      1.613     0.9523      1.347         31        640: 100%|██████████| 10/10 [00:02<00:00,  3.43it/s]\n",
            "                 Class     Images  Instances      Box(P          R      mAP50  mAP50-95): 100%|██████████| 2/2 [00:00<00:00,  4.21it/s]"
          ]
        },
        {
          "output_type": "stream",
          "name": "stdout",
          "text": [
            "                   all         42        269      0.827      0.792      0.827       0.36\n"
          ]
        },
        {
          "output_type": "stream",
          "name": "stderr",
          "text": [
            "\n"
          ]
        },
        {
          "output_type": "stream",
          "name": "stdout",
          "text": [
            "\n",
            "      Epoch    GPU_mem   box_loss   cls_loss   dfl_loss  Instances       Size\n"
          ]
        },
        {
          "output_type": "stream",
          "name": "stderr",
          "text": [
            "     52/100      2.24G      1.624     0.9719      1.383         28        640: 100%|██████████| 10/10 [00:02<00:00,  4.82it/s]\n",
            "                 Class     Images  Instances      Box(P          R      mAP50  mAP50-95): 100%|██████████| 2/2 [00:00<00:00,  3.46it/s]"
          ]
        },
        {
          "output_type": "stream",
          "name": "stdout",
          "text": [
            "                   all         42        269      0.824      0.808      0.813      0.355\n"
          ]
        },
        {
          "output_type": "stream",
          "name": "stderr",
          "text": [
            "\n"
          ]
        },
        {
          "output_type": "stream",
          "name": "stdout",
          "text": [
            "\n",
            "      Epoch    GPU_mem   box_loss   cls_loss   dfl_loss  Instances       Size\n"
          ]
        },
        {
          "output_type": "stream",
          "name": "stderr",
          "text": [
            "     53/100      2.19G      1.578      0.912      1.326         25        640: 100%|██████████| 10/10 [00:02<00:00,  4.69it/s]\n",
            "                 Class     Images  Instances      Box(P          R      mAP50  mAP50-95): 100%|██████████| 2/2 [00:00<00:00,  4.06it/s]"
          ]
        },
        {
          "output_type": "stream",
          "name": "stdout",
          "text": [
            "                   all         42        269      0.788      0.841       0.81      0.345\n"
          ]
        },
        {
          "output_type": "stream",
          "name": "stderr",
          "text": [
            "\n"
          ]
        },
        {
          "output_type": "stream",
          "name": "stdout",
          "text": [
            "\n",
            "      Epoch    GPU_mem   box_loss   cls_loss   dfl_loss  Instances       Size\n"
          ]
        },
        {
          "output_type": "stream",
          "name": "stderr",
          "text": [
            "     54/100       2.3G      1.646     0.8934      1.348         49        640: 100%|██████████| 10/10 [00:02<00:00,  4.39it/s]\n",
            "                 Class     Images  Instances      Box(P          R      mAP50  mAP50-95): 100%|██████████| 2/2 [00:00<00:00,  2.39it/s]"
          ]
        },
        {
          "output_type": "stream",
          "name": "stdout",
          "text": [
            "                   all         42        269      0.796       0.85       0.81      0.358\n"
          ]
        },
        {
          "output_type": "stream",
          "name": "stderr",
          "text": [
            "\n"
          ]
        },
        {
          "output_type": "stream",
          "name": "stdout",
          "text": [
            "\n",
            "      Epoch    GPU_mem   box_loss   cls_loss   dfl_loss  Instances       Size\n"
          ]
        },
        {
          "output_type": "stream",
          "name": "stderr",
          "text": [
            "     55/100      2.23G       1.62     0.9503      1.334         20        640: 100%|██████████| 10/10 [00:02<00:00,  4.45it/s]\n",
            "                 Class     Images  Instances      Box(P          R      mAP50  mAP50-95): 100%|██████████| 2/2 [00:00<00:00,  3.64it/s]"
          ]
        },
        {
          "output_type": "stream",
          "name": "stdout",
          "text": [
            "                   all         42        269      0.763      0.862      0.815      0.357\n"
          ]
        },
        {
          "output_type": "stream",
          "name": "stderr",
          "text": [
            "\n"
          ]
        },
        {
          "output_type": "stream",
          "name": "stdout",
          "text": [
            "\n",
            "      Epoch    GPU_mem   box_loss   cls_loss   dfl_loss  Instances       Size\n"
          ]
        },
        {
          "output_type": "stream",
          "name": "stderr",
          "text": [
            "     56/100      2.21G      1.599     0.8921       1.36         16        640: 100%|██████████| 10/10 [00:02<00:00,  4.70it/s]\n",
            "                 Class     Images  Instances      Box(P          R      mAP50  mAP50-95): 100%|██████████| 2/2 [00:00<00:00,  3.90it/s]"
          ]
        },
        {
          "output_type": "stream",
          "name": "stdout",
          "text": [
            "                   all         42        269      0.783      0.871      0.836      0.363\n"
          ]
        },
        {
          "output_type": "stream",
          "name": "stderr",
          "text": [
            "\n"
          ]
        },
        {
          "output_type": "stream",
          "name": "stdout",
          "text": [
            "\n",
            "      Epoch    GPU_mem   box_loss   cls_loss   dfl_loss  Instances       Size\n"
          ]
        },
        {
          "output_type": "stream",
          "name": "stderr",
          "text": [
            "     57/100       2.2G      1.585     0.9258      1.342         47        640: 100%|██████████| 10/10 [00:02<00:00,  4.96it/s]\n",
            "                 Class     Images  Instances      Box(P          R      mAP50  mAP50-95): 100%|██████████| 2/2 [00:00<00:00,  3.36it/s]"
          ]
        },
        {
          "output_type": "stream",
          "name": "stdout",
          "text": [
            "                   all         42        269      0.808      0.832      0.815      0.358\n"
          ]
        },
        {
          "output_type": "stream",
          "name": "stderr",
          "text": [
            "\n"
          ]
        },
        {
          "output_type": "stream",
          "name": "stdout",
          "text": [
            "\n",
            "      Epoch    GPU_mem   box_loss   cls_loss   dfl_loss  Instances       Size\n"
          ]
        },
        {
          "output_type": "stream",
          "name": "stderr",
          "text": [
            "     58/100      2.19G      1.631      0.927      1.363         37        640: 100%|██████████| 10/10 [00:02<00:00,  4.11it/s]\n",
            "                 Class     Images  Instances      Box(P          R      mAP50  mAP50-95): 100%|██████████| 2/2 [00:00<00:00,  2.15it/s]"
          ]
        },
        {
          "output_type": "stream",
          "name": "stdout",
          "text": [
            "                   all         42        269      0.798       0.85      0.797      0.353\n"
          ]
        },
        {
          "output_type": "stream",
          "name": "stderr",
          "text": [
            "\n"
          ]
        },
        {
          "output_type": "stream",
          "name": "stdout",
          "text": [
            "\n",
            "      Epoch    GPU_mem   box_loss   cls_loss   dfl_loss  Instances       Size\n"
          ]
        },
        {
          "output_type": "stream",
          "name": "stderr",
          "text": [
            "     59/100      2.22G      1.622     0.9269      1.344         17        640: 100%|██████████| 10/10 [00:02<00:00,  4.79it/s]\n",
            "                 Class     Images  Instances      Box(P          R      mAP50  mAP50-95): 100%|██████████| 2/2 [00:00<00:00,  3.60it/s]"
          ]
        },
        {
          "output_type": "stream",
          "name": "stdout",
          "text": [
            "                   all         42        269      0.803      0.837      0.797      0.348\n"
          ]
        },
        {
          "output_type": "stream",
          "name": "stderr",
          "text": [
            "\n"
          ]
        },
        {
          "output_type": "stream",
          "name": "stdout",
          "text": [
            "\n",
            "      Epoch    GPU_mem   box_loss   cls_loss   dfl_loss  Instances       Size\n"
          ]
        },
        {
          "output_type": "stream",
          "name": "stderr",
          "text": [
            "     60/100      2.21G      1.549     0.8919      1.319         14        640: 100%|██████████| 10/10 [00:02<00:00,  4.77it/s]\n",
            "                 Class     Images  Instances      Box(P          R      mAP50  mAP50-95): 100%|██████████| 2/2 [00:00<00:00,  3.38it/s]"
          ]
        },
        {
          "output_type": "stream",
          "name": "stdout",
          "text": [
            "                   all         42        269      0.823      0.802        0.8      0.349\n"
          ]
        },
        {
          "output_type": "stream",
          "name": "stderr",
          "text": [
            "\n"
          ]
        },
        {
          "output_type": "stream",
          "name": "stdout",
          "text": [
            "\n",
            "      Epoch    GPU_mem   box_loss   cls_loss   dfl_loss  Instances       Size\n"
          ]
        },
        {
          "output_type": "stream",
          "name": "stderr",
          "text": [
            "     61/100      2.23G      1.608     0.9359      1.347         12        640: 100%|██████████| 10/10 [00:01<00:00,  5.05it/s]\n",
            "                 Class     Images  Instances      Box(P          R      mAP50  mAP50-95): 100%|██████████| 2/2 [00:00<00:00,  3.61it/s]"
          ]
        },
        {
          "output_type": "stream",
          "name": "stdout",
          "text": [
            "                   all         42        269      0.825      0.824      0.797      0.361\n"
          ]
        },
        {
          "output_type": "stream",
          "name": "stderr",
          "text": [
            "\n"
          ]
        },
        {
          "output_type": "stream",
          "name": "stdout",
          "text": [
            "\n",
            "      Epoch    GPU_mem   box_loss   cls_loss   dfl_loss  Instances       Size\n"
          ]
        },
        {
          "output_type": "stream",
          "name": "stderr",
          "text": [
            "     62/100       2.2G      1.608     0.9116      1.332         16        640: 100%|██████████| 10/10 [00:02<00:00,  3.46it/s]\n",
            "                 Class     Images  Instances      Box(P          R      mAP50  mAP50-95): 100%|██████████| 2/2 [00:00<00:00,  3.81it/s]"
          ]
        },
        {
          "output_type": "stream",
          "name": "stdout",
          "text": [
            "                   all         42        269       0.79      0.853      0.764      0.354\n"
          ]
        },
        {
          "output_type": "stream",
          "name": "stderr",
          "text": [
            "\n"
          ]
        },
        {
          "output_type": "stream",
          "name": "stdout",
          "text": [
            "\n",
            "      Epoch    GPU_mem   box_loss   cls_loss   dfl_loss  Instances       Size\n"
          ]
        },
        {
          "output_type": "stream",
          "name": "stderr",
          "text": [
            "     63/100      2.21G      1.548     0.8647      1.302         47        640: 100%|██████████| 10/10 [00:02<00:00,  4.78it/s]\n",
            "                 Class     Images  Instances      Box(P          R      mAP50  mAP50-95): 100%|██████████| 2/2 [00:00<00:00,  3.52it/s]"
          ]
        },
        {
          "output_type": "stream",
          "name": "stdout",
          "text": [
            "                   all         42        269       0.78       0.86      0.758      0.339\n"
          ]
        },
        {
          "output_type": "stream",
          "name": "stderr",
          "text": [
            "\n"
          ]
        },
        {
          "output_type": "stream",
          "name": "stdout",
          "text": [
            "\n",
            "      Epoch    GPU_mem   box_loss   cls_loss   dfl_loss  Instances       Size\n"
          ]
        },
        {
          "output_type": "stream",
          "name": "stderr",
          "text": [
            "     64/100      2.23G       1.55     0.8491       1.31         24        640: 100%|██████████| 10/10 [00:02<00:00,  4.87it/s]\n",
            "                 Class     Images  Instances      Box(P          R      mAP50  mAP50-95): 100%|██████████| 2/2 [00:00<00:00,  3.45it/s]"
          ]
        },
        {
          "output_type": "stream",
          "name": "stdout",
          "text": [
            "                   all         42        269      0.793      0.858      0.785       0.35\n"
          ]
        },
        {
          "output_type": "stream",
          "name": "stderr",
          "text": [
            "\n"
          ]
        },
        {
          "output_type": "stream",
          "name": "stdout",
          "text": [
            "\n",
            "      Epoch    GPU_mem   box_loss   cls_loss   dfl_loss  Instances       Size\n"
          ]
        },
        {
          "output_type": "stream",
          "name": "stderr",
          "text": [
            "     65/100       2.3G      1.571     0.8854      1.312         38        640: 100%|██████████| 10/10 [00:02<00:00,  4.80it/s]\n",
            "                 Class     Images  Instances      Box(P          R      mAP50  mAP50-95): 100%|██████████| 2/2 [00:00<00:00,  2.82it/s]"
          ]
        },
        {
          "output_type": "stream",
          "name": "stdout",
          "text": [
            "                   all         42        269      0.816      0.858      0.802      0.358\n"
          ]
        },
        {
          "output_type": "stream",
          "name": "stderr",
          "text": [
            "\n"
          ]
        },
        {
          "output_type": "stream",
          "name": "stdout",
          "text": [
            "\n",
            "      Epoch    GPU_mem   box_loss   cls_loss   dfl_loss  Instances       Size\n"
          ]
        },
        {
          "output_type": "stream",
          "name": "stderr",
          "text": [
            "     66/100      2.22G       1.51     0.8599      1.298         37        640: 100%|██████████| 10/10 [00:02<00:00,  4.02it/s]\n",
            "                 Class     Images  Instances      Box(P          R      mAP50  mAP50-95): 100%|██████████| 2/2 [00:00<00:00,  3.52it/s]"
          ]
        },
        {
          "output_type": "stream",
          "name": "stdout",
          "text": [
            "                   all         42        269       0.84      0.842      0.824      0.375\n"
          ]
        },
        {
          "output_type": "stream",
          "name": "stderr",
          "text": [
            "\n"
          ]
        },
        {
          "output_type": "stream",
          "name": "stdout",
          "text": [
            "\n",
            "      Epoch    GPU_mem   box_loss   cls_loss   dfl_loss  Instances       Size\n"
          ]
        },
        {
          "output_type": "stream",
          "name": "stderr",
          "text": [
            "     67/100      2.34G       1.56      0.862      1.279         41        640: 100%|██████████| 10/10 [00:02<00:00,  4.71it/s]\n",
            "                 Class     Images  Instances      Box(P          R      mAP50  mAP50-95): 100%|██████████| 2/2 [00:00<00:00,  2.95it/s]"
          ]
        },
        {
          "output_type": "stream",
          "name": "stdout",
          "text": [
            "                   all         42        269      0.865      0.818      0.826      0.373\n"
          ]
        },
        {
          "output_type": "stream",
          "name": "stderr",
          "text": [
            "\n"
          ]
        },
        {
          "output_type": "stream",
          "name": "stdout",
          "text": [
            "\n",
            "      Epoch    GPU_mem   box_loss   cls_loss   dfl_loss  Instances       Size\n"
          ]
        },
        {
          "output_type": "stream",
          "name": "stderr",
          "text": [
            "     68/100      2.27G      1.582     0.8422      1.295         33        640: 100%|██████████| 10/10 [00:02<00:00,  4.48it/s]\n",
            "                 Class     Images  Instances      Box(P          R      mAP50  mAP50-95): 100%|██████████| 2/2 [00:00<00:00,  4.65it/s]"
          ]
        },
        {
          "output_type": "stream",
          "name": "stdout",
          "text": [
            "                   all         42        269      0.814      0.848      0.808      0.355\n"
          ]
        },
        {
          "output_type": "stream",
          "name": "stderr",
          "text": [
            "\n"
          ]
        },
        {
          "output_type": "stream",
          "name": "stdout",
          "text": [
            "\n",
            "      Epoch    GPU_mem   box_loss   cls_loss   dfl_loss  Instances       Size\n"
          ]
        },
        {
          "output_type": "stream",
          "name": "stderr",
          "text": [
            "     69/100      2.19G       1.55     0.9139      1.306         14        640: 100%|██████████| 10/10 [00:02<00:00,  4.17it/s]\n",
            "                 Class     Images  Instances      Box(P          R      mAP50  mAP50-95): 100%|██████████| 2/2 [00:01<00:00,  1.87it/s]"
          ]
        },
        {
          "output_type": "stream",
          "name": "stdout",
          "text": [
            "                   all         42        269      0.779      0.831      0.786      0.347\n"
          ]
        },
        {
          "output_type": "stream",
          "name": "stderr",
          "text": [
            "\n"
          ]
        },
        {
          "output_type": "stream",
          "name": "stdout",
          "text": [
            "\n",
            "      Epoch    GPU_mem   box_loss   cls_loss   dfl_loss  Instances       Size\n"
          ]
        },
        {
          "output_type": "stream",
          "name": "stderr",
          "text": [
            "     70/100      2.22G      1.546     0.8594      1.315         13        640: 100%|██████████| 10/10 [00:02<00:00,  4.78it/s]\n",
            "                 Class     Images  Instances      Box(P          R      mAP50  mAP50-95): 100%|██████████| 2/2 [00:00<00:00,  3.41it/s]"
          ]
        },
        {
          "output_type": "stream",
          "name": "stdout",
          "text": [
            "                   all         42        269       0.77      0.858      0.787      0.347\n"
          ]
        },
        {
          "output_type": "stream",
          "name": "stderr",
          "text": [
            "\n"
          ]
        },
        {
          "output_type": "stream",
          "name": "stdout",
          "text": [
            "\n",
            "      Epoch    GPU_mem   box_loss   cls_loss   dfl_loss  Instances       Size\n"
          ]
        },
        {
          "output_type": "stream",
          "name": "stderr",
          "text": [
            "     71/100      2.23G      1.563     0.8344      1.292         57        640: 100%|██████████| 10/10 [00:01<00:00,  5.07it/s]\n",
            "                 Class     Images  Instances      Box(P          R      mAP50  mAP50-95): 100%|██████████| 2/2 [00:00<00:00,  3.26it/s]"
          ]
        },
        {
          "output_type": "stream",
          "name": "stdout",
          "text": [
            "                   all         42        269      0.802      0.831      0.803      0.354\n"
          ]
        },
        {
          "output_type": "stream",
          "name": "stderr",
          "text": [
            "\n"
          ]
        },
        {
          "output_type": "stream",
          "name": "stdout",
          "text": [
            "\n",
            "      Epoch    GPU_mem   box_loss   cls_loss   dfl_loss  Instances       Size\n"
          ]
        },
        {
          "output_type": "stream",
          "name": "stderr",
          "text": [
            "     72/100      2.21G       1.52     0.8379      1.292         20        640: 100%|██████████| 10/10 [00:02<00:00,  4.70it/s]\n",
            "                 Class     Images  Instances      Box(P          R      mAP50  mAP50-95): 100%|██████████| 2/2 [00:00<00:00,  3.50it/s]\n"
          ]
        },
        {
          "output_type": "stream",
          "name": "stdout",
          "text": [
            "                   all         42        269      0.776       0.85      0.799      0.354\n",
            "\n",
            "      Epoch    GPU_mem   box_loss   cls_loss   dfl_loss  Instances       Size\n"
          ]
        },
        {
          "output_type": "stream",
          "name": "stderr",
          "text": [
            "     73/100      2.23G       1.48     0.8197        1.3         12        640: 100%|██████████| 10/10 [00:02<00:00,  3.48it/s]\n",
            "                 Class     Images  Instances      Box(P          R      mAP50  mAP50-95): 100%|██████████| 2/2 [00:00<00:00,  2.92it/s]"
          ]
        },
        {
          "output_type": "stream",
          "name": "stdout",
          "text": [
            "                   all         42        269      0.809      0.828      0.812      0.359\n"
          ]
        },
        {
          "output_type": "stream",
          "name": "stderr",
          "text": [
            "\n"
          ]
        },
        {
          "output_type": "stream",
          "name": "stdout",
          "text": [
            "\n",
            "      Epoch    GPU_mem   box_loss   cls_loss   dfl_loss  Instances       Size\n"
          ]
        },
        {
          "output_type": "stream",
          "name": "stderr",
          "text": [
            "     74/100      2.27G      1.596     0.8384      1.268         36        640: 100%|██████████| 10/10 [00:02<00:00,  4.51it/s]\n",
            "                 Class     Images  Instances      Box(P          R      mAP50  mAP50-95): 100%|██████████| 2/2 [00:00<00:00,  3.77it/s]"
          ]
        },
        {
          "output_type": "stream",
          "name": "stdout",
          "text": [
            "                   all         42        269      0.788       0.86      0.813       0.36\n"
          ]
        },
        {
          "output_type": "stream",
          "name": "stderr",
          "text": [
            "\n"
          ]
        },
        {
          "output_type": "stream",
          "name": "stdout",
          "text": [
            "\n",
            "      Epoch    GPU_mem   box_loss   cls_loss   dfl_loss  Instances       Size\n"
          ]
        },
        {
          "output_type": "stream",
          "name": "stderr",
          "text": [
            "     75/100      2.21G      1.585     0.8479      1.306         70        640: 100%|██████████| 10/10 [00:02<00:00,  4.81it/s]\n",
            "                 Class     Images  Instances      Box(P          R      mAP50  mAP50-95): 100%|██████████| 2/2 [00:00<00:00,  3.61it/s]"
          ]
        },
        {
          "output_type": "stream",
          "name": "stdout",
          "text": [
            "                   all         42        269      0.785      0.846      0.793      0.353\n"
          ]
        },
        {
          "output_type": "stream",
          "name": "stderr",
          "text": [
            "\n"
          ]
        },
        {
          "output_type": "stream",
          "name": "stdout",
          "text": [
            "\n",
            "      Epoch    GPU_mem   box_loss   cls_loss   dfl_loss  Instances       Size\n"
          ]
        },
        {
          "output_type": "stream",
          "name": "stderr",
          "text": [
            "     76/100      2.24G      1.512     0.8061      1.298         19        640: 100%|██████████| 10/10 [00:02<00:00,  4.83it/s]\n",
            "                 Class     Images  Instances      Box(P          R      mAP50  mAP50-95): 100%|██████████| 2/2 [00:00<00:00,  3.51it/s]"
          ]
        },
        {
          "output_type": "stream",
          "name": "stdout",
          "text": [
            "                   all         42        269      0.798      0.822      0.787      0.359\n"
          ]
        },
        {
          "output_type": "stream",
          "name": "stderr",
          "text": [
            "\n"
          ]
        },
        {
          "output_type": "stream",
          "name": "stdout",
          "text": [
            "\n",
            "      Epoch    GPU_mem   box_loss   cls_loss   dfl_loss  Instances       Size\n"
          ]
        },
        {
          "output_type": "stream",
          "name": "stderr",
          "text": [
            "     77/100      2.21G      1.479     0.8229      1.279         17        640: 100%|██████████| 10/10 [00:02<00:00,  3.84it/s]\n",
            "                 Class     Images  Instances      Box(P          R      mAP50  mAP50-95): 100%|██████████| 2/2 [00:00<00:00,  3.74it/s]"
          ]
        },
        {
          "output_type": "stream",
          "name": "stdout",
          "text": [
            "                   all         42        269      0.813       0.83      0.807      0.361\n"
          ]
        },
        {
          "output_type": "stream",
          "name": "stderr",
          "text": [
            "\n"
          ]
        },
        {
          "output_type": "stream",
          "name": "stdout",
          "text": [
            "\n",
            "      Epoch    GPU_mem   box_loss   cls_loss   dfl_loss  Instances       Size\n"
          ]
        },
        {
          "output_type": "stream",
          "name": "stderr",
          "text": [
            "     78/100      2.22G      1.415     0.7883      1.236          6        640: 100%|██████████| 10/10 [00:02<00:00,  4.70it/s]\n",
            "                 Class     Images  Instances      Box(P          R      mAP50  mAP50-95): 100%|██████████| 2/2 [00:00<00:00,  3.89it/s]"
          ]
        },
        {
          "output_type": "stream",
          "name": "stdout",
          "text": [
            "                   all         42        269      0.794      0.867      0.819      0.361\n"
          ]
        },
        {
          "output_type": "stream",
          "name": "stderr",
          "text": [
            "\n"
          ]
        },
        {
          "output_type": "stream",
          "name": "stdout",
          "text": [
            "\n",
            "      Epoch    GPU_mem   box_loss   cls_loss   dfl_loss  Instances       Size\n"
          ]
        },
        {
          "output_type": "stream",
          "name": "stderr",
          "text": [
            "     79/100      2.39G      1.468     0.8213      1.279         26        640: 100%|██████████| 10/10 [00:02<00:00,  4.68it/s]\n",
            "                 Class     Images  Instances      Box(P          R      mAP50  mAP50-95): 100%|██████████| 2/2 [00:00<00:00,  3.50it/s]"
          ]
        },
        {
          "output_type": "stream",
          "name": "stdout",
          "text": [
            "                   all         42        269      0.814      0.853      0.816      0.359\n"
          ]
        },
        {
          "output_type": "stream",
          "name": "stderr",
          "text": [
            "\n"
          ]
        },
        {
          "output_type": "stream",
          "name": "stdout",
          "text": [
            "\n",
            "      Epoch    GPU_mem   box_loss   cls_loss   dfl_loss  Instances       Size\n"
          ]
        },
        {
          "output_type": "stream",
          "name": "stderr",
          "text": [
            "     80/100      2.28G      1.466     0.8037      1.242         35        640: 100%|██████████| 10/10 [00:02<00:00,  4.43it/s]\n",
            "                 Class     Images  Instances      Box(P          R      mAP50  mAP50-95): 100%|██████████| 2/2 [00:00<00:00,  2.40it/s]"
          ]
        },
        {
          "output_type": "stream",
          "name": "stdout",
          "text": [
            "                   all         42        269      0.818      0.846      0.819      0.367\n"
          ]
        },
        {
          "output_type": "stream",
          "name": "stderr",
          "text": [
            "\n"
          ]
        },
        {
          "output_type": "stream",
          "name": "stdout",
          "text": [
            "\n",
            "      Epoch    GPU_mem   box_loss   cls_loss   dfl_loss  Instances       Size\n"
          ]
        },
        {
          "output_type": "stream",
          "name": "stderr",
          "text": [
            "     81/100      2.22G      1.435     0.7982      1.263         25        640: 100%|██████████| 10/10 [00:02<00:00,  4.38it/s]\n",
            "                 Class     Images  Instances      Box(P          R      mAP50  mAP50-95): 100%|██████████| 2/2 [00:00<00:00,  3.63it/s]"
          ]
        },
        {
          "output_type": "stream",
          "name": "stdout",
          "text": [
            "                   all         42        269      0.809      0.855      0.828      0.369\n"
          ]
        },
        {
          "output_type": "stream",
          "name": "stderr",
          "text": [
            "\n"
          ]
        },
        {
          "output_type": "stream",
          "name": "stdout",
          "text": [
            "\n",
            "      Epoch    GPU_mem   box_loss   cls_loss   dfl_loss  Instances       Size\n"
          ]
        },
        {
          "output_type": "stream",
          "name": "stderr",
          "text": [
            "     82/100      2.22G      1.509     0.7779      1.282         27        640: 100%|██████████| 10/10 [00:02<00:00,  4.64it/s]\n",
            "                 Class     Images  Instances      Box(P          R      mAP50  mAP50-95): 100%|██████████| 2/2 [00:00<00:00,  3.95it/s]"
          ]
        },
        {
          "output_type": "stream",
          "name": "stdout",
          "text": [
            "                   all         42        269      0.809      0.839      0.825      0.369\n"
          ]
        },
        {
          "output_type": "stream",
          "name": "stderr",
          "text": [
            "\n"
          ]
        },
        {
          "output_type": "stream",
          "name": "stdout",
          "text": [
            "\n",
            "      Epoch    GPU_mem   box_loss   cls_loss   dfl_loss  Instances       Size\n"
          ]
        },
        {
          "output_type": "stream",
          "name": "stderr",
          "text": [
            "     83/100      2.23G      1.565      0.789      1.289         24        640: 100%|██████████| 10/10 [00:02<00:00,  4.95it/s]\n",
            "                 Class     Images  Instances      Box(P          R      mAP50  mAP50-95): 100%|██████████| 2/2 [00:00<00:00,  3.47it/s]"
          ]
        },
        {
          "output_type": "stream",
          "name": "stdout",
          "text": [
            "                   all         42        269      0.828      0.828      0.822      0.366\n"
          ]
        },
        {
          "output_type": "stream",
          "name": "stderr",
          "text": [
            "\n"
          ]
        },
        {
          "output_type": "stream",
          "name": "stdout",
          "text": [
            "\n",
            "      Epoch    GPU_mem   box_loss   cls_loss   dfl_loss  Instances       Size\n"
          ]
        },
        {
          "output_type": "stream",
          "name": "stderr",
          "text": [
            "     84/100       2.3G      1.523     0.8286      1.295         22        640: 100%|██████████| 10/10 [00:02<00:00,  3.40it/s]\n",
            "                 Class     Images  Instances      Box(P          R      mAP50  mAP50-95): 100%|██████████| 2/2 [00:00<00:00,  3.17it/s]"
          ]
        },
        {
          "output_type": "stream",
          "name": "stdout",
          "text": [
            "                   all         42        269      0.815      0.853      0.836      0.371\n"
          ]
        },
        {
          "output_type": "stream",
          "name": "stderr",
          "text": [
            "\n"
          ]
        },
        {
          "output_type": "stream",
          "name": "stdout",
          "text": [
            "\n",
            "      Epoch    GPU_mem   box_loss   cls_loss   dfl_loss  Instances       Size\n"
          ]
        },
        {
          "output_type": "stream",
          "name": "stderr",
          "text": [
            "     85/100      2.31G       1.43     0.7915      1.241         20        640: 100%|██████████| 10/10 [00:02<00:00,  4.79it/s]\n",
            "                 Class     Images  Instances      Box(P          R      mAP50  mAP50-95): 100%|██████████| 2/2 [00:00<00:00,  3.42it/s]"
          ]
        },
        {
          "output_type": "stream",
          "name": "stdout",
          "text": [
            "                   all         42        269      0.797      0.875       0.83      0.366\n"
          ]
        },
        {
          "output_type": "stream",
          "name": "stderr",
          "text": [
            "\n"
          ]
        },
        {
          "output_type": "stream",
          "name": "stdout",
          "text": [
            "\n",
            "      Epoch    GPU_mem   box_loss   cls_loss   dfl_loss  Instances       Size\n"
          ]
        },
        {
          "output_type": "stream",
          "name": "stderr",
          "text": [
            "     86/100      2.24G      1.488     0.7789      1.256         32        640: 100%|██████████| 10/10 [00:02<00:00,  4.82it/s]\n",
            "                 Class     Images  Instances      Box(P          R      mAP50  mAP50-95): 100%|██████████| 2/2 [00:00<00:00,  3.61it/s]\n"
          ]
        },
        {
          "output_type": "stream",
          "name": "stdout",
          "text": [
            "                   all         42        269      0.803      0.863      0.826      0.361\n",
            "\n",
            "      Epoch    GPU_mem   box_loss   cls_loss   dfl_loss  Instances       Size\n"
          ]
        },
        {
          "output_type": "stream",
          "name": "stderr",
          "text": [
            "     87/100       2.2G      1.386     0.7803      1.214         17        640: 100%|██████████| 10/10 [00:02<00:00,  4.74it/s]\n",
            "                 Class     Images  Instances      Box(P          R      mAP50  mAP50-95): 100%|██████████| 2/2 [00:00<00:00,  3.32it/s]"
          ]
        },
        {
          "output_type": "stream",
          "name": "stdout",
          "text": [
            "                   all         42        269      0.807      0.847       0.82      0.354\n"
          ]
        },
        {
          "output_type": "stream",
          "name": "stderr",
          "text": [
            "\n"
          ]
        },
        {
          "output_type": "stream",
          "name": "stdout",
          "text": [
            "\n",
            "      Epoch    GPU_mem   box_loss   cls_loss   dfl_loss  Instances       Size\n"
          ]
        },
        {
          "output_type": "stream",
          "name": "stderr",
          "text": [
            "     88/100      2.21G       1.38     0.7669      1.259         13        640: 100%|██████████| 10/10 [00:02<00:00,  3.58it/s]\n",
            "                 Class     Images  Instances      Box(P          R      mAP50  mAP50-95): 100%|██████████| 2/2 [00:00<00:00,  3.61it/s]"
          ]
        },
        {
          "output_type": "stream",
          "name": "stdout",
          "text": [
            "                   all         42        269      0.805      0.835      0.814      0.354\n"
          ]
        },
        {
          "output_type": "stream",
          "name": "stderr",
          "text": [
            "\n"
          ]
        },
        {
          "output_type": "stream",
          "name": "stdout",
          "text": [
            "\n",
            "      Epoch    GPU_mem   box_loss   cls_loss   dfl_loss  Instances       Size\n"
          ]
        },
        {
          "output_type": "stream",
          "name": "stderr",
          "text": [
            "     89/100      2.31G      1.409     0.7713      1.205         24        640: 100%|██████████| 10/10 [00:02<00:00,  4.73it/s]\n",
            "                 Class     Images  Instances      Box(P          R      mAP50  mAP50-95): 100%|██████████| 2/2 [00:00<00:00,  3.33it/s]"
          ]
        },
        {
          "output_type": "stream",
          "name": "stdout",
          "text": [
            "                   all         42        269      0.791      0.862      0.811      0.356\n"
          ]
        },
        {
          "output_type": "stream",
          "name": "stderr",
          "text": [
            "\n"
          ]
        },
        {
          "output_type": "stream",
          "name": "stdout",
          "text": [
            "\n",
            "      Epoch    GPU_mem   box_loss   cls_loss   dfl_loss  Instances       Size\n"
          ]
        },
        {
          "output_type": "stream",
          "name": "stderr",
          "text": [
            "     90/100      2.21G      1.514     0.7808      1.258         13        640: 100%|██████████| 10/10 [00:02<00:00,  4.61it/s]\n",
            "                 Class     Images  Instances      Box(P          R      mAP50  mAP50-95): 100%|██████████| 2/2 [00:00<00:00,  3.55it/s]"
          ]
        },
        {
          "output_type": "stream",
          "name": "stdout",
          "text": [
            "                   all         42        269      0.793      0.854      0.796       0.36\n"
          ]
        },
        {
          "output_type": "stream",
          "name": "stderr",
          "text": [
            "\n"
          ]
        },
        {
          "output_type": "stream",
          "name": "stdout",
          "text": [
            "Closing dataloader mosaic\n",
            "\u001b[34m\u001b[1malbumentations: \u001b[0mBlur(p=0.01, blur_limit=(3, 7)), MedianBlur(p=0.01, blur_limit=(3, 7)), ToGray(p=0.01), CLAHE(p=0.01, clip_limit=(1, 4.0), tile_grid_size=(8, 8))\n",
            "\n",
            "      Epoch    GPU_mem   box_loss   cls_loss   dfl_loss  Instances       Size\n"
          ]
        },
        {
          "output_type": "stream",
          "name": "stderr",
          "text": [
            "     91/100       2.6G      1.458      0.794      1.294         21        640: 100%|██████████| 10/10 [00:05<00:00,  1.75it/s]\n",
            "                 Class     Images  Instances      Box(P          R      mAP50  mAP50-95): 100%|██████████| 2/2 [00:00<00:00,  4.31it/s]"
          ]
        },
        {
          "output_type": "stream",
          "name": "stdout",
          "text": [
            "                   all         42        269      0.787      0.861      0.797      0.369\n"
          ]
        },
        {
          "output_type": "stream",
          "name": "stderr",
          "text": [
            "\n"
          ]
        },
        {
          "output_type": "stream",
          "name": "stdout",
          "text": [
            "\n",
            "      Epoch    GPU_mem   box_loss   cls_loss   dfl_loss  Instances       Size\n"
          ]
        },
        {
          "output_type": "stream",
          "name": "stderr",
          "text": [
            "     92/100      2.19G      1.441     0.7738      1.345          5        640: 100%|██████████| 10/10 [00:01<00:00,  5.24it/s]\n",
            "                 Class     Images  Instances      Box(P          R      mAP50  mAP50-95): 100%|██████████| 2/2 [00:00<00:00,  3.25it/s]"
          ]
        },
        {
          "output_type": "stream",
          "name": "stdout",
          "text": [
            "                   all         42        269      0.783      0.856       0.81       0.37\n"
          ]
        },
        {
          "output_type": "stream",
          "name": "stderr",
          "text": [
            "\n"
          ]
        },
        {
          "output_type": "stream",
          "name": "stdout",
          "text": [
            "\n",
            "      Epoch    GPU_mem   box_loss   cls_loss   dfl_loss  Instances       Size\n"
          ]
        },
        {
          "output_type": "stream",
          "name": "stderr",
          "text": [
            "     93/100       2.3G      1.421     0.7866      1.332          8        640: 100%|██████████| 10/10 [00:02<00:00,  4.68it/s]\n",
            "                 Class     Images  Instances      Box(P          R      mAP50  mAP50-95): 100%|██████████| 2/2 [00:00<00:00,  4.13it/s]"
          ]
        },
        {
          "output_type": "stream",
          "name": "stdout",
          "text": [
            "                   all         42        269      0.809      0.842      0.812      0.363\n"
          ]
        },
        {
          "output_type": "stream",
          "name": "stderr",
          "text": [
            "\n"
          ]
        },
        {
          "output_type": "stream",
          "name": "stdout",
          "text": [
            "\n",
            "      Epoch    GPU_mem   box_loss   cls_loss   dfl_loss  Instances       Size\n"
          ]
        },
        {
          "output_type": "stream",
          "name": "stderr",
          "text": [
            "     94/100      2.33G      1.497     0.7664      1.292         11        640: 100%|██████████| 10/10 [00:02<00:00,  4.32it/s]\n",
            "                 Class     Images  Instances      Box(P          R      mAP50  mAP50-95): 100%|██████████| 2/2 [00:00<00:00,  2.16it/s]"
          ]
        },
        {
          "output_type": "stream",
          "name": "stdout",
          "text": [
            "                   all         42        269      0.811       0.83      0.805      0.358\n"
          ]
        },
        {
          "output_type": "stream",
          "name": "stderr",
          "text": [
            "\n"
          ]
        },
        {
          "output_type": "stream",
          "name": "stdout",
          "text": [
            "\n",
            "      Epoch    GPU_mem   box_loss   cls_loss   dfl_loss  Instances       Size\n"
          ]
        },
        {
          "output_type": "stream",
          "name": "stderr",
          "text": [
            "     95/100      2.33G      1.398     0.7254      1.277         21        640: 100%|██████████| 10/10 [00:01<00:00,  5.05it/s]\n",
            "                 Class     Images  Instances      Box(P          R      mAP50  mAP50-95): 100%|██████████| 2/2 [00:00<00:00,  3.14it/s]"
          ]
        },
        {
          "output_type": "stream",
          "name": "stdout",
          "text": [
            "                   all         42        269      0.801      0.847      0.808      0.358\n"
          ]
        },
        {
          "output_type": "stream",
          "name": "stderr",
          "text": [
            "\n"
          ]
        },
        {
          "output_type": "stream",
          "name": "stdout",
          "text": [
            "\n",
            "      Epoch    GPU_mem   box_loss   cls_loss   dfl_loss  Instances       Size\n"
          ]
        },
        {
          "output_type": "stream",
          "name": "stderr",
          "text": [
            "     96/100      2.31G      1.408     0.7184      1.258         19        640: 100%|██████████| 10/10 [00:02<00:00,  4.79it/s]\n",
            "                 Class     Images  Instances      Box(P          R      mAP50  mAP50-95): 100%|██████████| 2/2 [00:00<00:00,  4.05it/s]"
          ]
        },
        {
          "output_type": "stream",
          "name": "stdout",
          "text": [
            "                   all         42        269       0.81      0.847      0.806      0.358\n"
          ]
        },
        {
          "output_type": "stream",
          "name": "stderr",
          "text": [
            "\n"
          ]
        },
        {
          "output_type": "stream",
          "name": "stdout",
          "text": [
            "\n",
            "      Epoch    GPU_mem   box_loss   cls_loss   dfl_loss  Instances       Size\n"
          ]
        },
        {
          "output_type": "stream",
          "name": "stderr",
          "text": [
            "     97/100      2.32G      1.406     0.7875      1.275         10        640: 100%|██████████| 10/10 [00:02<00:00,  4.97it/s]\n",
            "                 Class     Images  Instances      Box(P          R      mAP50  mAP50-95): 100%|██████████| 2/2 [00:00<00:00,  3.81it/s]"
          ]
        },
        {
          "output_type": "stream",
          "name": "stdout",
          "text": [
            "                   all         42        269      0.813      0.857      0.811      0.359\n"
          ]
        },
        {
          "output_type": "stream",
          "name": "stderr",
          "text": [
            "\n"
          ]
        },
        {
          "output_type": "stream",
          "name": "stdout",
          "text": [
            "\n",
            "      Epoch    GPU_mem   box_loss   cls_loss   dfl_loss  Instances       Size\n"
          ]
        },
        {
          "output_type": "stream",
          "name": "stderr",
          "text": [
            "     98/100       2.3G      1.399     0.7218      1.255         10        640: 100%|██████████| 10/10 [00:02<00:00,  3.53it/s]\n",
            "                 Class     Images  Instances      Box(P          R      mAP50  mAP50-95): 100%|██████████| 2/2 [00:00<00:00,  2.92it/s]"
          ]
        },
        {
          "output_type": "stream",
          "name": "stdout",
          "text": [
            "                   all         42        269      0.815      0.854       0.81      0.359\n"
          ]
        },
        {
          "output_type": "stream",
          "name": "stderr",
          "text": [
            "\n"
          ]
        },
        {
          "output_type": "stream",
          "name": "stdout",
          "text": [
            "\n",
            "      Epoch    GPU_mem   box_loss   cls_loss   dfl_loss  Instances       Size\n"
          ]
        },
        {
          "output_type": "stream",
          "name": "stderr",
          "text": [
            "     99/100      2.19G      1.383     0.7351       1.26         11        640: 100%|██████████| 10/10 [00:01<00:00,  5.26it/s]\n",
            "                 Class     Images  Instances      Box(P          R      mAP50  mAP50-95): 100%|██████████| 2/2 [00:00<00:00,  3.11it/s]"
          ]
        },
        {
          "output_type": "stream",
          "name": "stdout",
          "text": [
            "                   all         42        269      0.809      0.851      0.808      0.363\n"
          ]
        },
        {
          "output_type": "stream",
          "name": "stderr",
          "text": [
            "\n"
          ]
        },
        {
          "output_type": "stream",
          "name": "stdout",
          "text": [
            "\n",
            "      Epoch    GPU_mem   box_loss   cls_loss   dfl_loss  Instances       Size\n"
          ]
        },
        {
          "output_type": "stream",
          "name": "stderr",
          "text": [
            "    100/100       2.3G      1.399     0.7271      1.239         11        640: 100%|██████████| 10/10 [00:02<00:00,  4.77it/s]\n",
            "                 Class     Images  Instances      Box(P          R      mAP50  mAP50-95): 100%|██████████| 2/2 [00:00<00:00,  4.50it/s]"
          ]
        },
        {
          "output_type": "stream",
          "name": "stdout",
          "text": [
            "                   all         42        269      0.806      0.841      0.808      0.362\n"
          ]
        },
        {
          "output_type": "stream",
          "name": "stderr",
          "text": [
            "\n"
          ]
        },
        {
          "output_type": "stream",
          "name": "stdout",
          "text": [
            "\n",
            "100 epochs completed in 0.099 hours.\n",
            "Optimizer stripped from runs/detect/train2/weights/last.pt, 6.3MB\n",
            "Optimizer stripped from runs/detect/train2/weights/best.pt, 6.3MB\n",
            "\n",
            "Validating runs/detect/train2/weights/best.pt...\n",
            "Ultralytics YOLOv8.1.19 🚀 Python-3.10.12 torch-2.1.0+cu121 CUDA:0 (Tesla T4, 15102MiB)\n",
            "Model summary (fused): 168 layers, 3006038 parameters, 0 gradients, 8.1 GFLOPs\n"
          ]
        },
        {
          "output_type": "stream",
          "name": "stderr",
          "text": [
            "                 Class     Images  Instances      Box(P          R      mAP50  mAP50-95): 100%|██████████| 2/2 [00:00<00:00,  3.67it/s]\n"
          ]
        },
        {
          "output_type": "stream",
          "name": "stdout",
          "text": [
            "                   all         42        269       0.84      0.843      0.825      0.376\n",
            "                 riped         42        120      0.832      0.858      0.865      0.391\n",
            "               unriped         42        149      0.849      0.827      0.785       0.36\n",
            "Speed: 0.3ms preprocess, 2.0ms inference, 0.0ms loss, 1.4ms postprocess per image\n",
            "Results saved to \u001b[1mruns/detect/train2\u001b[0m\n"
          ]
        }
      ]
    },
    {
      "cell_type": "code",
      "source": [
        "from ultralytics import YOLO\n",
        "import PIL\n",
        "\n",
        "# Load a model\n",
        "custom = YOLO('/content/runs/detect/train2/weights/best.pt')  # load a custom model\n",
        "\n",
        "# Predict with the model\n",
        "result = custom(save=True, conf=0.5, source=\"/content/WhatsApp Video 2024-02-19 at 13.14.34_1cbdf2fa.mp4\")"
      ],
      "metadata": {
        "colab": {
          "base_uri": "https://localhost:8080/"
        },
        "id": "ivmHYOgjINqf",
        "outputId": "5ca42479-19a9-4be4-ca6f-17ee4f669bb6"
      },
      "execution_count": 5,
      "outputs": [
        {
          "output_type": "stream",
          "name": "stdout",
          "text": [
            "\n",
            "\n",
            "WARNING ⚠️ inference results will accumulate in RAM unless `stream=True` is passed, causing potential out-of-memory\n",
            "errors for large sources or long-running streams and videos. See https://docs.ultralytics.com/modes/predict/ for help.\n",
            "\n",
            "Example:\n",
            "    results = model(source=..., stream=True)  # generator of Results objects\n",
            "    for r in results:\n",
            "        boxes = r.boxes  # Boxes object for bbox outputs\n",
            "        masks = r.masks  # Masks object for segment masks outputs\n",
            "        probs = r.probs  # Class probabilities for classification outputs\n",
            "\n",
            "video 1/1 (1/1004) /content/WhatsApp Video 2024-02-19 at 13.14.34_1cbdf2fa.mp4: 384x640 (no detections), 106.5ms\n",
            "video 1/1 (2/1004) /content/WhatsApp Video 2024-02-19 at 13.14.34_1cbdf2fa.mp4: 384x640 (no detections), 8.1ms\n",
            "video 1/1 (3/1004) /content/WhatsApp Video 2024-02-19 at 13.14.34_1cbdf2fa.mp4: 384x640 (no detections), 8.1ms\n",
            "video 1/1 (4/1004) /content/WhatsApp Video 2024-02-19 at 13.14.34_1cbdf2fa.mp4: 384x640 (no detections), 9.1ms\n",
            "video 1/1 (5/1004) /content/WhatsApp Video 2024-02-19 at 13.14.34_1cbdf2fa.mp4: 384x640 (no detections), 11.9ms\n",
            "video 1/1 (6/1004) /content/WhatsApp Video 2024-02-19 at 13.14.34_1cbdf2fa.mp4: 384x640 (no detections), 7.8ms\n",
            "video 1/1 (7/1004) /content/WhatsApp Video 2024-02-19 at 13.14.34_1cbdf2fa.mp4: 384x640 (no detections), 7.4ms\n",
            "video 1/1 (8/1004) /content/WhatsApp Video 2024-02-19 at 13.14.34_1cbdf2fa.mp4: 384x640 (no detections), 7.9ms\n",
            "video 1/1 (9/1004) /content/WhatsApp Video 2024-02-19 at 13.14.34_1cbdf2fa.mp4: 384x640 (no detections), 7.5ms\n",
            "video 1/1 (10/1004) /content/WhatsApp Video 2024-02-19 at 13.14.34_1cbdf2fa.mp4: 384x640 (no detections), 7.7ms\n",
            "video 1/1 (11/1004) /content/WhatsApp Video 2024-02-19 at 13.14.34_1cbdf2fa.mp4: 384x640 (no detections), 8.1ms\n",
            "video 1/1 (12/1004) /content/WhatsApp Video 2024-02-19 at 13.14.34_1cbdf2fa.mp4: 384x640 (no detections), 8.0ms\n",
            "video 1/1 (13/1004) /content/WhatsApp Video 2024-02-19 at 13.14.34_1cbdf2fa.mp4: 384x640 (no detections), 8.8ms\n",
            "video 1/1 (14/1004) /content/WhatsApp Video 2024-02-19 at 13.14.34_1cbdf2fa.mp4: 384x640 (no detections), 7.4ms\n",
            "video 1/1 (15/1004) /content/WhatsApp Video 2024-02-19 at 13.14.34_1cbdf2fa.mp4: 384x640 (no detections), 7.6ms\n",
            "video 1/1 (16/1004) /content/WhatsApp Video 2024-02-19 at 13.14.34_1cbdf2fa.mp4: 384x640 (no detections), 7.9ms\n",
            "video 1/1 (17/1004) /content/WhatsApp Video 2024-02-19 at 13.14.34_1cbdf2fa.mp4: 384x640 (no detections), 8.2ms\n",
            "video 1/1 (18/1004) /content/WhatsApp Video 2024-02-19 at 13.14.34_1cbdf2fa.mp4: 384x640 (no detections), 8.7ms\n",
            "video 1/1 (19/1004) /content/WhatsApp Video 2024-02-19 at 13.14.34_1cbdf2fa.mp4: 384x640 (no detections), 7.8ms\n",
            "video 1/1 (20/1004) /content/WhatsApp Video 2024-02-19 at 13.14.34_1cbdf2fa.mp4: 384x640 (no detections), 8.2ms\n",
            "video 1/1 (21/1004) /content/WhatsApp Video 2024-02-19 at 13.14.34_1cbdf2fa.mp4: 384x640 (no detections), 9.9ms\n",
            "video 1/1 (22/1004) /content/WhatsApp Video 2024-02-19 at 13.14.34_1cbdf2fa.mp4: 384x640 (no detections), 8.9ms\n",
            "video 1/1 (23/1004) /content/WhatsApp Video 2024-02-19 at 13.14.34_1cbdf2fa.mp4: 384x640 (no detections), 9.8ms\n",
            "video 1/1 (24/1004) /content/WhatsApp Video 2024-02-19 at 13.14.34_1cbdf2fa.mp4: 384x640 (no detections), 10.0ms\n",
            "video 1/1 (25/1004) /content/WhatsApp Video 2024-02-19 at 13.14.34_1cbdf2fa.mp4: 384x640 (no detections), 9.9ms\n",
            "video 1/1 (26/1004) /content/WhatsApp Video 2024-02-19 at 13.14.34_1cbdf2fa.mp4: 384x640 (no detections), 9.6ms\n",
            "video 1/1 (27/1004) /content/WhatsApp Video 2024-02-19 at 13.14.34_1cbdf2fa.mp4: 384x640 (no detections), 9.7ms\n",
            "video 1/1 (28/1004) /content/WhatsApp Video 2024-02-19 at 13.14.34_1cbdf2fa.mp4: 384x640 (no detections), 13.0ms\n",
            "video 1/1 (29/1004) /content/WhatsApp Video 2024-02-19 at 13.14.34_1cbdf2fa.mp4: 384x640 (no detections), 9.6ms\n",
            "video 1/1 (30/1004) /content/WhatsApp Video 2024-02-19 at 13.14.34_1cbdf2fa.mp4: 384x640 (no detections), 8.0ms\n",
            "video 1/1 (31/1004) /content/WhatsApp Video 2024-02-19 at 13.14.34_1cbdf2fa.mp4: 384x640 (no detections), 9.7ms\n",
            "video 1/1 (32/1004) /content/WhatsApp Video 2024-02-19 at 13.14.34_1cbdf2fa.mp4: 384x640 (no detections), 8.1ms\n",
            "video 1/1 (33/1004) /content/WhatsApp Video 2024-02-19 at 13.14.34_1cbdf2fa.mp4: 384x640 (no detections), 8.3ms\n",
            "video 1/1 (34/1004) /content/WhatsApp Video 2024-02-19 at 13.14.34_1cbdf2fa.mp4: 384x640 (no detections), 8.3ms\n",
            "video 1/1 (35/1004) /content/WhatsApp Video 2024-02-19 at 13.14.34_1cbdf2fa.mp4: 384x640 (no detections), 9.3ms\n",
            "video 1/1 (36/1004) /content/WhatsApp Video 2024-02-19 at 13.14.34_1cbdf2fa.mp4: 384x640 (no detections), 8.2ms\n",
            "video 1/1 (37/1004) /content/WhatsApp Video 2024-02-19 at 13.14.34_1cbdf2fa.mp4: 384x640 (no detections), 8.0ms\n",
            "video 1/1 (38/1004) /content/WhatsApp Video 2024-02-19 at 13.14.34_1cbdf2fa.mp4: 384x640 (no detections), 8.3ms\n",
            "video 1/1 (39/1004) /content/WhatsApp Video 2024-02-19 at 13.14.34_1cbdf2fa.mp4: 384x640 (no detections), 8.2ms\n",
            "video 1/1 (40/1004) /content/WhatsApp Video 2024-02-19 at 13.14.34_1cbdf2fa.mp4: 384x640 (no detections), 8.5ms\n",
            "video 1/1 (41/1004) /content/WhatsApp Video 2024-02-19 at 13.14.34_1cbdf2fa.mp4: 384x640 (no detections), 8.0ms\n",
            "video 1/1 (42/1004) /content/WhatsApp Video 2024-02-19 at 13.14.34_1cbdf2fa.mp4: 384x640 (no detections), 8.8ms\n",
            "video 1/1 (43/1004) /content/WhatsApp Video 2024-02-19 at 13.14.34_1cbdf2fa.mp4: 384x640 1 unriped, 8.4ms\n",
            "video 1/1 (44/1004) /content/WhatsApp Video 2024-02-19 at 13.14.34_1cbdf2fa.mp4: 384x640 (no detections), 7.9ms\n",
            "video 1/1 (45/1004) /content/WhatsApp Video 2024-02-19 at 13.14.34_1cbdf2fa.mp4: 384x640 (no detections), 7.9ms\n",
            "video 1/1 (46/1004) /content/WhatsApp Video 2024-02-19 at 13.14.34_1cbdf2fa.mp4: 384x640 (no detections), 7.8ms\n",
            "video 1/1 (47/1004) /content/WhatsApp Video 2024-02-19 at 13.14.34_1cbdf2fa.mp4: 384x640 (no detections), 9.4ms\n",
            "video 1/1 (48/1004) /content/WhatsApp Video 2024-02-19 at 13.14.34_1cbdf2fa.mp4: 384x640 (no detections), 7.8ms\n",
            "video 1/1 (49/1004) /content/WhatsApp Video 2024-02-19 at 13.14.34_1cbdf2fa.mp4: 384x640 (no detections), 7.6ms\n",
            "video 1/1 (50/1004) /content/WhatsApp Video 2024-02-19 at 13.14.34_1cbdf2fa.mp4: 384x640 (no detections), 7.5ms\n",
            "video 1/1 (51/1004) /content/WhatsApp Video 2024-02-19 at 13.14.34_1cbdf2fa.mp4: 384x640 (no detections), 7.7ms\n",
            "video 1/1 (52/1004) /content/WhatsApp Video 2024-02-19 at 13.14.34_1cbdf2fa.mp4: 384x640 (no detections), 7.6ms\n",
            "video 1/1 (53/1004) /content/WhatsApp Video 2024-02-19 at 13.14.34_1cbdf2fa.mp4: 384x640 (no detections), 7.6ms\n",
            "video 1/1 (54/1004) /content/WhatsApp Video 2024-02-19 at 13.14.34_1cbdf2fa.mp4: 384x640 (no detections), 12.0ms\n",
            "video 1/1 (55/1004) /content/WhatsApp Video 2024-02-19 at 13.14.34_1cbdf2fa.mp4: 384x640 (no detections), 8.0ms\n",
            "video 1/1 (56/1004) /content/WhatsApp Video 2024-02-19 at 13.14.34_1cbdf2fa.mp4: 384x640 (no detections), 7.5ms\n",
            "video 1/1 (57/1004) /content/WhatsApp Video 2024-02-19 at 13.14.34_1cbdf2fa.mp4: 384x640 (no detections), 7.4ms\n",
            "video 1/1 (58/1004) /content/WhatsApp Video 2024-02-19 at 13.14.34_1cbdf2fa.mp4: 384x640 (no detections), 7.4ms\n",
            "video 1/1 (59/1004) /content/WhatsApp Video 2024-02-19 at 13.14.34_1cbdf2fa.mp4: 384x640 (no detections), 8.6ms\n",
            "video 1/1 (60/1004) /content/WhatsApp Video 2024-02-19 at 13.14.34_1cbdf2fa.mp4: 384x640 (no detections), 7.3ms\n",
            "video 1/1 (61/1004) /content/WhatsApp Video 2024-02-19 at 13.14.34_1cbdf2fa.mp4: 384x640 (no detections), 8.6ms\n",
            "video 1/1 (62/1004) /content/WhatsApp Video 2024-02-19 at 13.14.34_1cbdf2fa.mp4: 384x640 (no detections), 7.5ms\n",
            "video 1/1 (63/1004) /content/WhatsApp Video 2024-02-19 at 13.14.34_1cbdf2fa.mp4: 384x640 (no detections), 7.4ms\n",
            "video 1/1 (64/1004) /content/WhatsApp Video 2024-02-19 at 13.14.34_1cbdf2fa.mp4: 384x640 (no detections), 7.4ms\n",
            "video 1/1 (65/1004) /content/WhatsApp Video 2024-02-19 at 13.14.34_1cbdf2fa.mp4: 384x640 (no detections), 7.4ms\n",
            "video 1/1 (66/1004) /content/WhatsApp Video 2024-02-19 at 13.14.34_1cbdf2fa.mp4: 384x640 (no detections), 8.2ms\n",
            "video 1/1 (67/1004) /content/WhatsApp Video 2024-02-19 at 13.14.34_1cbdf2fa.mp4: 384x640 1 riped, 7.6ms\n",
            "video 1/1 (68/1004) /content/WhatsApp Video 2024-02-19 at 13.14.34_1cbdf2fa.mp4: 384x640 (no detections), 7.5ms\n",
            "video 1/1 (69/1004) /content/WhatsApp Video 2024-02-19 at 13.14.34_1cbdf2fa.mp4: 384x640 (no detections), 9.1ms\n",
            "video 1/1 (70/1004) /content/WhatsApp Video 2024-02-19 at 13.14.34_1cbdf2fa.mp4: 384x640 (no detections), 7.5ms\n",
            "video 1/1 (71/1004) /content/WhatsApp Video 2024-02-19 at 13.14.34_1cbdf2fa.mp4: 384x640 (no detections), 7.3ms\n",
            "video 1/1 (72/1004) /content/WhatsApp Video 2024-02-19 at 13.14.34_1cbdf2fa.mp4: 384x640 (no detections), 7.6ms\n",
            "video 1/1 (73/1004) /content/WhatsApp Video 2024-02-19 at 13.14.34_1cbdf2fa.mp4: 384x640 (no detections), 7.7ms\n",
            "video 1/1 (74/1004) /content/WhatsApp Video 2024-02-19 at 13.14.34_1cbdf2fa.mp4: 384x640 (no detections), 7.5ms\n",
            "video 1/1 (75/1004) /content/WhatsApp Video 2024-02-19 at 13.14.34_1cbdf2fa.mp4: 384x640 1 riped, 11.9ms\n",
            "video 1/1 (76/1004) /content/WhatsApp Video 2024-02-19 at 13.14.34_1cbdf2fa.mp4: 384x640 1 riped, 7.8ms\n",
            "video 1/1 (77/1004) /content/WhatsApp Video 2024-02-19 at 13.14.34_1cbdf2fa.mp4: 384x640 1 riped, 7.5ms\n",
            "video 1/1 (78/1004) /content/WhatsApp Video 2024-02-19 at 13.14.34_1cbdf2fa.mp4: 384x640 (no detections), 7.6ms\n",
            "video 1/1 (79/1004) /content/WhatsApp Video 2024-02-19 at 13.14.34_1cbdf2fa.mp4: 384x640 (no detections), 7.7ms\n",
            "video 1/1 (80/1004) /content/WhatsApp Video 2024-02-19 at 13.14.34_1cbdf2fa.mp4: 384x640 (no detections), 8.9ms\n",
            "video 1/1 (81/1004) /content/WhatsApp Video 2024-02-19 at 13.14.34_1cbdf2fa.mp4: 384x640 (no detections), 7.7ms\n",
            "video 1/1 (82/1004) /content/WhatsApp Video 2024-02-19 at 13.14.34_1cbdf2fa.mp4: 384x640 (no detections), 7.6ms\n",
            "video 1/1 (83/1004) /content/WhatsApp Video 2024-02-19 at 13.14.34_1cbdf2fa.mp4: 384x640 (no detections), 7.6ms\n",
            "video 1/1 (84/1004) /content/WhatsApp Video 2024-02-19 at 13.14.34_1cbdf2fa.mp4: 384x640 1 riped, 9.0ms\n",
            "video 1/1 (85/1004) /content/WhatsApp Video 2024-02-19 at 13.14.34_1cbdf2fa.mp4: 384x640 1 riped, 7.8ms\n",
            "video 1/1 (86/1004) /content/WhatsApp Video 2024-02-19 at 13.14.34_1cbdf2fa.mp4: 384x640 (no detections), 7.9ms\n",
            "video 1/1 (87/1004) /content/WhatsApp Video 2024-02-19 at 13.14.34_1cbdf2fa.mp4: 384x640 (no detections), 7.6ms\n",
            "video 1/1 (88/1004) /content/WhatsApp Video 2024-02-19 at 13.14.34_1cbdf2fa.mp4: 384x640 (no detections), 8.6ms\n",
            "video 1/1 (89/1004) /content/WhatsApp Video 2024-02-19 at 13.14.34_1cbdf2fa.mp4: 384x640 (no detections), 7.9ms\n",
            "video 1/1 (90/1004) /content/WhatsApp Video 2024-02-19 at 13.14.34_1cbdf2fa.mp4: 384x640 (no detections), 7.9ms\n",
            "video 1/1 (91/1004) /content/WhatsApp Video 2024-02-19 at 13.14.34_1cbdf2fa.mp4: 384x640 (no detections), 7.7ms\n",
            "video 1/1 (92/1004) /content/WhatsApp Video 2024-02-19 at 13.14.34_1cbdf2fa.mp4: 384x640 1 riped, 7.7ms\n",
            "video 1/1 (93/1004) /content/WhatsApp Video 2024-02-19 at 13.14.34_1cbdf2fa.mp4: 384x640 1 riped, 7.9ms\n",
            "video 1/1 (94/1004) /content/WhatsApp Video 2024-02-19 at 13.14.34_1cbdf2fa.mp4: 384x640 1 riped, 9.8ms\n",
            "video 1/1 (95/1004) /content/WhatsApp Video 2024-02-19 at 13.14.34_1cbdf2fa.mp4: 384x640 (no detections), 8.8ms\n",
            "video 1/1 (96/1004) /content/WhatsApp Video 2024-02-19 at 13.14.34_1cbdf2fa.mp4: 384x640 (no detections), 8.1ms\n",
            "video 1/1 (97/1004) /content/WhatsApp Video 2024-02-19 at 13.14.34_1cbdf2fa.mp4: 384x640 (no detections), 7.7ms\n",
            "video 1/1 (98/1004) /content/WhatsApp Video 2024-02-19 at 13.14.34_1cbdf2fa.mp4: 384x640 (no detections), 7.9ms\n",
            "video 1/1 (99/1004) /content/WhatsApp Video 2024-02-19 at 13.14.34_1cbdf2fa.mp4: 384x640 (no detections), 7.8ms\n",
            "video 1/1 (100/1004) /content/WhatsApp Video 2024-02-19 at 13.14.34_1cbdf2fa.mp4: 384x640 1 riped, 7.8ms\n",
            "video 1/1 (101/1004) /content/WhatsApp Video 2024-02-19 at 13.14.34_1cbdf2fa.mp4: 384x640 1 riped, 8.0ms\n",
            "video 1/1 (102/1004) /content/WhatsApp Video 2024-02-19 at 13.14.34_1cbdf2fa.mp4: 384x640 1 riped, 7.8ms\n",
            "video 1/1 (103/1004) /content/WhatsApp Video 2024-02-19 at 13.14.34_1cbdf2fa.mp4: 384x640 1 riped, 1 unriped, 7.8ms\n",
            "video 1/1 (104/1004) /content/WhatsApp Video 2024-02-19 at 13.14.34_1cbdf2fa.mp4: 384x640 (no detections), 8.3ms\n",
            "video 1/1 (105/1004) /content/WhatsApp Video 2024-02-19 at 13.14.34_1cbdf2fa.mp4: 384x640 1 riped, 12.0ms\n",
            "video 1/1 (106/1004) /content/WhatsApp Video 2024-02-19 at 13.14.34_1cbdf2fa.mp4: 384x640 (no detections), 7.8ms\n",
            "video 1/1 (107/1004) /content/WhatsApp Video 2024-02-19 at 13.14.34_1cbdf2fa.mp4: 384x640 (no detections), 9.1ms\n",
            "video 1/1 (108/1004) /content/WhatsApp Video 2024-02-19 at 13.14.34_1cbdf2fa.mp4: 384x640 (no detections), 7.8ms\n",
            "video 1/1 (109/1004) /content/WhatsApp Video 2024-02-19 at 13.14.34_1cbdf2fa.mp4: 384x640 1 riped, 8.1ms\n",
            "video 1/1 (110/1004) /content/WhatsApp Video 2024-02-19 at 13.14.34_1cbdf2fa.mp4: 384x640 1 riped, 9.9ms\n",
            "video 1/1 (111/1004) /content/WhatsApp Video 2024-02-19 at 13.14.34_1cbdf2fa.mp4: 384x640 1 riped, 7.8ms\n",
            "video 1/1 (112/1004) /content/WhatsApp Video 2024-02-19 at 13.14.34_1cbdf2fa.mp4: 384x640 1 riped, 7.6ms\n",
            "video 1/1 (113/1004) /content/WhatsApp Video 2024-02-19 at 13.14.34_1cbdf2fa.mp4: 384x640 (no detections), 7.8ms\n",
            "video 1/1 (114/1004) /content/WhatsApp Video 2024-02-19 at 13.14.34_1cbdf2fa.mp4: 384x640 (no detections), 8.0ms\n",
            "video 1/1 (115/1004) /content/WhatsApp Video 2024-02-19 at 13.14.34_1cbdf2fa.mp4: 384x640 (no detections), 7.6ms\n",
            "video 1/1 (116/1004) /content/WhatsApp Video 2024-02-19 at 13.14.34_1cbdf2fa.mp4: 384x640 (no detections), 8.0ms\n",
            "video 1/1 (117/1004) /content/WhatsApp Video 2024-02-19 at 13.14.34_1cbdf2fa.mp4: 384x640 (no detections), 7.8ms\n",
            "video 1/1 (118/1004) /content/WhatsApp Video 2024-02-19 at 13.14.34_1cbdf2fa.mp4: 384x640 (no detections), 9.5ms\n",
            "video 1/1 (119/1004) /content/WhatsApp Video 2024-02-19 at 13.14.34_1cbdf2fa.mp4: 384x640 1 riped, 7.7ms\n",
            "video 1/1 (120/1004) /content/WhatsApp Video 2024-02-19 at 13.14.34_1cbdf2fa.mp4: 384x640 1 riped, 8.1ms\n",
            "video 1/1 (121/1004) /content/WhatsApp Video 2024-02-19 at 13.14.34_1cbdf2fa.mp4: 384x640 1 riped, 8.0ms\n",
            "video 1/1 (122/1004) /content/WhatsApp Video 2024-02-19 at 13.14.34_1cbdf2fa.mp4: 384x640 1 riped, 7.3ms\n",
            "video 1/1 (123/1004) /content/WhatsApp Video 2024-02-19 at 13.14.34_1cbdf2fa.mp4: 384x640 (no detections), 7.4ms\n",
            "video 1/1 (124/1004) /content/WhatsApp Video 2024-02-19 at 13.14.34_1cbdf2fa.mp4: 384x640 (no detections), 7.5ms\n",
            "video 1/1 (125/1004) /content/WhatsApp Video 2024-02-19 at 13.14.34_1cbdf2fa.mp4: 384x640 (no detections), 8.0ms\n",
            "video 1/1 (126/1004) /content/WhatsApp Video 2024-02-19 at 13.14.34_1cbdf2fa.mp4: 384x640 1 riped, 7.6ms\n",
            "video 1/1 (127/1004) /content/WhatsApp Video 2024-02-19 at 13.14.34_1cbdf2fa.mp4: 384x640 1 riped, 7.4ms\n",
            "video 1/1 (128/1004) /content/WhatsApp Video 2024-02-19 at 13.14.34_1cbdf2fa.mp4: 384x640 1 riped, 7.4ms\n",
            "video 1/1 (129/1004) /content/WhatsApp Video 2024-02-19 at 13.14.34_1cbdf2fa.mp4: 384x640 1 riped, 7.5ms\n",
            "video 1/1 (130/1004) /content/WhatsApp Video 2024-02-19 at 13.14.34_1cbdf2fa.mp4: 384x640 (no detections), 7.5ms\n",
            "video 1/1 (131/1004) /content/WhatsApp Video 2024-02-19 at 13.14.34_1cbdf2fa.mp4: 384x640 (no detections), 7.7ms\n",
            "video 1/1 (132/1004) /content/WhatsApp Video 2024-02-19 at 13.14.34_1cbdf2fa.mp4: 384x640 (no detections), 7.7ms\n",
            "video 1/1 (133/1004) /content/WhatsApp Video 2024-02-19 at 13.14.34_1cbdf2fa.mp4: 384x640 (no detections), 7.7ms\n",
            "video 1/1 (134/1004) /content/WhatsApp Video 2024-02-19 at 13.14.34_1cbdf2fa.mp4: 384x640 (no detections), 7.8ms\n",
            "video 1/1 (135/1004) /content/WhatsApp Video 2024-02-19 at 13.14.34_1cbdf2fa.mp4: 384x640 1 riped, 10.5ms\n",
            "video 1/1 (136/1004) /content/WhatsApp Video 2024-02-19 at 13.14.34_1cbdf2fa.mp4: 384x640 1 riped, 7.5ms\n",
            "video 1/1 (137/1004) /content/WhatsApp Video 2024-02-19 at 13.14.34_1cbdf2fa.mp4: 384x640 1 riped, 9.8ms\n",
            "video 1/1 (138/1004) /content/WhatsApp Video 2024-02-19 at 13.14.34_1cbdf2fa.mp4: 384x640 1 riped, 11.1ms\n",
            "video 1/1 (139/1004) /content/WhatsApp Video 2024-02-19 at 13.14.34_1cbdf2fa.mp4: 384x640 (no detections), 9.1ms\n",
            "video 1/1 (140/1004) /content/WhatsApp Video 2024-02-19 at 13.14.34_1cbdf2fa.mp4: 384x640 (no detections), 7.7ms\n",
            "video 1/1 (141/1004) /content/WhatsApp Video 2024-02-19 at 13.14.34_1cbdf2fa.mp4: 384x640 (no detections), 8.0ms\n",
            "video 1/1 (142/1004) /content/WhatsApp Video 2024-02-19 at 13.14.34_1cbdf2fa.mp4: 384x640 (no detections), 7.6ms\n",
            "video 1/1 (143/1004) /content/WhatsApp Video 2024-02-19 at 13.14.34_1cbdf2fa.mp4: 384x640 (no detections), 7.7ms\n",
            "video 1/1 (144/1004) /content/WhatsApp Video 2024-02-19 at 13.14.34_1cbdf2fa.mp4: 384x640 1 riped, 7.7ms\n",
            "video 1/1 (145/1004) /content/WhatsApp Video 2024-02-19 at 13.14.34_1cbdf2fa.mp4: 384x640 1 riped, 8.1ms\n",
            "video 1/1 (146/1004) /content/WhatsApp Video 2024-02-19 at 13.14.34_1cbdf2fa.mp4: 384x640 1 riped, 7.7ms\n",
            "video 1/1 (147/1004) /content/WhatsApp Video 2024-02-19 at 13.14.34_1cbdf2fa.mp4: 384x640 1 riped, 9.9ms\n",
            "video 1/1 (148/1004) /content/WhatsApp Video 2024-02-19 at 13.14.34_1cbdf2fa.mp4: 384x640 1 riped, 8.0ms\n",
            "video 1/1 (149/1004) /content/WhatsApp Video 2024-02-19 at 13.14.34_1cbdf2fa.mp4: 384x640 (no detections), 8.5ms\n",
            "video 1/1 (150/1004) /content/WhatsApp Video 2024-02-19 at 13.14.34_1cbdf2fa.mp4: 384x640 (no detections), 7.9ms\n",
            "video 1/1 (151/1004) /content/WhatsApp Video 2024-02-19 at 13.14.34_1cbdf2fa.mp4: 384x640 (no detections), 7.9ms\n",
            "video 1/1 (152/1004) /content/WhatsApp Video 2024-02-19 at 13.14.34_1cbdf2fa.mp4: 384x640 (no detections), 7.8ms\n",
            "video 1/1 (153/1004) /content/WhatsApp Video 2024-02-19 at 13.14.34_1cbdf2fa.mp4: 384x640 1 riped, 7.9ms\n",
            "video 1/1 (154/1004) /content/WhatsApp Video 2024-02-19 at 13.14.34_1cbdf2fa.mp4: 384x640 1 riped, 14.0ms\n",
            "video 1/1 (155/1004) /content/WhatsApp Video 2024-02-19 at 13.14.34_1cbdf2fa.mp4: 384x640 1 riped, 7.9ms\n",
            "video 1/1 (156/1004) /content/WhatsApp Video 2024-02-19 at 13.14.34_1cbdf2fa.mp4: 384x640 1 riped, 7.8ms\n",
            "video 1/1 (157/1004) /content/WhatsApp Video 2024-02-19 at 13.14.34_1cbdf2fa.mp4: 384x640 1 unriped, 7.8ms\n",
            "video 1/1 (158/1004) /content/WhatsApp Video 2024-02-19 at 13.14.34_1cbdf2fa.mp4: 384x640 1 unriped, 8.0ms\n",
            "video 1/1 (159/1004) /content/WhatsApp Video 2024-02-19 at 13.14.34_1cbdf2fa.mp4: 384x640 1 unriped, 9.9ms\n",
            "video 1/1 (160/1004) /content/WhatsApp Video 2024-02-19 at 13.14.34_1cbdf2fa.mp4: 384x640 (no detections), 9.3ms\n",
            "video 1/1 (161/1004) /content/WhatsApp Video 2024-02-19 at 13.14.34_1cbdf2fa.mp4: 384x640 (no detections), 9.1ms\n",
            "video 1/1 (162/1004) /content/WhatsApp Video 2024-02-19 at 13.14.34_1cbdf2fa.mp4: 384x640 1 riped, 1 unriped, 7.7ms\n",
            "video 1/1 (163/1004) /content/WhatsApp Video 2024-02-19 at 13.14.34_1cbdf2fa.mp4: 384x640 1 riped, 1 unriped, 7.9ms\n",
            "video 1/1 (164/1004) /content/WhatsApp Video 2024-02-19 at 13.14.34_1cbdf2fa.mp4: 384x640 2 ripeds, 7.8ms\n",
            "video 1/1 (165/1004) /content/WhatsApp Video 2024-02-19 at 13.14.34_1cbdf2fa.mp4: 384x640 2 ripeds, 11.9ms\n",
            "video 1/1 (166/1004) /content/WhatsApp Video 2024-02-19 at 13.14.34_1cbdf2fa.mp4: 384x640 1 unriped, 8.8ms\n",
            "video 1/1 (167/1004) /content/WhatsApp Video 2024-02-19 at 13.14.34_1cbdf2fa.mp4: 384x640 1 riped, 1 unriped, 7.8ms\n",
            "video 1/1 (168/1004) /content/WhatsApp Video 2024-02-19 at 13.14.34_1cbdf2fa.mp4: 384x640 1 riped, 1 unriped, 8.0ms\n",
            "video 1/1 (169/1004) /content/WhatsApp Video 2024-02-19 at 13.14.34_1cbdf2fa.mp4: 384x640 1 riped, 7.8ms\n",
            "video 1/1 (170/1004) /content/WhatsApp Video 2024-02-19 at 13.14.34_1cbdf2fa.mp4: 384x640 1 riped, 8.5ms\n",
            "video 1/1 (171/1004) /content/WhatsApp Video 2024-02-19 at 13.14.34_1cbdf2fa.mp4: 384x640 1 riped, 1 unriped, 8.7ms\n",
            "video 1/1 (172/1004) /content/WhatsApp Video 2024-02-19 at 13.14.34_1cbdf2fa.mp4: 384x640 2 ripeds, 1 unriped, 7.8ms\n",
            "video 1/1 (173/1004) /content/WhatsApp Video 2024-02-19 at 13.14.34_1cbdf2fa.mp4: 384x640 2 ripeds, 1 unriped, 7.6ms\n",
            "video 1/1 (174/1004) /content/WhatsApp Video 2024-02-19 at 13.14.34_1cbdf2fa.mp4: 384x640 1 riped, 8.0ms\n",
            "video 1/1 (175/1004) /content/WhatsApp Video 2024-02-19 at 13.14.34_1cbdf2fa.mp4: 384x640 (no detections), 8.5ms\n",
            "video 1/1 (176/1004) /content/WhatsApp Video 2024-02-19 at 13.14.34_1cbdf2fa.mp4: 384x640 1 riped, 1 unriped, 9.7ms\n",
            "video 1/1 (177/1004) /content/WhatsApp Video 2024-02-19 at 13.14.34_1cbdf2fa.mp4: 384x640 1 riped, 1 unriped, 7.8ms\n",
            "video 1/1 (178/1004) /content/WhatsApp Video 2024-02-19 at 13.14.34_1cbdf2fa.mp4: 384x640 1 riped, 1 unriped, 10.3ms\n",
            "video 1/1 (179/1004) /content/WhatsApp Video 2024-02-19 at 13.14.34_1cbdf2fa.mp4: 384x640 1 riped, 15.0ms\n",
            "video 1/1 (180/1004) /content/WhatsApp Video 2024-02-19 at 13.14.34_1cbdf2fa.mp4: 384x640 2 ripeds, 8.5ms\n",
            "video 1/1 (181/1004) /content/WhatsApp Video 2024-02-19 at 13.14.34_1cbdf2fa.mp4: 384x640 2 ripeds, 7.6ms\n",
            "video 1/1 (182/1004) /content/WhatsApp Video 2024-02-19 at 13.14.34_1cbdf2fa.mp4: 384x640 1 riped, 7.6ms\n",
            "video 1/1 (183/1004) /content/WhatsApp Video 2024-02-19 at 13.14.34_1cbdf2fa.mp4: 384x640 1 riped, 7.9ms\n",
            "video 1/1 (184/1004) /content/WhatsApp Video 2024-02-19 at 13.14.34_1cbdf2fa.mp4: 384x640 2 ripeds, 9.1ms\n",
            "video 1/1 (185/1004) /content/WhatsApp Video 2024-02-19 at 13.14.34_1cbdf2fa.mp4: 384x640 2 ripeds, 7.9ms\n",
            "video 1/1 (186/1004) /content/WhatsApp Video 2024-02-19 at 13.14.34_1cbdf2fa.mp4: 384x640 2 ripeds, 1 unriped, 8.1ms\n",
            "video 1/1 (187/1004) /content/WhatsApp Video 2024-02-19 at 13.14.34_1cbdf2fa.mp4: 384x640 2 ripeds, 1 unriped, 8.1ms\n",
            "video 1/1 (188/1004) /content/WhatsApp Video 2024-02-19 at 13.14.34_1cbdf2fa.mp4: 384x640 1 riped, 7.8ms\n",
            "video 1/1 (189/1004) /content/WhatsApp Video 2024-02-19 at 13.14.34_1cbdf2fa.mp4: 384x640 1 riped, 7.8ms\n",
            "video 1/1 (190/1004) /content/WhatsApp Video 2024-02-19 at 13.14.34_1cbdf2fa.mp4: 384x640 1 riped, 1 unriped, 7.7ms\n",
            "video 1/1 (191/1004) /content/WhatsApp Video 2024-02-19 at 13.14.34_1cbdf2fa.mp4: 384x640 1 riped, 1 unriped, 7.7ms\n",
            "video 1/1 (192/1004) /content/WhatsApp Video 2024-02-19 at 13.14.34_1cbdf2fa.mp4: 384x640 1 riped, 7.9ms\n",
            "video 1/1 (193/1004) /content/WhatsApp Video 2024-02-19 at 13.14.34_1cbdf2fa.mp4: 384x640 2 ripeds, 7.8ms\n",
            "video 1/1 (194/1004) /content/WhatsApp Video 2024-02-19 at 13.14.34_1cbdf2fa.mp4: 384x640 1 riped, 7.5ms\n",
            "video 1/1 (195/1004) /content/WhatsApp Video 2024-02-19 at 13.14.34_1cbdf2fa.mp4: 384x640 1 riped, 1 unriped, 7.4ms\n",
            "video 1/1 (196/1004) /content/WhatsApp Video 2024-02-19 at 13.14.34_1cbdf2fa.mp4: 384x640 2 ripeds, 1 unriped, 8.0ms\n",
            "video 1/1 (197/1004) /content/WhatsApp Video 2024-02-19 at 13.14.34_1cbdf2fa.mp4: 384x640 2 ripeds, 1 unriped, 7.8ms\n",
            "video 1/1 (198/1004) /content/WhatsApp Video 2024-02-19 at 13.14.34_1cbdf2fa.mp4: 384x640 1 riped, 8.1ms\n",
            "video 1/1 (199/1004) /content/WhatsApp Video 2024-02-19 at 13.14.34_1cbdf2fa.mp4: 384x640 1 riped, 8.0ms\n",
            "video 1/1 (200/1004) /content/WhatsApp Video 2024-02-19 at 13.14.34_1cbdf2fa.mp4: 384x640 1 riped, 14.7ms\n",
            "video 1/1 (201/1004) /content/WhatsApp Video 2024-02-19 at 13.14.34_1cbdf2fa.mp4: 384x640 1 riped, 8.0ms\n",
            "video 1/1 (202/1004) /content/WhatsApp Video 2024-02-19 at 13.14.34_1cbdf2fa.mp4: 384x640 1 riped, 1 unriped, 8.4ms\n",
            "video 1/1 (203/1004) /content/WhatsApp Video 2024-02-19 at 13.14.34_1cbdf2fa.mp4: 384x640 1 riped, 9.1ms\n",
            "video 1/1 (204/1004) /content/WhatsApp Video 2024-02-19 at 13.14.34_1cbdf2fa.mp4: 384x640 1 riped, 1 unriped, 7.5ms\n",
            "video 1/1 (205/1004) /content/WhatsApp Video 2024-02-19 at 13.14.34_1cbdf2fa.mp4: 384x640 1 riped, 7.5ms\n",
            "video 1/1 (206/1004) /content/WhatsApp Video 2024-02-19 at 13.14.34_1cbdf2fa.mp4: 384x640 1 riped, 7.5ms\n",
            "video 1/1 (207/1004) /content/WhatsApp Video 2024-02-19 at 13.14.34_1cbdf2fa.mp4: 384x640 1 riped, 1 unriped, 7.6ms\n",
            "video 1/1 (208/1004) /content/WhatsApp Video 2024-02-19 at 13.14.34_1cbdf2fa.mp4: 384x640 1 riped, 1 unriped, 7.6ms\n",
            "video 1/1 (209/1004) /content/WhatsApp Video 2024-02-19 at 13.14.34_1cbdf2fa.mp4: 384x640 1 riped, 1 unriped, 8.3ms\n",
            "video 1/1 (210/1004) /content/WhatsApp Video 2024-02-19 at 13.14.34_1cbdf2fa.mp4: 384x640 1 riped, 1 unriped, 7.7ms\n",
            "video 1/1 (211/1004) /content/WhatsApp Video 2024-02-19 at 13.14.34_1cbdf2fa.mp4: 384x640 1 riped, 8.8ms\n",
            "video 1/1 (212/1004) /content/WhatsApp Video 2024-02-19 at 13.14.34_1cbdf2fa.mp4: 384x640 1 riped, 1 unriped, 7.8ms\n",
            "video 1/1 (213/1004) /content/WhatsApp Video 2024-02-19 at 13.14.34_1cbdf2fa.mp4: 384x640 1 riped, 1 unriped, 7.7ms\n",
            "video 1/1 (214/1004) /content/WhatsApp Video 2024-02-19 at 13.14.34_1cbdf2fa.mp4: 384x640 1 riped, 9.0ms\n",
            "video 1/1 (215/1004) /content/WhatsApp Video 2024-02-19 at 13.14.34_1cbdf2fa.mp4: 384x640 1 riped, 7.8ms\n",
            "video 1/1 (216/1004) /content/WhatsApp Video 2024-02-19 at 13.14.34_1cbdf2fa.mp4: 384x640 1 riped, 7.9ms\n",
            "video 1/1 (217/1004) /content/WhatsApp Video 2024-02-19 at 13.14.34_1cbdf2fa.mp4: 384x640 1 riped, 9.5ms\n",
            "video 1/1 (218/1004) /content/WhatsApp Video 2024-02-19 at 13.14.34_1cbdf2fa.mp4: 384x640 1 riped, 7.9ms\n",
            "video 1/1 (219/1004) /content/WhatsApp Video 2024-02-19 at 13.14.34_1cbdf2fa.mp4: 384x640 1 riped, 8.6ms\n",
            "video 1/1 (220/1004) /content/WhatsApp Video 2024-02-19 at 13.14.34_1cbdf2fa.mp4: 384x640 2 ripeds, 1 unriped, 7.7ms\n",
            "video 1/1 (221/1004) /content/WhatsApp Video 2024-02-19 at 13.14.34_1cbdf2fa.mp4: 384x640 1 riped, 1 unriped, 7.8ms\n",
            "video 1/1 (222/1004) /content/WhatsApp Video 2024-02-19 at 13.14.34_1cbdf2fa.mp4: 384x640 1 riped, 1 unriped, 8.0ms\n",
            "video 1/1 (223/1004) /content/WhatsApp Video 2024-02-19 at 13.14.34_1cbdf2fa.mp4: 384x640 1 riped, 1 unriped, 7.8ms\n",
            "video 1/1 (224/1004) /content/WhatsApp Video 2024-02-19 at 13.14.34_1cbdf2fa.mp4: 384x640 1 riped, 1 unriped, 7.7ms\n",
            "video 1/1 (225/1004) /content/WhatsApp Video 2024-02-19 at 13.14.34_1cbdf2fa.mp4: 384x640 1 riped, 1 unriped, 7.6ms\n",
            "video 1/1 (226/1004) /content/WhatsApp Video 2024-02-19 at 13.14.34_1cbdf2fa.mp4: 384x640 1 riped, 1 unriped, 7.7ms\n",
            "video 1/1 (227/1004) /content/WhatsApp Video 2024-02-19 at 13.14.34_1cbdf2fa.mp4: 384x640 1 riped, 1 unriped, 7.7ms\n",
            "video 1/1 (228/1004) /content/WhatsApp Video 2024-02-19 at 13.14.34_1cbdf2fa.mp4: 384x640 2 ripeds, 1 unriped, 8.1ms\n",
            "video 1/1 (229/1004) /content/WhatsApp Video 2024-02-19 at 13.14.34_1cbdf2fa.mp4: 384x640 2 ripeds, 1 unriped, 8.3ms\n",
            "video 1/1 (230/1004) /content/WhatsApp Video 2024-02-19 at 13.14.34_1cbdf2fa.mp4: 384x640 1 riped, 1 unriped, 7.6ms\n",
            "video 1/1 (231/1004) /content/WhatsApp Video 2024-02-19 at 13.14.34_1cbdf2fa.mp4: 384x640 1 riped, 7.9ms\n",
            "video 1/1 (232/1004) /content/WhatsApp Video 2024-02-19 at 13.14.34_1cbdf2fa.mp4: 384x640 1 riped, 8.0ms\n",
            "video 1/1 (233/1004) /content/WhatsApp Video 2024-02-19 at 13.14.34_1cbdf2fa.mp4: 384x640 1 riped, 1 unriped, 10.6ms\n",
            "video 1/1 (234/1004) /content/WhatsApp Video 2024-02-19 at 13.14.34_1cbdf2fa.mp4: 384x640 1 riped, 1 unriped, 7.7ms\n",
            "video 1/1 (235/1004) /content/WhatsApp Video 2024-02-19 at 13.14.34_1cbdf2fa.mp4: 384x640 1 riped, 1 unriped, 7.7ms\n",
            "video 1/1 (236/1004) /content/WhatsApp Video 2024-02-19 at 13.14.34_1cbdf2fa.mp4: 384x640 1 riped, 1 unriped, 7.8ms\n",
            "video 1/1 (237/1004) /content/WhatsApp Video 2024-02-19 at 13.14.34_1cbdf2fa.mp4: 384x640 2 ripeds, 7.7ms\n",
            "video 1/1 (238/1004) /content/WhatsApp Video 2024-02-19 at 13.14.34_1cbdf2fa.mp4: 384x640 2 ripeds, 8.0ms\n",
            "video 1/1 (239/1004) /content/WhatsApp Video 2024-02-19 at 13.14.34_1cbdf2fa.mp4: 384x640 2 ripeds, 1 unriped, 7.9ms\n",
            "video 1/1 (240/1004) /content/WhatsApp Video 2024-02-19 at 13.14.34_1cbdf2fa.mp4: 384x640 1 riped, 8.4ms\n",
            "video 1/1 (241/1004) /content/WhatsApp Video 2024-02-19 at 13.14.34_1cbdf2fa.mp4: 384x640 1 riped, 1 unriped, 8.8ms\n",
            "video 1/1 (242/1004) /content/WhatsApp Video 2024-02-19 at 13.14.34_1cbdf2fa.mp4: 384x640 1 riped, 1 unriped, 8.0ms\n",
            "video 1/1 (243/1004) /content/WhatsApp Video 2024-02-19 at 13.14.34_1cbdf2fa.mp4: 384x640 1 riped, 1 unriped, 9.9ms\n",
            "video 1/1 (244/1004) /content/WhatsApp Video 2024-02-19 at 13.14.34_1cbdf2fa.mp4: 384x640 1 riped, 1 unriped, 7.7ms\n",
            "video 1/1 (245/1004) /content/WhatsApp Video 2024-02-19 at 13.14.34_1cbdf2fa.mp4: 384x640 1 riped, 1 unriped, 7.8ms\n",
            "video 1/1 (246/1004) /content/WhatsApp Video 2024-02-19 at 13.14.34_1cbdf2fa.mp4: 384x640 2 ripeds, 1 unriped, 10.4ms\n",
            "video 1/1 (247/1004) /content/WhatsApp Video 2024-02-19 at 13.14.34_1cbdf2fa.mp4: 384x640 2 ripeds, 1 unriped, 8.2ms\n",
            "video 1/1 (248/1004) /content/WhatsApp Video 2024-02-19 at 13.14.34_1cbdf2fa.mp4: 384x640 1 riped, 9.9ms\n",
            "video 1/1 (249/1004) /content/WhatsApp Video 2024-02-19 at 13.14.34_1cbdf2fa.mp4: 384x640 1 riped, 7.7ms\n",
            "video 1/1 (250/1004) /content/WhatsApp Video 2024-02-19 at 13.14.34_1cbdf2fa.mp4: 384x640 1 riped, 1 unriped, 9.1ms\n",
            "video 1/1 (251/1004) /content/WhatsApp Video 2024-02-19 at 13.14.34_1cbdf2fa.mp4: 384x640 1 riped, 1 unriped, 8.4ms\n",
            "video 1/1 (252/1004) /content/WhatsApp Video 2024-02-19 at 13.14.34_1cbdf2fa.mp4: 384x640 1 riped, 1 unriped, 8.0ms\n",
            "video 1/1 (253/1004) /content/WhatsApp Video 2024-02-19 at 13.14.34_1cbdf2fa.mp4: 384x640 1 riped, 1 unriped, 7.8ms\n",
            "video 1/1 (254/1004) /content/WhatsApp Video 2024-02-19 at 13.14.34_1cbdf2fa.mp4: 384x640 1 riped, 1 unriped, 7.8ms\n",
            "video 1/1 (255/1004) /content/WhatsApp Video 2024-02-19 at 13.14.34_1cbdf2fa.mp4: 384x640 2 ripeds, 1 unriped, 7.8ms\n",
            "video 1/1 (256/1004) /content/WhatsApp Video 2024-02-19 at 13.14.34_1cbdf2fa.mp4: 384x640 2 ripeds, 1 unriped, 7.8ms\n",
            "video 1/1 (257/1004) /content/WhatsApp Video 2024-02-19 at 13.14.34_1cbdf2fa.mp4: 384x640 2 ripeds, 1 unriped, 7.6ms\n",
            "video 1/1 (258/1004) /content/WhatsApp Video 2024-02-19 at 13.14.34_1cbdf2fa.mp4: 384x640 1 riped, 9.1ms\n",
            "video 1/1 (259/1004) /content/WhatsApp Video 2024-02-19 at 13.14.34_1cbdf2fa.mp4: 384x640 1 riped, 1 unriped, 8.0ms\n",
            "video 1/1 (260/1004) /content/WhatsApp Video 2024-02-19 at 13.14.34_1cbdf2fa.mp4: 384x640 1 riped, 1 unriped, 7.8ms\n",
            "video 1/1 (261/1004) /content/WhatsApp Video 2024-02-19 at 13.14.34_1cbdf2fa.mp4: 384x640 1 riped, 1 unriped, 7.9ms\n",
            "video 1/1 (262/1004) /content/WhatsApp Video 2024-02-19 at 13.14.34_1cbdf2fa.mp4: 384x640 1 riped, 1 unriped, 7.9ms\n",
            "video 1/1 (263/1004) /content/WhatsApp Video 2024-02-19 at 13.14.34_1cbdf2fa.mp4: 384x640 2 ripeds, 1 unriped, 7.7ms\n",
            "video 1/1 (264/1004) /content/WhatsApp Video 2024-02-19 at 13.14.34_1cbdf2fa.mp4: 384x640 2 ripeds, 1 unriped, 7.8ms\n",
            "video 1/1 (265/1004) /content/WhatsApp Video 2024-02-19 at 13.14.34_1cbdf2fa.mp4: 384x640 2 ripeds, 1 unriped, 10.9ms\n",
            "video 1/1 (266/1004) /content/WhatsApp Video 2024-02-19 at 13.14.34_1cbdf2fa.mp4: 384x640 2 ripeds, 13.4ms\n",
            "video 1/1 (267/1004) /content/WhatsApp Video 2024-02-19 at 13.14.34_1cbdf2fa.mp4: 384x640 1 riped, 1 unriped, 7.8ms\n",
            "video 1/1 (268/1004) /content/WhatsApp Video 2024-02-19 at 13.14.34_1cbdf2fa.mp4: 384x640 1 riped, 1 unriped, 7.9ms\n",
            "video 1/1 (269/1004) /content/WhatsApp Video 2024-02-19 at 13.14.34_1cbdf2fa.mp4: 384x640 1 riped, 1 unriped, 7.8ms\n",
            "video 1/1 (270/1004) /content/WhatsApp Video 2024-02-19 at 13.14.34_1cbdf2fa.mp4: 384x640 1 riped, 1 unriped, 7.8ms\n",
            "video 1/1 (271/1004) /content/WhatsApp Video 2024-02-19 at 13.14.34_1cbdf2fa.mp4: 384x640 1 riped, 1 unriped, 7.7ms\n",
            "video 1/1 (272/1004) /content/WhatsApp Video 2024-02-19 at 13.14.34_1cbdf2fa.mp4: 384x640 1 riped, 1 unriped, 7.6ms\n",
            "video 1/1 (273/1004) /content/WhatsApp Video 2024-02-19 at 13.14.34_1cbdf2fa.mp4: 384x640 2 ripeds, 1 unriped, 8.9ms\n",
            "video 1/1 (274/1004) /content/WhatsApp Video 2024-02-19 at 13.14.34_1cbdf2fa.mp4: 384x640 2 ripeds, 1 unriped, 7.8ms\n",
            "video 1/1 (275/1004) /content/WhatsApp Video 2024-02-19 at 13.14.34_1cbdf2fa.mp4: 384x640 1 riped, 1 unriped, 7.4ms\n",
            "video 1/1 (276/1004) /content/WhatsApp Video 2024-02-19 at 13.14.34_1cbdf2fa.mp4: 384x640 1 riped, 1 unriped, 8.2ms\n",
            "video 1/1 (277/1004) /content/WhatsApp Video 2024-02-19 at 13.14.34_1cbdf2fa.mp4: 384x640 2 ripeds, 1 unriped, 7.6ms\n",
            "video 1/1 (278/1004) /content/WhatsApp Video 2024-02-19 at 13.14.34_1cbdf2fa.mp4: 384x640 2 ripeds, 2 unripeds, 7.6ms\n",
            "video 1/1 (279/1004) /content/WhatsApp Video 2024-02-19 at 13.14.34_1cbdf2fa.mp4: 384x640 1 riped, 1 unriped, 7.8ms\n",
            "video 1/1 (280/1004) /content/WhatsApp Video 2024-02-19 at 13.14.34_1cbdf2fa.mp4: 384x640 1 riped, 1 unriped, 7.7ms\n",
            "video 1/1 (281/1004) /content/WhatsApp Video 2024-02-19 at 13.14.34_1cbdf2fa.mp4: 384x640 2 ripeds, 1 unriped, 8.9ms\n",
            "video 1/1 (282/1004) /content/WhatsApp Video 2024-02-19 at 13.14.34_1cbdf2fa.mp4: 384x640 2 ripeds, 2 unripeds, 7.6ms\n",
            "video 1/1 (283/1004) /content/WhatsApp Video 2024-02-19 at 13.14.34_1cbdf2fa.mp4: 384x640 2 ripeds, 1 unriped, 7.6ms\n",
            "video 1/1 (284/1004) /content/WhatsApp Video 2024-02-19 at 13.14.34_1cbdf2fa.mp4: 384x640 1 riped, 7.8ms\n",
            "video 1/1 (285/1004) /content/WhatsApp Video 2024-02-19 at 13.14.34_1cbdf2fa.mp4: 384x640 1 riped, 1 unriped, 8.1ms\n",
            "video 1/1 (286/1004) /content/WhatsApp Video 2024-02-19 at 13.14.34_1cbdf2fa.mp4: 384x640 1 riped, 1 unriped, 7.5ms\n",
            "video 1/1 (287/1004) /content/WhatsApp Video 2024-02-19 at 13.14.34_1cbdf2fa.mp4: 384x640 2 ripeds, 2 unripeds, 7.8ms\n",
            "video 1/1 (288/1004) /content/WhatsApp Video 2024-02-19 at 13.14.34_1cbdf2fa.mp4: 384x640 1 riped, 1 unriped, 7.6ms\n",
            "video 1/1 (289/1004) /content/WhatsApp Video 2024-02-19 at 13.14.34_1cbdf2fa.mp4: 384x640 1 riped, 1 unriped, 13.3ms\n",
            "video 1/1 (290/1004) /content/WhatsApp Video 2024-02-19 at 13.14.34_1cbdf2fa.mp4: 384x640 2 ripeds, 2 unripeds, 12.8ms\n",
            "video 1/1 (291/1004) /content/WhatsApp Video 2024-02-19 at 13.14.34_1cbdf2fa.mp4: 384x640 2 ripeds, 2 unripeds, 17.2ms\n",
            "video 1/1 (292/1004) /content/WhatsApp Video 2024-02-19 at 13.14.34_1cbdf2fa.mp4: 384x640 2 ripeds, 1 unriped, 19.5ms\n",
            "video 1/1 (293/1004) /content/WhatsApp Video 2024-02-19 at 13.14.34_1cbdf2fa.mp4: 384x640 1 riped, 1 unriped, 11.3ms\n",
            "video 1/1 (294/1004) /content/WhatsApp Video 2024-02-19 at 13.14.34_1cbdf2fa.mp4: 384x640 1 riped, 1 unriped, 12.1ms\n",
            "video 1/1 (295/1004) /content/WhatsApp Video 2024-02-19 at 13.14.34_1cbdf2fa.mp4: 384x640 2 ripeds, 1 unriped, 9.8ms\n",
            "video 1/1 (296/1004) /content/WhatsApp Video 2024-02-19 at 13.14.34_1cbdf2fa.mp4: 384x640 2 ripeds, 1 unriped, 14.2ms\n",
            "video 1/1 (297/1004) /content/WhatsApp Video 2024-02-19 at 13.14.34_1cbdf2fa.mp4: 384x640 1 riped, 2 unripeds, 11.1ms\n",
            "video 1/1 (298/1004) /content/WhatsApp Video 2024-02-19 at 13.14.34_1cbdf2fa.mp4: 384x640 1 riped, 2 unripeds, 10.0ms\n",
            "video 1/1 (299/1004) /content/WhatsApp Video 2024-02-19 at 13.14.34_1cbdf2fa.mp4: 384x640 2 ripeds, 2 unripeds, 11.8ms\n",
            "video 1/1 (300/1004) /content/WhatsApp Video 2024-02-19 at 13.14.34_1cbdf2fa.mp4: 384x640 2 ripeds, 2 unripeds, 10.1ms\n",
            "video 1/1 (301/1004) /content/WhatsApp Video 2024-02-19 at 13.14.34_1cbdf2fa.mp4: 384x640 2 ripeds, 1 unriped, 9.7ms\n",
            "video 1/1 (302/1004) /content/WhatsApp Video 2024-02-19 at 13.14.34_1cbdf2fa.mp4: 384x640 2 ripeds, 1 unriped, 13.9ms\n",
            "video 1/1 (303/1004) /content/WhatsApp Video 2024-02-19 at 13.14.34_1cbdf2fa.mp4: 384x640 1 riped, 3 unripeds, 10.1ms\n",
            "video 1/1 (304/1004) /content/WhatsApp Video 2024-02-19 at 13.14.34_1cbdf2fa.mp4: 384x640 2 ripeds, 2 unripeds, 9.7ms\n",
            "video 1/1 (305/1004) /content/WhatsApp Video 2024-02-19 at 13.14.34_1cbdf2fa.mp4: 384x640 1 riped, 2 unripeds, 10.6ms\n",
            "video 1/1 (306/1004) /content/WhatsApp Video 2024-02-19 at 13.14.34_1cbdf2fa.mp4: 384x640 1 riped, 2 unripeds, 12.6ms\n",
            "video 1/1 (307/1004) /content/WhatsApp Video 2024-02-19 at 13.14.34_1cbdf2fa.mp4: 384x640 1 riped, 2 unripeds, 10.4ms\n",
            "video 1/1 (308/1004) /content/WhatsApp Video 2024-02-19 at 13.14.34_1cbdf2fa.mp4: 384x640 2 ripeds, 2 unripeds, 9.9ms\n",
            "video 1/1 (309/1004) /content/WhatsApp Video 2024-02-19 at 13.14.34_1cbdf2fa.mp4: 384x640 2 ripeds, 2 unripeds, 10.6ms\n",
            "video 1/1 (310/1004) /content/WhatsApp Video 2024-02-19 at 13.14.34_1cbdf2fa.mp4: 384x640 2 ripeds, 1 unriped, 10.9ms\n",
            "video 1/1 (311/1004) /content/WhatsApp Video 2024-02-19 at 13.14.34_1cbdf2fa.mp4: 384x640 1 riped, 2 unripeds, 11.0ms\n",
            "video 1/1 (312/1004) /content/WhatsApp Video 2024-02-19 at 13.14.34_1cbdf2fa.mp4: 384x640 2 ripeds, 3 unripeds, 10.1ms\n",
            "video 1/1 (313/1004) /content/WhatsApp Video 2024-02-19 at 13.14.34_1cbdf2fa.mp4: 384x640 2 ripeds, 3 unripeds, 10.4ms\n",
            "video 1/1 (314/1004) /content/WhatsApp Video 2024-02-19 at 13.14.34_1cbdf2fa.mp4: 384x640 1 riped, 2 unripeds, 10.6ms\n",
            "video 1/1 (315/1004) /content/WhatsApp Video 2024-02-19 at 13.14.34_1cbdf2fa.mp4: 384x640 1 riped, 2 unripeds, 11.3ms\n",
            "video 1/1 (316/1004) /content/WhatsApp Video 2024-02-19 at 13.14.34_1cbdf2fa.mp4: 384x640 2 ripeds, 2 unripeds, 10.0ms\n",
            "video 1/1 (317/1004) /content/WhatsApp Video 2024-02-19 at 13.14.34_1cbdf2fa.mp4: 384x640 2 ripeds, 2 unripeds, 9.4ms\n",
            "video 1/1 (318/1004) /content/WhatsApp Video 2024-02-19 at 13.14.34_1cbdf2fa.mp4: 384x640 2 ripeds, 3 unripeds, 9.4ms\n",
            "video 1/1 (319/1004) /content/WhatsApp Video 2024-02-19 at 13.14.34_1cbdf2fa.mp4: 384x640 1 riped, 1 unriped, 9.7ms\n",
            "video 1/1 (320/1004) /content/WhatsApp Video 2024-02-19 at 13.14.34_1cbdf2fa.mp4: 384x640 1 riped, 2 unripeds, 9.5ms\n",
            "video 1/1 (321/1004) /content/WhatsApp Video 2024-02-19 at 13.14.34_1cbdf2fa.mp4: 384x640 1 riped, 3 unripeds, 10.2ms\n",
            "video 1/1 (322/1004) /content/WhatsApp Video 2024-02-19 at 13.14.34_1cbdf2fa.mp4: 384x640 1 riped, 3 unripeds, 9.4ms\n",
            "video 1/1 (323/1004) /content/WhatsApp Video 2024-02-19 at 13.14.34_1cbdf2fa.mp4: 384x640 1 riped, 2 unripeds, 10.0ms\n",
            "video 1/1 (324/1004) /content/WhatsApp Video 2024-02-19 at 13.14.34_1cbdf2fa.mp4: 384x640 1 riped, 2 unripeds, 9.8ms\n",
            "video 1/1 (325/1004) /content/WhatsApp Video 2024-02-19 at 13.14.34_1cbdf2fa.mp4: 384x640 2 ripeds, 2 unripeds, 10.0ms\n",
            "video 1/1 (326/1004) /content/WhatsApp Video 2024-02-19 at 13.14.34_1cbdf2fa.mp4: 384x640 2 ripeds, 3 unripeds, 13.6ms\n",
            "video 1/1 (327/1004) /content/WhatsApp Video 2024-02-19 at 13.14.34_1cbdf2fa.mp4: 384x640 2 ripeds, 2 unripeds, 12.6ms\n",
            "video 1/1 (328/1004) /content/WhatsApp Video 2024-02-19 at 13.14.34_1cbdf2fa.mp4: 384x640 2 ripeds, 3 unripeds, 10.7ms\n",
            "video 1/1 (329/1004) /content/WhatsApp Video 2024-02-19 at 13.14.34_1cbdf2fa.mp4: 384x640 2 ripeds, 3 unripeds, 10.5ms\n",
            "video 1/1 (330/1004) /content/WhatsApp Video 2024-02-19 at 13.14.34_1cbdf2fa.mp4: 384x640 2 ripeds, 3 unripeds, 9.6ms\n",
            "video 1/1 (331/1004) /content/WhatsApp Video 2024-02-19 at 13.14.34_1cbdf2fa.mp4: 384x640 1 riped, 2 unripeds, 12.1ms\n",
            "video 1/1 (332/1004) /content/WhatsApp Video 2024-02-19 at 13.14.34_1cbdf2fa.mp4: 384x640 1 riped, 2 unripeds, 13.9ms\n",
            "video 1/1 (333/1004) /content/WhatsApp Video 2024-02-19 at 13.14.34_1cbdf2fa.mp4: 384x640 1 riped, 2 unripeds, 15.5ms\n",
            "video 1/1 (334/1004) /content/WhatsApp Video 2024-02-19 at 13.14.34_1cbdf2fa.mp4: 384x640 2 ripeds, 2 unripeds, 15.7ms\n",
            "video 1/1 (335/1004) /content/WhatsApp Video 2024-02-19 at 13.14.34_1cbdf2fa.mp4: 384x640 2 ripeds, 2 unripeds, 12.1ms\n",
            "video 1/1 (336/1004) /content/WhatsApp Video 2024-02-19 at 13.14.34_1cbdf2fa.mp4: 384x640 2 ripeds, 2 unripeds, 17.2ms\n",
            "video 1/1 (337/1004) /content/WhatsApp Video 2024-02-19 at 13.14.34_1cbdf2fa.mp4: 384x640 2 ripeds, 3 unripeds, 12.9ms\n",
            "video 1/1 (338/1004) /content/WhatsApp Video 2024-02-19 at 13.14.34_1cbdf2fa.mp4: 384x640 1 riped, 3 unripeds, 13.1ms\n",
            "video 1/1 (339/1004) /content/WhatsApp Video 2024-02-19 at 13.14.34_1cbdf2fa.mp4: 384x640 1 riped, 3 unripeds, 10.5ms\n",
            "video 1/1 (340/1004) /content/WhatsApp Video 2024-02-19 at 13.14.34_1cbdf2fa.mp4: 384x640 1 riped, 2 unripeds, 13.8ms\n",
            "video 1/1 (341/1004) /content/WhatsApp Video 2024-02-19 at 13.14.34_1cbdf2fa.mp4: 384x640 1 riped, 2 unripeds, 13.5ms\n",
            "video 1/1 (342/1004) /content/WhatsApp Video 2024-02-19 at 13.14.34_1cbdf2fa.mp4: 384x640 1 riped, 2 unripeds, 12.4ms\n",
            "video 1/1 (343/1004) /content/WhatsApp Video 2024-02-19 at 13.14.34_1cbdf2fa.mp4: 384x640 2 ripeds, 2 unripeds, 14.7ms\n",
            "video 1/1 (344/1004) /content/WhatsApp Video 2024-02-19 at 13.14.34_1cbdf2fa.mp4: 384x640 1 riped, 2 unripeds, 19.7ms\n",
            "video 1/1 (345/1004) /content/WhatsApp Video 2024-02-19 at 13.14.34_1cbdf2fa.mp4: 384x640 2 ripeds, 2 unripeds, 17.7ms\n",
            "video 1/1 (346/1004) /content/WhatsApp Video 2024-02-19 at 13.14.34_1cbdf2fa.mp4: 384x640 2 ripeds, 3 unripeds, 14.9ms\n",
            "video 1/1 (347/1004) /content/WhatsApp Video 2024-02-19 at 13.14.34_1cbdf2fa.mp4: 384x640 2 ripeds, 3 unripeds, 10.1ms\n",
            "video 1/1 (348/1004) /content/WhatsApp Video 2024-02-19 at 13.14.34_1cbdf2fa.mp4: 384x640 2 ripeds, 3 unripeds, 13.3ms\n",
            "video 1/1 (349/1004) /content/WhatsApp Video 2024-02-19 at 13.14.34_1cbdf2fa.mp4: 384x640 2 ripeds, 2 unripeds, 13.2ms\n",
            "video 1/1 (350/1004) /content/WhatsApp Video 2024-02-19 at 13.14.34_1cbdf2fa.mp4: 384x640 2 ripeds, 2 unripeds, 12.8ms\n",
            "video 1/1 (351/1004) /content/WhatsApp Video 2024-02-19 at 13.14.34_1cbdf2fa.mp4: 384x640 1 riped, 2 unripeds, 14.5ms\n",
            "video 1/1 (352/1004) /content/WhatsApp Video 2024-02-19 at 13.14.34_1cbdf2fa.mp4: 384x640 2 ripeds, 2 unripeds, 13.5ms\n",
            "video 1/1 (353/1004) /content/WhatsApp Video 2024-02-19 at 13.14.34_1cbdf2fa.mp4: 384x640 2 ripeds, 2 unripeds, 13.5ms\n",
            "video 1/1 (354/1004) /content/WhatsApp Video 2024-02-19 at 13.14.34_1cbdf2fa.mp4: 384x640 2 ripeds, 2 unripeds, 13.4ms\n",
            "video 1/1 (355/1004) /content/WhatsApp Video 2024-02-19 at 13.14.34_1cbdf2fa.mp4: 384x640 1 riped, 3 unripeds, 13.4ms\n",
            "video 1/1 (356/1004) /content/WhatsApp Video 2024-02-19 at 13.14.34_1cbdf2fa.mp4: 384x640 1 riped, 3 unripeds, 14.0ms\n",
            "video 1/1 (357/1004) /content/WhatsApp Video 2024-02-19 at 13.14.34_1cbdf2fa.mp4: 384x640 2 ripeds, 3 unripeds, 15.7ms\n",
            "video 1/1 (358/1004) /content/WhatsApp Video 2024-02-19 at 13.14.34_1cbdf2fa.mp4: 384x640 2 ripeds, 2 unripeds, 15.6ms\n",
            "video 1/1 (359/1004) /content/WhatsApp Video 2024-02-19 at 13.14.34_1cbdf2fa.mp4: 384x640 1 riped, 3 unripeds, 13.6ms\n",
            "video 1/1 (360/1004) /content/WhatsApp Video 2024-02-19 at 13.14.34_1cbdf2fa.mp4: 384x640 1 riped, 3 unripeds, 8.6ms\n",
            "video 1/1 (361/1004) /content/WhatsApp Video 2024-02-19 at 13.14.34_1cbdf2fa.mp4: 384x640 1 riped, 3 unripeds, 12.1ms\n",
            "video 1/1 (362/1004) /content/WhatsApp Video 2024-02-19 at 13.14.34_1cbdf2fa.mp4: 384x640 2 ripeds, 3 unripeds, 8.4ms\n",
            "video 1/1 (363/1004) /content/WhatsApp Video 2024-02-19 at 13.14.34_1cbdf2fa.mp4: 384x640 2 ripeds, 3 unripeds, 7.7ms\n",
            "video 1/1 (364/1004) /content/WhatsApp Video 2024-02-19 at 13.14.34_1cbdf2fa.mp4: 384x640 2 ripeds, 3 unripeds, 7.6ms\n",
            "video 1/1 (365/1004) /content/WhatsApp Video 2024-02-19 at 13.14.34_1cbdf2fa.mp4: 384x640 1 riped, 3 unripeds, 8.0ms\n",
            "video 1/1 (366/1004) /content/WhatsApp Video 2024-02-19 at 13.14.34_1cbdf2fa.mp4: 384x640 2 ripeds, 3 unripeds, 8.9ms\n",
            "video 1/1 (367/1004) /content/WhatsApp Video 2024-02-19 at 13.14.34_1cbdf2fa.mp4: 384x640 1 riped, 3 unripeds, 8.3ms\n",
            "video 1/1 (368/1004) /content/WhatsApp Video 2024-02-19 at 13.14.34_1cbdf2fa.mp4: 384x640 3 unripeds, 8.2ms\n",
            "video 1/1 (369/1004) /content/WhatsApp Video 2024-02-19 at 13.14.34_1cbdf2fa.mp4: 384x640 1 riped, 3 unripeds, 7.5ms\n",
            "video 1/1 (370/1004) /content/WhatsApp Video 2024-02-19 at 13.14.34_1cbdf2fa.mp4: 384x640 1 riped, 2 unripeds, 9.3ms\n",
            "video 1/1 (371/1004) /content/WhatsApp Video 2024-02-19 at 13.14.34_1cbdf2fa.mp4: 384x640 2 ripeds, 2 unripeds, 8.0ms\n",
            "video 1/1 (372/1004) /content/WhatsApp Video 2024-02-19 at 13.14.34_1cbdf2fa.mp4: 384x640 1 riped, 2 unripeds, 7.8ms\n",
            "video 1/1 (373/1004) /content/WhatsApp Video 2024-02-19 at 13.14.34_1cbdf2fa.mp4: 384x640 1 riped, 3 unripeds, 10.0ms\n",
            "video 1/1 (374/1004) /content/WhatsApp Video 2024-02-19 at 13.14.34_1cbdf2fa.mp4: 384x640 2 ripeds, 3 unripeds, 10.1ms\n",
            "video 1/1 (375/1004) /content/WhatsApp Video 2024-02-19 at 13.14.34_1cbdf2fa.mp4: 384x640 1 riped, 3 unripeds, 7.7ms\n",
            "video 1/1 (376/1004) /content/WhatsApp Video 2024-02-19 at 13.14.34_1cbdf2fa.mp4: 384x640 1 riped, 3 unripeds, 10.0ms\n",
            "video 1/1 (377/1004) /content/WhatsApp Video 2024-02-19 at 13.14.34_1cbdf2fa.mp4: 384x640 2 ripeds, 3 unripeds, 7.3ms\n",
            "video 1/1 (378/1004) /content/WhatsApp Video 2024-02-19 at 13.14.34_1cbdf2fa.mp4: 384x640 1 riped, 3 unripeds, 9.5ms\n",
            "video 1/1 (379/1004) /content/WhatsApp Video 2024-02-19 at 13.14.34_1cbdf2fa.mp4: 384x640 2 ripeds, 2 unripeds, 8.7ms\n",
            "video 1/1 (380/1004) /content/WhatsApp Video 2024-02-19 at 13.14.34_1cbdf2fa.mp4: 384x640 1 riped, 2 unripeds, 7.6ms\n",
            "video 1/1 (381/1004) /content/WhatsApp Video 2024-02-19 at 13.14.34_1cbdf2fa.mp4: 384x640 1 riped, 2 unripeds, 8.0ms\n",
            "video 1/1 (382/1004) /content/WhatsApp Video 2024-02-19 at 13.14.34_1cbdf2fa.mp4: 384x640 1 riped, 2 unripeds, 8.8ms\n",
            "video 1/1 (383/1004) /content/WhatsApp Video 2024-02-19 at 13.14.34_1cbdf2fa.mp4: 384x640 1 riped, 2 unripeds, 8.9ms\n",
            "video 1/1 (384/1004) /content/WhatsApp Video 2024-02-19 at 13.14.34_1cbdf2fa.mp4: 384x640 2 ripeds, 2 unripeds, 9.7ms\n",
            "video 1/1 (385/1004) /content/WhatsApp Video 2024-02-19 at 13.14.34_1cbdf2fa.mp4: 384x640 2 unripeds, 10.4ms\n",
            "video 1/1 (386/1004) /content/WhatsApp Video 2024-02-19 at 13.14.34_1cbdf2fa.mp4: 384x640 2 unripeds, 8.0ms\n",
            "video 1/1 (387/1004) /content/WhatsApp Video 2024-02-19 at 13.14.34_1cbdf2fa.mp4: 384x640 2 unripeds, 7.8ms\n",
            "video 1/1 (388/1004) /content/WhatsApp Video 2024-02-19 at 13.14.34_1cbdf2fa.mp4: 384x640 2 unripeds, 7.9ms\n",
            "video 1/1 (389/1004) /content/WhatsApp Video 2024-02-19 at 13.14.34_1cbdf2fa.mp4: 384x640 2 unripeds, 9.5ms\n",
            "video 1/1 (390/1004) /content/WhatsApp Video 2024-02-19 at 13.14.34_1cbdf2fa.mp4: 384x640 2 unripeds, 8.2ms\n",
            "video 1/1 (391/1004) /content/WhatsApp Video 2024-02-19 at 13.14.34_1cbdf2fa.mp4: 384x640 1 unriped, 8.0ms\n",
            "video 1/1 (392/1004) /content/WhatsApp Video 2024-02-19 at 13.14.34_1cbdf2fa.mp4: 384x640 1 unriped, 7.8ms\n",
            "video 1/1 (393/1004) /content/WhatsApp Video 2024-02-19 at 13.14.34_1cbdf2fa.mp4: 384x640 1 unriped, 7.8ms\n",
            "video 1/1 (394/1004) /content/WhatsApp Video 2024-02-19 at 13.14.34_1cbdf2fa.mp4: 384x640 1 unriped, 8.1ms\n",
            "video 1/1 (395/1004) /content/WhatsApp Video 2024-02-19 at 13.14.34_1cbdf2fa.mp4: 384x640 1 unriped, 8.6ms\n",
            "video 1/1 (396/1004) /content/WhatsApp Video 2024-02-19 at 13.14.34_1cbdf2fa.mp4: 384x640 1 unriped, 9.1ms\n",
            "video 1/1 (397/1004) /content/WhatsApp Video 2024-02-19 at 13.14.34_1cbdf2fa.mp4: 384x640 1 unriped, 8.4ms\n",
            "video 1/1 (398/1004) /content/WhatsApp Video 2024-02-19 at 13.14.34_1cbdf2fa.mp4: 384x640 1 unriped, 9.0ms\n",
            "video 1/1 (399/1004) /content/WhatsApp Video 2024-02-19 at 13.14.34_1cbdf2fa.mp4: 384x640 1 unriped, 7.6ms\n",
            "video 1/1 (400/1004) /content/WhatsApp Video 2024-02-19 at 13.14.34_1cbdf2fa.mp4: 384x640 1 unriped, 7.5ms\n",
            "video 1/1 (401/1004) /content/WhatsApp Video 2024-02-19 at 13.14.34_1cbdf2fa.mp4: 384x640 2 unripeds, 8.9ms\n",
            "video 1/1 (402/1004) /content/WhatsApp Video 2024-02-19 at 13.14.34_1cbdf2fa.mp4: 384x640 1 unriped, 7.7ms\n",
            "video 1/1 (403/1004) /content/WhatsApp Video 2024-02-19 at 13.14.34_1cbdf2fa.mp4: 384x640 2 unripeds, 9.9ms\n",
            "video 1/1 (404/1004) /content/WhatsApp Video 2024-02-19 at 13.14.34_1cbdf2fa.mp4: 384x640 1 riped, 3 unripeds, 8.3ms\n",
            "video 1/1 (405/1004) /content/WhatsApp Video 2024-02-19 at 13.14.34_1cbdf2fa.mp4: 384x640 1 riped, 3 unripeds, 8.4ms\n",
            "video 1/1 (406/1004) /content/WhatsApp Video 2024-02-19 at 13.14.34_1cbdf2fa.mp4: 384x640 1 riped, 2 unripeds, 7.7ms\n",
            "video 1/1 (407/1004) /content/WhatsApp Video 2024-02-19 at 13.14.34_1cbdf2fa.mp4: 384x640 1 riped, 1 unriped, 7.9ms\n",
            "video 1/1 (408/1004) /content/WhatsApp Video 2024-02-19 at 13.14.34_1cbdf2fa.mp4: 384x640 1 riped, 1 unriped, 7.7ms\n",
            "video 1/1 (409/1004) /content/WhatsApp Video 2024-02-19 at 13.14.34_1cbdf2fa.mp4: 384x640 1 riped, 1 unriped, 8.0ms\n",
            "video 1/1 (410/1004) /content/WhatsApp Video 2024-02-19 at 13.14.34_1cbdf2fa.mp4: 384x640 1 unriped, 8.7ms\n",
            "video 1/1 (411/1004) /content/WhatsApp Video 2024-02-19 at 13.14.34_1cbdf2fa.mp4: 384x640 1 riped, 1 unriped, 7.9ms\n",
            "video 1/1 (412/1004) /content/WhatsApp Video 2024-02-19 at 13.14.34_1cbdf2fa.mp4: 384x640 1 riped, 1 unriped, 7.6ms\n",
            "video 1/1 (413/1004) /content/WhatsApp Video 2024-02-19 at 13.14.34_1cbdf2fa.mp4: 384x640 1 riped, 1 unriped, 7.6ms\n",
            "video 1/1 (414/1004) /content/WhatsApp Video 2024-02-19 at 13.14.34_1cbdf2fa.mp4: 384x640 1 riped, 2 unripeds, 8.9ms\n",
            "video 1/1 (415/1004) /content/WhatsApp Video 2024-02-19 at 13.14.34_1cbdf2fa.mp4: 384x640 1 riped, 2 unripeds, 7.7ms\n",
            "video 1/1 (416/1004) /content/WhatsApp Video 2024-02-19 at 13.14.34_1cbdf2fa.mp4: 384x640 1 riped, 1 unriped, 10.0ms\n",
            "video 1/1 (417/1004) /content/WhatsApp Video 2024-02-19 at 13.14.34_1cbdf2fa.mp4: 384x640 1 riped, 1 unriped, 7.7ms\n",
            "video 1/1 (418/1004) /content/WhatsApp Video 2024-02-19 at 13.14.34_1cbdf2fa.mp4: 384x640 1 riped, 1 unriped, 8.1ms\n",
            "video 1/1 (419/1004) /content/WhatsApp Video 2024-02-19 at 13.14.34_1cbdf2fa.mp4: 384x640 2 unripeds, 8.5ms\n",
            "video 1/1 (420/1004) /content/WhatsApp Video 2024-02-19 at 13.14.34_1cbdf2fa.mp4: 384x640 2 unripeds, 9.7ms\n",
            "video 1/1 (421/1004) /content/WhatsApp Video 2024-02-19 at 13.14.34_1cbdf2fa.mp4: 384x640 1 riped, 2 unripeds, 10.1ms\n",
            "video 1/1 (422/1004) /content/WhatsApp Video 2024-02-19 at 13.14.34_1cbdf2fa.mp4: 384x640 1 riped, 2 unripeds, 8.9ms\n",
            "video 1/1 (423/1004) /content/WhatsApp Video 2024-02-19 at 13.14.34_1cbdf2fa.mp4: 384x640 1 riped, 2 unripeds, 10.0ms\n",
            "video 1/1 (424/1004) /content/WhatsApp Video 2024-02-19 at 13.14.34_1cbdf2fa.mp4: 384x640 2 unripeds, 8.1ms\n",
            "video 1/1 (425/1004) /content/WhatsApp Video 2024-02-19 at 13.14.34_1cbdf2fa.mp4: 384x640 2 ripeds, 2 unripeds, 10.2ms\n",
            "video 1/1 (426/1004) /content/WhatsApp Video 2024-02-19 at 13.14.34_1cbdf2fa.mp4: 384x640 1 riped, 1 unriped, 7.6ms\n",
            "video 1/1 (427/1004) /content/WhatsApp Video 2024-02-19 at 13.14.34_1cbdf2fa.mp4: 384x640 1 unriped, 7.8ms\n",
            "video 1/1 (428/1004) /content/WhatsApp Video 2024-02-19 at 13.14.34_1cbdf2fa.mp4: 384x640 1 unriped, 7.9ms\n",
            "video 1/1 (429/1004) /content/WhatsApp Video 2024-02-19 at 13.14.34_1cbdf2fa.mp4: 384x640 2 unripeds, 7.4ms\n",
            "video 1/1 (430/1004) /content/WhatsApp Video 2024-02-19 at 13.14.34_1cbdf2fa.mp4: 384x640 1 riped, 2 unripeds, 7.3ms\n",
            "video 1/1 (431/1004) /content/WhatsApp Video 2024-02-19 at 13.14.34_1cbdf2fa.mp4: 384x640 1 riped, 2 unripeds, 7.6ms\n",
            "video 1/1 (432/1004) /content/WhatsApp Video 2024-02-19 at 13.14.34_1cbdf2fa.mp4: 384x640 1 riped, 2 unripeds, 7.8ms\n",
            "video 1/1 (433/1004) /content/WhatsApp Video 2024-02-19 at 13.14.34_1cbdf2fa.mp4: 384x640 2 unripeds, 8.1ms\n",
            "video 1/1 (434/1004) /content/WhatsApp Video 2024-02-19 at 13.14.34_1cbdf2fa.mp4: 384x640 2 ripeds, 2 unripeds, 8.3ms\n",
            "video 1/1 (435/1004) /content/WhatsApp Video 2024-02-19 at 13.14.34_1cbdf2fa.mp4: 384x640 2 ripeds, 2 unripeds, 7.9ms\n",
            "video 1/1 (436/1004) /content/WhatsApp Video 2024-02-19 at 13.14.34_1cbdf2fa.mp4: 384x640 2 unripeds, 10.4ms\n",
            "video 1/1 (437/1004) /content/WhatsApp Video 2024-02-19 at 13.14.34_1cbdf2fa.mp4: 384x640 2 unripeds, 8.3ms\n",
            "video 1/1 (438/1004) /content/WhatsApp Video 2024-02-19 at 13.14.34_1cbdf2fa.mp4: 384x640 2 unripeds, 8.6ms\n",
            "video 1/1 (439/1004) /content/WhatsApp Video 2024-02-19 at 13.14.34_1cbdf2fa.mp4: 384x640 2 ripeds, 2 unripeds, 8.0ms\n",
            "video 1/1 (440/1004) /content/WhatsApp Video 2024-02-19 at 13.14.34_1cbdf2fa.mp4: 384x640 1 riped, 2 unripeds, 7.5ms\n",
            "video 1/1 (441/1004) /content/WhatsApp Video 2024-02-19 at 13.14.34_1cbdf2fa.mp4: 384x640 1 riped, 2 unripeds, 10.0ms\n",
            "video 1/1 (442/1004) /content/WhatsApp Video 2024-02-19 at 13.14.34_1cbdf2fa.mp4: 384x640 1 riped, 2 unripeds, 8.0ms\n",
            "video 1/1 (443/1004) /content/WhatsApp Video 2024-02-19 at 13.14.34_1cbdf2fa.mp4: 384x640 2 ripeds, 2 unripeds, 9.9ms\n",
            "video 1/1 (444/1004) /content/WhatsApp Video 2024-02-19 at 13.14.34_1cbdf2fa.mp4: 384x640 1 riped, 3 unripeds, 9.7ms\n",
            "video 1/1 (445/1004) /content/WhatsApp Video 2024-02-19 at 13.14.34_1cbdf2fa.mp4: 384x640 2 ripeds, 2 unripeds, 7.7ms\n",
            "video 1/1 (446/1004) /content/WhatsApp Video 2024-02-19 at 13.14.34_1cbdf2fa.mp4: 384x640 1 riped, 2 unripeds, 7.9ms\n",
            "video 1/1 (447/1004) /content/WhatsApp Video 2024-02-19 at 13.14.34_1cbdf2fa.mp4: 384x640 2 ripeds, 2 unripeds, 8.3ms\n",
            "video 1/1 (448/1004) /content/WhatsApp Video 2024-02-19 at 13.14.34_1cbdf2fa.mp4: 384x640 2 unripeds, 13.5ms\n",
            "video 1/1 (449/1004) /content/WhatsApp Video 2024-02-19 at 13.14.34_1cbdf2fa.mp4: 384x640 2 unripeds, 7.9ms\n",
            "video 1/1 (450/1004) /content/WhatsApp Video 2024-02-19 at 13.14.34_1cbdf2fa.mp4: 384x640 2 ripeds, 2 unripeds, 8.8ms\n",
            "video 1/1 (451/1004) /content/WhatsApp Video 2024-02-19 at 13.14.34_1cbdf2fa.mp4: 384x640 1 riped, 2 unripeds, 11.6ms\n",
            "video 1/1 (452/1004) /content/WhatsApp Video 2024-02-19 at 13.14.34_1cbdf2fa.mp4: 384x640 1 riped, 2 unripeds, 13.2ms\n",
            "video 1/1 (453/1004) /content/WhatsApp Video 2024-02-19 at 13.14.34_1cbdf2fa.mp4: 384x640 2 unripeds, 7.6ms\n",
            "video 1/1 (454/1004) /content/WhatsApp Video 2024-02-19 at 13.14.34_1cbdf2fa.mp4: 384x640 2 ripeds, 2 unripeds, 10.9ms\n",
            "video 1/1 (455/1004) /content/WhatsApp Video 2024-02-19 at 13.14.34_1cbdf2fa.mp4: 384x640 2 ripeds, 2 unripeds, 8.4ms\n",
            "video 1/1 (456/1004) /content/WhatsApp Video 2024-02-19 at 13.14.34_1cbdf2fa.mp4: 384x640 2 ripeds, 2 unripeds, 7.6ms\n",
            "video 1/1 (457/1004) /content/WhatsApp Video 2024-02-19 at 13.14.34_1cbdf2fa.mp4: 384x640 1 riped, 2 unripeds, 9.1ms\n",
            "video 1/1 (458/1004) /content/WhatsApp Video 2024-02-19 at 13.14.34_1cbdf2fa.mp4: 384x640 2 unripeds, 9.6ms\n",
            "video 1/1 (459/1004) /content/WhatsApp Video 2024-02-19 at 13.14.34_1cbdf2fa.mp4: 384x640 2 ripeds, 2 unripeds, 8.0ms\n",
            "video 1/1 (460/1004) /content/WhatsApp Video 2024-02-19 at 13.14.34_1cbdf2fa.mp4: 384x640 2 ripeds, 2 unripeds, 8.0ms\n",
            "video 1/1 (461/1004) /content/WhatsApp Video 2024-02-19 at 13.14.34_1cbdf2fa.mp4: 384x640 2 ripeds, 1 unriped, 9.7ms\n",
            "video 1/1 (462/1004) /content/WhatsApp Video 2024-02-19 at 13.14.34_1cbdf2fa.mp4: 384x640 2 unripeds, 10.6ms\n",
            "video 1/1 (463/1004) /content/WhatsApp Video 2024-02-19 at 13.14.34_1cbdf2fa.mp4: 384x640 2 ripeds, 3 unripeds, 8.4ms\n",
            "video 1/1 (464/1004) /content/WhatsApp Video 2024-02-19 at 13.14.34_1cbdf2fa.mp4: 384x640 2 ripeds, 2 unripeds, 8.4ms\n",
            "video 1/1 (465/1004) /content/WhatsApp Video 2024-02-19 at 13.14.34_1cbdf2fa.mp4: 384x640 1 riped, 2 unripeds, 7.4ms\n",
            "video 1/1 (466/1004) /content/WhatsApp Video 2024-02-19 at 13.14.34_1cbdf2fa.mp4: 384x640 1 riped, 2 unripeds, 8.2ms\n",
            "video 1/1 (467/1004) /content/WhatsApp Video 2024-02-19 at 13.14.34_1cbdf2fa.mp4: 384x640 1 riped, 2 unripeds, 7.5ms\n",
            "video 1/1 (468/1004) /content/WhatsApp Video 2024-02-19 at 13.14.34_1cbdf2fa.mp4: 384x640 2 ripeds, 2 unripeds, 7.5ms\n",
            "video 1/1 (469/1004) /content/WhatsApp Video 2024-02-19 at 13.14.34_1cbdf2fa.mp4: 384x640 1 riped, 1 unriped, 9.5ms\n",
            "video 1/1 (470/1004) /content/WhatsApp Video 2024-02-19 at 13.14.34_1cbdf2fa.mp4: 384x640 1 riped, 2 unripeds, 10.9ms\n",
            "video 1/1 (471/1004) /content/WhatsApp Video 2024-02-19 at 13.14.34_1cbdf2fa.mp4: 384x640 2 unripeds, 9.5ms\n",
            "video 1/1 (472/1004) /content/WhatsApp Video 2024-02-19 at 13.14.34_1cbdf2fa.mp4: 384x640 2 ripeds, 3 unripeds, 9.7ms\n",
            "video 1/1 (473/1004) /content/WhatsApp Video 2024-02-19 at 13.14.34_1cbdf2fa.mp4: 384x640 2 ripeds, 2 unripeds, 10.1ms\n",
            "video 1/1 (474/1004) /content/WhatsApp Video 2024-02-19 at 13.14.34_1cbdf2fa.mp4: 384x640 1 riped, 2 unripeds, 10.4ms\n",
            "video 1/1 (475/1004) /content/WhatsApp Video 2024-02-19 at 13.14.34_1cbdf2fa.mp4: 384x640 1 riped, 2 unripeds, 10.1ms\n",
            "video 1/1 (476/1004) /content/WhatsApp Video 2024-02-19 at 13.14.34_1cbdf2fa.mp4: 384x640 1 riped, 2 unripeds, 9.7ms\n",
            "video 1/1 (477/1004) /content/WhatsApp Video 2024-02-19 at 13.14.34_1cbdf2fa.mp4: 384x640 2 ripeds, 2 unripeds, 11.3ms\n",
            "video 1/1 (478/1004) /content/WhatsApp Video 2024-02-19 at 13.14.34_1cbdf2fa.mp4: 384x640 2 ripeds, 2 unripeds, 9.0ms\n",
            "video 1/1 (479/1004) /content/WhatsApp Video 2024-02-19 at 13.14.34_1cbdf2fa.mp4: 384x640 2 ripeds, 2 unripeds, 10.6ms\n",
            "video 1/1 (480/1004) /content/WhatsApp Video 2024-02-19 at 13.14.34_1cbdf2fa.mp4: 384x640 1 riped, 3 unripeds, 9.4ms\n",
            "video 1/1 (481/1004) /content/WhatsApp Video 2024-02-19 at 13.14.34_1cbdf2fa.mp4: 384x640 2 ripeds, 3 unripeds, 10.5ms\n",
            "video 1/1 (482/1004) /content/WhatsApp Video 2024-02-19 at 13.14.34_1cbdf2fa.mp4: 384x640 2 ripeds, 2 unripeds, 9.2ms\n",
            "video 1/1 (483/1004) /content/WhatsApp Video 2024-02-19 at 13.14.34_1cbdf2fa.mp4: 384x640 1 riped, 2 unripeds, 8.7ms\n",
            "video 1/1 (484/1004) /content/WhatsApp Video 2024-02-19 at 13.14.34_1cbdf2fa.mp4: 384x640 1 riped, 2 unripeds, 8.1ms\n",
            "video 1/1 (485/1004) /content/WhatsApp Video 2024-02-19 at 13.14.34_1cbdf2fa.mp4: 384x640 1 riped, 2 unripeds, 7.9ms\n",
            "video 1/1 (486/1004) /content/WhatsApp Video 2024-02-19 at 13.14.34_1cbdf2fa.mp4: 384x640 1 riped, 2 unripeds, 8.1ms\n",
            "video 1/1 (487/1004) /content/WhatsApp Video 2024-02-19 at 13.14.34_1cbdf2fa.mp4: 384x640 2 unripeds, 9.1ms\n",
            "video 1/1 (488/1004) /content/WhatsApp Video 2024-02-19 at 13.14.34_1cbdf2fa.mp4: 384x640 1 unriped, 7.9ms\n",
            "video 1/1 (489/1004) /content/WhatsApp Video 2024-02-19 at 13.14.34_1cbdf2fa.mp4: 384x640 1 riped, 3 unripeds, 8.5ms\n",
            "video 1/1 (490/1004) /content/WhatsApp Video 2024-02-19 at 13.14.34_1cbdf2fa.mp4: 384x640 1 riped, 3 unripeds, 8.4ms\n",
            "video 1/1 (491/1004) /content/WhatsApp Video 2024-02-19 at 13.14.34_1cbdf2fa.mp4: 384x640 2 ripeds, 2 unripeds, 8.4ms\n",
            "video 1/1 (492/1004) /content/WhatsApp Video 2024-02-19 at 13.14.34_1cbdf2fa.mp4: 384x640 2 ripeds, 2 unripeds, 13.9ms\n",
            "video 1/1 (493/1004) /content/WhatsApp Video 2024-02-19 at 13.14.34_1cbdf2fa.mp4: 384x640 2 ripeds, 2 unripeds, 9.3ms\n",
            "video 1/1 (494/1004) /content/WhatsApp Video 2024-02-19 at 13.14.34_1cbdf2fa.mp4: 384x640 2 ripeds, 2 unripeds, 9.0ms\n",
            "video 1/1 (495/1004) /content/WhatsApp Video 2024-02-19 at 13.14.34_1cbdf2fa.mp4: 384x640 2 ripeds, 2 unripeds, 8.8ms\n",
            "video 1/1 (496/1004) /content/WhatsApp Video 2024-02-19 at 13.14.34_1cbdf2fa.mp4: 384x640 2 ripeds, 1 unriped, 10.1ms\n",
            "video 1/1 (497/1004) /content/WhatsApp Video 2024-02-19 at 13.14.34_1cbdf2fa.mp4: 384x640 3 ripeds, 3 unripeds, 9.3ms\n",
            "video 1/1 (498/1004) /content/WhatsApp Video 2024-02-19 at 13.14.34_1cbdf2fa.mp4: 384x640 3 ripeds, 3 unripeds, 9.8ms\n",
            "video 1/1 (499/1004) /content/WhatsApp Video 2024-02-19 at 13.14.34_1cbdf2fa.mp4: 384x640 3 ripeds, 3 unripeds, 8.9ms\n",
            "video 1/1 (500/1004) /content/WhatsApp Video 2024-02-19 at 13.14.34_1cbdf2fa.mp4: 384x640 3 ripeds, 2 unripeds, 8.9ms\n",
            "video 1/1 (501/1004) /content/WhatsApp Video 2024-02-19 at 13.14.34_1cbdf2fa.mp4: 384x640 3 ripeds, 2 unripeds, 8.3ms\n",
            "video 1/1 (502/1004) /content/WhatsApp Video 2024-02-19 at 13.14.34_1cbdf2fa.mp4: 384x640 3 ripeds, 2 unripeds, 9.1ms\n",
            "video 1/1 (503/1004) /content/WhatsApp Video 2024-02-19 at 13.14.34_1cbdf2fa.mp4: 384x640 2 ripeds, 2 unripeds, 8.1ms\n",
            "video 1/1 (504/1004) /content/WhatsApp Video 2024-02-19 at 13.14.34_1cbdf2fa.mp4: 384x640 2 ripeds, 2 unripeds, 7.8ms\n",
            "video 1/1 (505/1004) /content/WhatsApp Video 2024-02-19 at 13.14.34_1cbdf2fa.mp4: 384x640 1 riped, 2 unripeds, 10.1ms\n",
            "video 1/1 (506/1004) /content/WhatsApp Video 2024-02-19 at 13.14.34_1cbdf2fa.mp4: 384x640 2 ripeds, 3 unripeds, 10.4ms\n",
            "video 1/1 (507/1004) /content/WhatsApp Video 2024-02-19 at 13.14.34_1cbdf2fa.mp4: 384x640 2 ripeds, 3 unripeds, 8.8ms\n",
            "video 1/1 (508/1004) /content/WhatsApp Video 2024-02-19 at 13.14.34_1cbdf2fa.mp4: 384x640 2 ripeds, 3 unripeds, 10.2ms\n",
            "video 1/1 (509/1004) /content/WhatsApp Video 2024-02-19 at 13.14.34_1cbdf2fa.mp4: 384x640 4 ripeds, 3 unripeds, 11.6ms\n",
            "video 1/1 (510/1004) /content/WhatsApp Video 2024-02-19 at 13.14.34_1cbdf2fa.mp4: 384x640 4 ripeds, 2 unripeds, 9.3ms\n",
            "video 1/1 (511/1004) /content/WhatsApp Video 2024-02-19 at 13.14.34_1cbdf2fa.mp4: 384x640 4 ripeds, 2 unripeds, 10.6ms\n",
            "video 1/1 (512/1004) /content/WhatsApp Video 2024-02-19 at 13.14.34_1cbdf2fa.mp4: 384x640 3 ripeds, 2 unripeds, 10.1ms\n",
            "video 1/1 (513/1004) /content/WhatsApp Video 2024-02-19 at 13.14.34_1cbdf2fa.mp4: 384x640 3 ripeds, 2 unripeds, 10.0ms\n",
            "video 1/1 (514/1004) /content/WhatsApp Video 2024-02-19 at 13.14.34_1cbdf2fa.mp4: 384x640 3 ripeds, 2 unripeds, 9.5ms\n",
            "video 1/1 (515/1004) /content/WhatsApp Video 2024-02-19 at 13.14.34_1cbdf2fa.mp4: 384x640 2 ripeds, 3 unripeds, 10.8ms\n",
            "video 1/1 (516/1004) /content/WhatsApp Video 2024-02-19 at 13.14.34_1cbdf2fa.mp4: 384x640 2 ripeds, 3 unripeds, 9.0ms\n",
            "video 1/1 (517/1004) /content/WhatsApp Video 2024-02-19 at 13.14.34_1cbdf2fa.mp4: 384x640 2 ripeds, 3 unripeds, 10.8ms\n",
            "video 1/1 (518/1004) /content/WhatsApp Video 2024-02-19 at 13.14.34_1cbdf2fa.mp4: 384x640 3 ripeds, 3 unripeds, 9.0ms\n",
            "video 1/1 (519/1004) /content/WhatsApp Video 2024-02-19 at 13.14.34_1cbdf2fa.mp4: 384x640 4 ripeds, 1 unriped, 11.1ms\n",
            "video 1/1 (520/1004) /content/WhatsApp Video 2024-02-19 at 13.14.34_1cbdf2fa.mp4: 384x640 4 ripeds, 1 unriped, 15.1ms\n",
            "video 1/1 (521/1004) /content/WhatsApp Video 2024-02-19 at 13.14.34_1cbdf2fa.mp4: 384x640 3 ripeds, 2 unripeds, 11.6ms\n",
            "video 1/1 (522/1004) /content/WhatsApp Video 2024-02-19 at 13.14.34_1cbdf2fa.mp4: 384x640 2 ripeds, 2 unripeds, 10.7ms\n",
            "video 1/1 (523/1004) /content/WhatsApp Video 2024-02-19 at 13.14.34_1cbdf2fa.mp4: 384x640 1 riped, 2 unripeds, 10.8ms\n",
            "video 1/1 (524/1004) /content/WhatsApp Video 2024-02-19 at 13.14.34_1cbdf2fa.mp4: 384x640 3 ripeds, 3 unripeds, 8.8ms\n",
            "video 1/1 (525/1004) /content/WhatsApp Video 2024-02-19 at 13.14.34_1cbdf2fa.mp4: 384x640 3 ripeds, 3 unripeds, 12.2ms\n",
            "video 1/1 (526/1004) /content/WhatsApp Video 2024-02-19 at 13.14.34_1cbdf2fa.mp4: 384x640 2 ripeds, 3 unripeds, 8.5ms\n",
            "video 1/1 (527/1004) /content/WhatsApp Video 2024-02-19 at 13.14.34_1cbdf2fa.mp4: 384x640 2 ripeds, 3 unripeds, 8.7ms\n",
            "video 1/1 (528/1004) /content/WhatsApp Video 2024-02-19 at 13.14.34_1cbdf2fa.mp4: 384x640 3 ripeds, 3 unripeds, 8.2ms\n",
            "video 1/1 (529/1004) /content/WhatsApp Video 2024-02-19 at 13.14.34_1cbdf2fa.mp4: 384x640 3 ripeds, 1 unriped, 8.4ms\n",
            "video 1/1 (530/1004) /content/WhatsApp Video 2024-02-19 at 13.14.34_1cbdf2fa.mp4: 384x640 3 ripeds, 1 unriped, 10.1ms\n",
            "video 1/1 (531/1004) /content/WhatsApp Video 2024-02-19 at 13.14.34_1cbdf2fa.mp4: 384x640 2 ripeds, 1 unriped, 8.2ms\n",
            "video 1/1 (532/1004) /content/WhatsApp Video 2024-02-19 at 13.14.34_1cbdf2fa.mp4: 384x640 2 ripeds, 2 unripeds, 18.0ms\n",
            "video 1/1 (533/1004) /content/WhatsApp Video 2024-02-19 at 13.14.34_1cbdf2fa.mp4: 384x640 2 ripeds, 2 unripeds, 8.3ms\n",
            "video 1/1 (534/1004) /content/WhatsApp Video 2024-02-19 at 13.14.34_1cbdf2fa.mp4: 384x640 2 ripeds, 3 unripeds, 10.9ms\n",
            "video 1/1 (535/1004) /content/WhatsApp Video 2024-02-19 at 13.14.34_1cbdf2fa.mp4: 384x640 2 ripeds, 3 unripeds, 11.2ms\n",
            "video 1/1 (536/1004) /content/WhatsApp Video 2024-02-19 at 13.14.34_1cbdf2fa.mp4: 384x640 2 ripeds, 3 unripeds, 10.5ms\n",
            "video 1/1 (537/1004) /content/WhatsApp Video 2024-02-19 at 13.14.34_1cbdf2fa.mp4: 384x640 3 ripeds, 2 unripeds, 10.1ms\n",
            "video 1/1 (538/1004) /content/WhatsApp Video 2024-02-19 at 13.14.34_1cbdf2fa.mp4: 384x640 2 ripeds, 2 unripeds, 10.3ms\n",
            "video 1/1 (539/1004) /content/WhatsApp Video 2024-02-19 at 13.14.34_1cbdf2fa.mp4: 384x640 3 ripeds, 2 unripeds, 9.9ms\n",
            "video 1/1 (540/1004) /content/WhatsApp Video 2024-02-19 at 13.14.34_1cbdf2fa.mp4: 384x640 2 ripeds, 2 unripeds, 10.2ms\n",
            "video 1/1 (541/1004) /content/WhatsApp Video 2024-02-19 at 13.14.34_1cbdf2fa.mp4: 384x640 2 ripeds, 2 unripeds, 11.3ms\n",
            "video 1/1 (542/1004) /content/WhatsApp Video 2024-02-19 at 13.14.34_1cbdf2fa.mp4: 384x640 1 riped, 3 unripeds, 9.2ms\n",
            "video 1/1 (543/1004) /content/WhatsApp Video 2024-02-19 at 13.14.34_1cbdf2fa.mp4: 384x640 2 ripeds, 3 unripeds, 10.0ms\n",
            "video 1/1 (544/1004) /content/WhatsApp Video 2024-02-19 at 13.14.34_1cbdf2fa.mp4: 384x640 2 ripeds, 3 unripeds, 8.2ms\n",
            "video 1/1 (545/1004) /content/WhatsApp Video 2024-02-19 at 13.14.34_1cbdf2fa.mp4: 384x640 2 ripeds, 3 unripeds, 10.2ms\n",
            "video 1/1 (546/1004) /content/WhatsApp Video 2024-02-19 at 13.14.34_1cbdf2fa.mp4: 384x640 3 ripeds, 3 unripeds, 8.5ms\n",
            "video 1/1 (547/1004) /content/WhatsApp Video 2024-02-19 at 13.14.34_1cbdf2fa.mp4: 384x640 3 ripeds, 2 unripeds, 9.5ms\n",
            "video 1/1 (548/1004) /content/WhatsApp Video 2024-02-19 at 13.14.34_1cbdf2fa.mp4: 384x640 3 ripeds, 2 unripeds, 8.3ms\n",
            "video 1/1 (549/1004) /content/WhatsApp Video 2024-02-19 at 13.14.34_1cbdf2fa.mp4: 384x640 3 ripeds, 2 unripeds, 8.2ms\n",
            "video 1/1 (550/1004) /content/WhatsApp Video 2024-02-19 at 13.14.34_1cbdf2fa.mp4: 384x640 3 ripeds, 2 unripeds, 8.3ms\n",
            "video 1/1 (551/1004) /content/WhatsApp Video 2024-02-19 at 13.14.34_1cbdf2fa.mp4: 384x640 3 ripeds, 1 unriped, 8.3ms\n",
            "video 1/1 (552/1004) /content/WhatsApp Video 2024-02-19 at 13.14.34_1cbdf2fa.mp4: 384x640 3 ripeds, 1 unriped, 8.6ms\n",
            "video 1/1 (553/1004) /content/WhatsApp Video 2024-02-19 at 13.14.34_1cbdf2fa.mp4: 384x640 3 ripeds, 3 unripeds, 8.5ms\n",
            "video 1/1 (554/1004) /content/WhatsApp Video 2024-02-19 at 13.14.34_1cbdf2fa.mp4: 384x640 3 ripeds, 1 unriped, 8.3ms\n",
            "video 1/1 (555/1004) /content/WhatsApp Video 2024-02-19 at 13.14.34_1cbdf2fa.mp4: 384x640 3 ripeds, 1 unriped, 8.0ms\n",
            "video 1/1 (556/1004) /content/WhatsApp Video 2024-02-19 at 13.14.34_1cbdf2fa.mp4: 384x640 3 ripeds, 2 unripeds, 7.9ms\n",
            "video 1/1 (557/1004) /content/WhatsApp Video 2024-02-19 at 13.14.34_1cbdf2fa.mp4: 384x640 3 ripeds, 2 unripeds, 9.6ms\n",
            "video 1/1 (558/1004) /content/WhatsApp Video 2024-02-19 at 13.14.34_1cbdf2fa.mp4: 384x640 3 ripeds, 3 unripeds, 9.8ms\n",
            "video 1/1 (559/1004) /content/WhatsApp Video 2024-02-19 at 13.14.34_1cbdf2fa.mp4: 384x640 3 ripeds, 3 unripeds, 8.0ms\n",
            "video 1/1 (560/1004) /content/WhatsApp Video 2024-02-19 at 13.14.34_1cbdf2fa.mp4: 384x640 3 ripeds, 3 unripeds, 8.0ms\n",
            "video 1/1 (561/1004) /content/WhatsApp Video 2024-02-19 at 13.14.34_1cbdf2fa.mp4: 384x640 3 ripeds, 3 unripeds, 8.3ms\n",
            "video 1/1 (562/1004) /content/WhatsApp Video 2024-02-19 at 13.14.34_1cbdf2fa.mp4: 384x640 3 ripeds, 3 unripeds, 8.1ms\n",
            "video 1/1 (563/1004) /content/WhatsApp Video 2024-02-19 at 13.14.34_1cbdf2fa.mp4: 384x640 3 ripeds, 3 unripeds, 8.3ms\n",
            "video 1/1 (564/1004) /content/WhatsApp Video 2024-02-19 at 13.14.34_1cbdf2fa.mp4: 384x640 3 ripeds, 2 unripeds, 8.1ms\n",
            "video 1/1 (565/1004) /content/WhatsApp Video 2024-02-19 at 13.14.34_1cbdf2fa.mp4: 384x640 3 ripeds, 2 unripeds, 7.7ms\n",
            "video 1/1 (566/1004) /content/WhatsApp Video 2024-02-19 at 13.14.34_1cbdf2fa.mp4: 384x640 3 ripeds, 2 unripeds, 11.5ms\n",
            "video 1/1 (567/1004) /content/WhatsApp Video 2024-02-19 at 13.14.34_1cbdf2fa.mp4: 384x640 3 ripeds, 2 unripeds, 7.9ms\n",
            "video 1/1 (568/1004) /content/WhatsApp Video 2024-02-19 at 13.14.34_1cbdf2fa.mp4: 384x640 3 ripeds, 1 unriped, 8.3ms\n",
            "video 1/1 (569/1004) /content/WhatsApp Video 2024-02-19 at 13.14.34_1cbdf2fa.mp4: 384x640 3 ripeds, 2 unripeds, 7.9ms\n",
            "video 1/1 (570/1004) /content/WhatsApp Video 2024-02-19 at 13.14.34_1cbdf2fa.mp4: 384x640 3 ripeds, 2 unripeds, 10.0ms\n",
            "video 1/1 (571/1004) /content/WhatsApp Video 2024-02-19 at 13.14.34_1cbdf2fa.mp4: 384x640 3 ripeds, 2 unripeds, 7.9ms\n",
            "video 1/1 (572/1004) /content/WhatsApp Video 2024-02-19 at 13.14.34_1cbdf2fa.mp4: 384x640 3 ripeds, 2 unripeds, 8.0ms\n",
            "video 1/1 (573/1004) /content/WhatsApp Video 2024-02-19 at 13.14.34_1cbdf2fa.mp4: 384x640 3 ripeds, 2 unripeds, 7.7ms\n",
            "video 1/1 (574/1004) /content/WhatsApp Video 2024-02-19 at 13.14.34_1cbdf2fa.mp4: 384x640 3 ripeds, 2 unripeds, 12.1ms\n",
            "video 1/1 (575/1004) /content/WhatsApp Video 2024-02-19 at 13.14.34_1cbdf2fa.mp4: 384x640 3 ripeds, 3 unripeds, 9.7ms\n",
            "video 1/1 (576/1004) /content/WhatsApp Video 2024-02-19 at 13.14.34_1cbdf2fa.mp4: 384x640 3 ripeds, 2 unripeds, 7.9ms\n",
            "video 1/1 (577/1004) /content/WhatsApp Video 2024-02-19 at 13.14.34_1cbdf2fa.mp4: 384x640 3 ripeds, 3 unripeds, 8.8ms\n",
            "video 1/1 (578/1004) /content/WhatsApp Video 2024-02-19 at 13.14.34_1cbdf2fa.mp4: 384x640 3 ripeds, 3 unripeds, 8.0ms\n",
            "video 1/1 (579/1004) /content/WhatsApp Video 2024-02-19 at 13.14.34_1cbdf2fa.mp4: 384x640 3 ripeds, 3 unripeds, 10.2ms\n",
            "video 1/1 (580/1004) /content/WhatsApp Video 2024-02-19 at 13.14.34_1cbdf2fa.mp4: 384x640 3 ripeds, 3 unripeds, 7.7ms\n",
            "video 1/1 (581/1004) /content/WhatsApp Video 2024-02-19 at 13.14.34_1cbdf2fa.mp4: 384x640 3 ripeds, 2 unripeds, 9.9ms\n",
            "video 1/1 (582/1004) /content/WhatsApp Video 2024-02-19 at 13.14.34_1cbdf2fa.mp4: 384x640 3 ripeds, 2 unripeds, 7.9ms\n",
            "video 1/1 (583/1004) /content/WhatsApp Video 2024-02-19 at 13.14.34_1cbdf2fa.mp4: 384x640 3 ripeds, 2 unripeds, 7.9ms\n",
            "video 1/1 (584/1004) /content/WhatsApp Video 2024-02-19 at 13.14.34_1cbdf2fa.mp4: 384x640 3 ripeds, 2 unripeds, 7.8ms\n",
            "video 1/1 (585/1004) /content/WhatsApp Video 2024-02-19 at 13.14.34_1cbdf2fa.mp4: 384x640 3 ripeds, 2 unripeds, 8.4ms\n",
            "video 1/1 (586/1004) /content/WhatsApp Video 2024-02-19 at 13.14.34_1cbdf2fa.mp4: 384x640 3 ripeds, 2 unripeds, 7.8ms\n",
            "video 1/1 (587/1004) /content/WhatsApp Video 2024-02-19 at 13.14.34_1cbdf2fa.mp4: 384x640 3 ripeds, 3 unripeds, 7.8ms\n",
            "video 1/1 (588/1004) /content/WhatsApp Video 2024-02-19 at 13.14.34_1cbdf2fa.mp4: 384x640 3 ripeds, 2 unripeds, 8.0ms\n",
            "video 1/1 (589/1004) /content/WhatsApp Video 2024-02-19 at 13.14.34_1cbdf2fa.mp4: 384x640 3 ripeds, 3 unripeds, 7.6ms\n",
            "video 1/1 (590/1004) /content/WhatsApp Video 2024-02-19 at 13.14.34_1cbdf2fa.mp4: 384x640 3 ripeds, 2 unripeds, 7.7ms\n",
            "video 1/1 (591/1004) /content/WhatsApp Video 2024-02-19 at 13.14.34_1cbdf2fa.mp4: 384x640 3 ripeds, 2 unripeds, 8.4ms\n",
            "video 1/1 (592/1004) /content/WhatsApp Video 2024-02-19 at 13.14.34_1cbdf2fa.mp4: 384x640 3 ripeds, 2 unripeds, 7.7ms\n",
            "video 1/1 (593/1004) /content/WhatsApp Video 2024-02-19 at 13.14.34_1cbdf2fa.mp4: 384x640 3 ripeds, 2 unripeds, 7.4ms\n",
            "video 1/1 (594/1004) /content/WhatsApp Video 2024-02-19 at 13.14.34_1cbdf2fa.mp4: 384x640 3 ripeds, 2 unripeds, 7.6ms\n",
            "video 1/1 (595/1004) /content/WhatsApp Video 2024-02-19 at 13.14.34_1cbdf2fa.mp4: 384x640 3 ripeds, 2 unripeds, 7.4ms\n",
            "video 1/1 (596/1004) /content/WhatsApp Video 2024-02-19 at 13.14.34_1cbdf2fa.mp4: 384x640 3 ripeds, 3 unripeds, 7.5ms\n",
            "video 1/1 (597/1004) /content/WhatsApp Video 2024-02-19 at 13.14.34_1cbdf2fa.mp4: 384x640 3 ripeds, 3 unripeds, 7.4ms\n",
            "video 1/1 (598/1004) /content/WhatsApp Video 2024-02-19 at 13.14.34_1cbdf2fa.mp4: 384x640 3 ripeds, 3 unripeds, 7.7ms\n",
            "video 1/1 (599/1004) /content/WhatsApp Video 2024-02-19 at 13.14.34_1cbdf2fa.mp4: 384x640 3 ripeds, 2 unripeds, 7.9ms\n",
            "video 1/1 (600/1004) /content/WhatsApp Video 2024-02-19 at 13.14.34_1cbdf2fa.mp4: 384x640 3 ripeds, 2 unripeds, 9.9ms\n",
            "video 1/1 (601/1004) /content/WhatsApp Video 2024-02-19 at 13.14.34_1cbdf2fa.mp4: 384x640 3 ripeds, 2 unripeds, 7.6ms\n",
            "video 1/1 (602/1004) /content/WhatsApp Video 2024-02-19 at 13.14.34_1cbdf2fa.mp4: 384x640 3 ripeds, 2 unripeds, 7.7ms\n",
            "video 1/1 (603/1004) /content/WhatsApp Video 2024-02-19 at 13.14.34_1cbdf2fa.mp4: 384x640 3 ripeds, 2 unripeds, 12.6ms\n",
            "video 1/1 (604/1004) /content/WhatsApp Video 2024-02-19 at 13.14.34_1cbdf2fa.mp4: 384x640 3 ripeds, 2 unripeds, 8.0ms\n",
            "video 1/1 (605/1004) /content/WhatsApp Video 2024-02-19 at 13.14.34_1cbdf2fa.mp4: 384x640 3 ripeds, 2 unripeds, 7.8ms\n",
            "video 1/1 (606/1004) /content/WhatsApp Video 2024-02-19 at 13.14.34_1cbdf2fa.mp4: 384x640 3 ripeds, 1 unriped, 7.9ms\n",
            "video 1/1 (607/1004) /content/WhatsApp Video 2024-02-19 at 13.14.34_1cbdf2fa.mp4: 384x640 3 ripeds, 3 unripeds, 7.7ms\n",
            "video 1/1 (608/1004) /content/WhatsApp Video 2024-02-19 at 13.14.34_1cbdf2fa.mp4: 384x640 3 ripeds, 2 unripeds, 8.3ms\n",
            "video 1/1 (609/1004) /content/WhatsApp Video 2024-02-19 at 13.14.34_1cbdf2fa.mp4: 384x640 3 ripeds, 2 unripeds, 9.0ms\n",
            "video 1/1 (610/1004) /content/WhatsApp Video 2024-02-19 at 13.14.34_1cbdf2fa.mp4: 384x640 3 ripeds, 2 unripeds, 7.6ms\n",
            "video 1/1 (611/1004) /content/WhatsApp Video 2024-02-19 at 13.14.34_1cbdf2fa.mp4: 384x640 3 ripeds, 2 unripeds, 8.0ms\n",
            "video 1/1 (612/1004) /content/WhatsApp Video 2024-02-19 at 13.14.34_1cbdf2fa.mp4: 384x640 3 ripeds, 2 unripeds, 7.5ms\n",
            "video 1/1 (613/1004) /content/WhatsApp Video 2024-02-19 at 13.14.34_1cbdf2fa.mp4: 384x640 3 ripeds, 2 unripeds, 7.5ms\n",
            "video 1/1 (614/1004) /content/WhatsApp Video 2024-02-19 at 13.14.34_1cbdf2fa.mp4: 384x640 3 ripeds, 3 unripeds, 7.6ms\n",
            "video 1/1 (615/1004) /content/WhatsApp Video 2024-02-19 at 13.14.34_1cbdf2fa.mp4: 384x640 3 ripeds, 3 unripeds, 7.5ms\n",
            "video 1/1 (616/1004) /content/WhatsApp Video 2024-02-19 at 13.14.34_1cbdf2fa.mp4: 384x640 3 ripeds, 3 unripeds, 10.6ms\n",
            "video 1/1 (617/1004) /content/WhatsApp Video 2024-02-19 at 13.14.34_1cbdf2fa.mp4: 384x640 3 ripeds, 3 unripeds, 8.6ms\n",
            "video 1/1 (618/1004) /content/WhatsApp Video 2024-02-19 at 13.14.34_1cbdf2fa.mp4: 384x640 3 ripeds, 2 unripeds, 7.6ms\n",
            "video 1/1 (619/1004) /content/WhatsApp Video 2024-02-19 at 13.14.34_1cbdf2fa.mp4: 384x640 3 ripeds, 2 unripeds, 14.8ms\n",
            "video 1/1 (620/1004) /content/WhatsApp Video 2024-02-19 at 13.14.34_1cbdf2fa.mp4: 384x640 3 ripeds, 2 unripeds, 8.8ms\n",
            "video 1/1 (621/1004) /content/WhatsApp Video 2024-02-19 at 13.14.34_1cbdf2fa.mp4: 384x640 2 ripeds, 1 unriped, 12.8ms\n",
            "video 1/1 (622/1004) /content/WhatsApp Video 2024-02-19 at 13.14.34_1cbdf2fa.mp4: 384x640 3 ripeds, 2 unripeds, 8.9ms\n",
            "video 1/1 (623/1004) /content/WhatsApp Video 2024-02-19 at 13.14.34_1cbdf2fa.mp4: 384x640 3 ripeds, 2 unripeds, 8.0ms\n",
            "video 1/1 (624/1004) /content/WhatsApp Video 2024-02-19 at 13.14.34_1cbdf2fa.mp4: 384x640 3 ripeds, 3 unripeds, 7.8ms\n",
            "video 1/1 (625/1004) /content/WhatsApp Video 2024-02-19 at 13.14.34_1cbdf2fa.mp4: 384x640 3 ripeds, 3 unripeds, 8.4ms\n",
            "video 1/1 (626/1004) /content/WhatsApp Video 2024-02-19 at 13.14.34_1cbdf2fa.mp4: 384x640 3 ripeds, 3 unripeds, 8.2ms\n",
            "video 1/1 (627/1004) /content/WhatsApp Video 2024-02-19 at 13.14.34_1cbdf2fa.mp4: 384x640 3 ripeds, 2 unripeds, 8.0ms\n",
            "video 1/1 (628/1004) /content/WhatsApp Video 2024-02-19 at 13.14.34_1cbdf2fa.mp4: 384x640 4 ripeds, 2 unripeds, 9.1ms\n",
            "video 1/1 (629/1004) /content/WhatsApp Video 2024-02-19 at 13.14.34_1cbdf2fa.mp4: 384x640 4 ripeds, 2 unripeds, 8.0ms\n",
            "video 1/1 (630/1004) /content/WhatsApp Video 2024-02-19 at 13.14.34_1cbdf2fa.mp4: 384x640 3 ripeds, 2 unripeds, 13.0ms\n",
            "video 1/1 (631/1004) /content/WhatsApp Video 2024-02-19 at 13.14.34_1cbdf2fa.mp4: 384x640 4 ripeds, 3 unripeds, 7.7ms\n",
            "video 1/1 (632/1004) /content/WhatsApp Video 2024-02-19 at 13.14.34_1cbdf2fa.mp4: 384x640 4 ripeds, 3 unripeds, 7.4ms\n",
            "video 1/1 (633/1004) /content/WhatsApp Video 2024-02-19 at 13.14.34_1cbdf2fa.mp4: 384x640 4 ripeds, 3 unripeds, 9.8ms\n",
            "video 1/1 (634/1004) /content/WhatsApp Video 2024-02-19 at 13.14.34_1cbdf2fa.mp4: 384x640 4 ripeds, 3 unripeds, 7.6ms\n",
            "video 1/1 (635/1004) /content/WhatsApp Video 2024-02-19 at 13.14.34_1cbdf2fa.mp4: 384x640 4 ripeds, 3 unripeds, 12.8ms\n",
            "video 1/1 (636/1004) /content/WhatsApp Video 2024-02-19 at 13.14.34_1cbdf2fa.mp4: 384x640 2 ripeds, 2 unripeds, 8.2ms\n",
            "video 1/1 (637/1004) /content/WhatsApp Video 2024-02-19 at 13.14.34_1cbdf2fa.mp4: 384x640 4 ripeds, 2 unripeds, 8.1ms\n",
            "video 1/1 (638/1004) /content/WhatsApp Video 2024-02-19 at 13.14.34_1cbdf2fa.mp4: 384x640 4 ripeds, 2 unripeds, 7.9ms\n",
            "video 1/1 (639/1004) /content/WhatsApp Video 2024-02-19 at 13.14.34_1cbdf2fa.mp4: 384x640 3 ripeds, 2 unripeds, 7.9ms\n",
            "video 1/1 (640/1004) /content/WhatsApp Video 2024-02-19 at 13.14.34_1cbdf2fa.mp4: 384x640 4 ripeds, 2 unripeds, 9.2ms\n",
            "video 1/1 (641/1004) /content/WhatsApp Video 2024-02-19 at 13.14.34_1cbdf2fa.mp4: 384x640 4 ripeds, 2 unripeds, 8.3ms\n",
            "video 1/1 (642/1004) /content/WhatsApp Video 2024-02-19 at 13.14.34_1cbdf2fa.mp4: 384x640 4 ripeds, 3 unripeds, 8.9ms\n",
            "video 1/1 (643/1004) /content/WhatsApp Video 2024-02-19 at 13.14.34_1cbdf2fa.mp4: 384x640 5 ripeds, 2 unripeds, 7.5ms\n",
            "video 1/1 (644/1004) /content/WhatsApp Video 2024-02-19 at 13.14.34_1cbdf2fa.mp4: 384x640 4 ripeds, 3 unripeds, 9.9ms\n",
            "video 1/1 (645/1004) /content/WhatsApp Video 2024-02-19 at 13.14.34_1cbdf2fa.mp4: 384x640 4 ripeds, 2 unripeds, 7.4ms\n",
            "video 1/1 (646/1004) /content/WhatsApp Video 2024-02-19 at 13.14.34_1cbdf2fa.mp4: 384x640 5 ripeds, 3 unripeds, 8.2ms\n",
            "video 1/1 (647/1004) /content/WhatsApp Video 2024-02-19 at 13.14.34_1cbdf2fa.mp4: 384x640 5 ripeds, 2 unripeds, 7.4ms\n",
            "video 1/1 (648/1004) /content/WhatsApp Video 2024-02-19 at 13.14.34_1cbdf2fa.mp4: 384x640 4 ripeds, 2 unripeds, 8.0ms\n",
            "video 1/1 (649/1004) /content/WhatsApp Video 2024-02-19 at 13.14.34_1cbdf2fa.mp4: 384x640 5 ripeds, 2 unripeds, 7.7ms\n",
            "video 1/1 (650/1004) /content/WhatsApp Video 2024-02-19 at 13.14.34_1cbdf2fa.mp4: 384x640 5 ripeds, 3 unripeds, 7.4ms\n",
            "video 1/1 (651/1004) /content/WhatsApp Video 2024-02-19 at 13.14.34_1cbdf2fa.mp4: 384x640 5 ripeds, 3 unripeds, 8.9ms\n",
            "video 1/1 (652/1004) /content/WhatsApp Video 2024-02-19 at 13.14.34_1cbdf2fa.mp4: 384x640 5 ripeds, 3 unripeds, 7.6ms\n",
            "video 1/1 (653/1004) /content/WhatsApp Video 2024-02-19 at 13.14.34_1cbdf2fa.mp4: 384x640 5 ripeds, 2 unripeds, 7.9ms\n",
            "video 1/1 (654/1004) /content/WhatsApp Video 2024-02-19 at 13.14.34_1cbdf2fa.mp4: 384x640 4 ripeds, 2 unripeds, 7.5ms\n",
            "video 1/1 (655/1004) /content/WhatsApp Video 2024-02-19 at 13.14.34_1cbdf2fa.mp4: 384x640 5 ripeds, 2 unripeds, 10.1ms\n",
            "video 1/1 (656/1004) /content/WhatsApp Video 2024-02-19 at 13.14.34_1cbdf2fa.mp4: 384x640 4 ripeds, 1 unriped, 7.9ms\n",
            "video 1/1 (657/1004) /content/WhatsApp Video 2024-02-19 at 13.14.34_1cbdf2fa.mp4: 384x640 5 ripeds, 2 unripeds, 8.5ms\n",
            "video 1/1 (658/1004) /content/WhatsApp Video 2024-02-19 at 13.14.34_1cbdf2fa.mp4: 384x640 5 ripeds, 2 unripeds, 9.3ms\n",
            "video 1/1 (659/1004) /content/WhatsApp Video 2024-02-19 at 13.14.34_1cbdf2fa.mp4: 384x640 5 ripeds, 3 unripeds, 9.0ms\n",
            "video 1/1 (660/1004) /content/WhatsApp Video 2024-02-19 at 13.14.34_1cbdf2fa.mp4: 384x640 5 ripeds, 2 unripeds, 7.8ms\n",
            "video 1/1 (661/1004) /content/WhatsApp Video 2024-02-19 at 13.14.34_1cbdf2fa.mp4: 384x640 4 ripeds, 3 unripeds, 11.5ms\n",
            "video 1/1 (662/1004) /content/WhatsApp Video 2024-02-19 at 13.14.34_1cbdf2fa.mp4: 384x640 5 ripeds, 2 unripeds, 8.2ms\n",
            "video 1/1 (663/1004) /content/WhatsApp Video 2024-02-19 at 13.14.34_1cbdf2fa.mp4: 384x640 5 ripeds, 2 unripeds, 12.7ms\n",
            "video 1/1 (664/1004) /content/WhatsApp Video 2024-02-19 at 13.14.34_1cbdf2fa.mp4: 384x640 4 ripeds, 2 unripeds, 9.2ms\n",
            "video 1/1 (665/1004) /content/WhatsApp Video 2024-02-19 at 13.14.34_1cbdf2fa.mp4: 384x640 4 ripeds, 2 unripeds, 7.9ms\n",
            "video 1/1 (666/1004) /content/WhatsApp Video 2024-02-19 at 13.14.34_1cbdf2fa.mp4: 384x640 5 ripeds, 2 unripeds, 8.8ms\n",
            "video 1/1 (667/1004) /content/WhatsApp Video 2024-02-19 at 13.14.34_1cbdf2fa.mp4: 384x640 5 ripeds, 2 unripeds, 9.5ms\n",
            "video 1/1 (668/1004) /content/WhatsApp Video 2024-02-19 at 13.14.34_1cbdf2fa.mp4: 384x640 4 ripeds, 2 unripeds, 9.1ms\n",
            "video 1/1 (669/1004) /content/WhatsApp Video 2024-02-19 at 13.14.34_1cbdf2fa.mp4: 384x640 4 ripeds, 2 unripeds, 8.0ms\n",
            "video 1/1 (670/1004) /content/WhatsApp Video 2024-02-19 at 13.14.34_1cbdf2fa.mp4: 384x640 4 ripeds, 2 unripeds, 10.3ms\n",
            "video 1/1 (671/1004) /content/WhatsApp Video 2024-02-19 at 13.14.34_1cbdf2fa.mp4: 384x640 4 ripeds, 2 unripeds, 7.8ms\n",
            "video 1/1 (672/1004) /content/WhatsApp Video 2024-02-19 at 13.14.34_1cbdf2fa.mp4: 384x640 4 ripeds, 2 unripeds, 7.9ms\n",
            "video 1/1 (673/1004) /content/WhatsApp Video 2024-02-19 at 13.14.34_1cbdf2fa.mp4: 384x640 4 ripeds, 2 unripeds, 7.8ms\n",
            "video 1/1 (674/1004) /content/WhatsApp Video 2024-02-19 at 13.14.34_1cbdf2fa.mp4: 384x640 4 ripeds, 2 unripeds, 7.9ms\n",
            "video 1/1 (675/1004) /content/WhatsApp Video 2024-02-19 at 13.14.34_1cbdf2fa.mp4: 384x640 4 ripeds, 2 unripeds, 7.8ms\n",
            "video 1/1 (676/1004) /content/WhatsApp Video 2024-02-19 at 13.14.34_1cbdf2fa.mp4: 384x640 4 ripeds, 2 unripeds, 8.4ms\n",
            "video 1/1 (677/1004) /content/WhatsApp Video 2024-02-19 at 13.14.34_1cbdf2fa.mp4: 384x640 4 ripeds, 2 unripeds, 8.1ms\n",
            "video 1/1 (678/1004) /content/WhatsApp Video 2024-02-19 at 13.14.34_1cbdf2fa.mp4: 384x640 4 ripeds, 3 unripeds, 7.6ms\n",
            "video 1/1 (679/1004) /content/WhatsApp Video 2024-02-19 at 13.14.34_1cbdf2fa.mp4: 384x640 4 ripeds, 2 unripeds, 8.4ms\n",
            "video 1/1 (680/1004) /content/WhatsApp Video 2024-02-19 at 13.14.34_1cbdf2fa.mp4: 384x640 4 ripeds, 2 unripeds, 8.3ms\n",
            "video 1/1 (681/1004) /content/WhatsApp Video 2024-02-19 at 13.14.34_1cbdf2fa.mp4: 384x640 4 ripeds, 2 unripeds, 8.2ms\n",
            "video 1/1 (682/1004) /content/WhatsApp Video 2024-02-19 at 13.14.34_1cbdf2fa.mp4: 384x640 4 ripeds, 3 unripeds, 8.7ms\n",
            "video 1/1 (683/1004) /content/WhatsApp Video 2024-02-19 at 13.14.34_1cbdf2fa.mp4: 384x640 4 ripeds, 2 unripeds, 8.4ms\n",
            "video 1/1 (684/1004) /content/WhatsApp Video 2024-02-19 at 13.14.34_1cbdf2fa.mp4: 384x640 4 ripeds, 2 unripeds, 7.8ms\n",
            "video 1/1 (685/1004) /content/WhatsApp Video 2024-02-19 at 13.14.34_1cbdf2fa.mp4: 384x640 4 ripeds, 1 unriped, 9.9ms\n",
            "video 1/1 (686/1004) /content/WhatsApp Video 2024-02-19 at 13.14.34_1cbdf2fa.mp4: 384x640 4 ripeds, 1 unriped, 7.8ms\n",
            "video 1/1 (687/1004) /content/WhatsApp Video 2024-02-19 at 13.14.34_1cbdf2fa.mp4: 384x640 3 ripeds, 1 unriped, 7.8ms\n",
            "video 1/1 (688/1004) /content/WhatsApp Video 2024-02-19 at 13.14.34_1cbdf2fa.mp4: 384x640 4 ripeds, 1 unriped, 8.6ms\n",
            "video 1/1 (689/1004) /content/WhatsApp Video 2024-02-19 at 13.14.34_1cbdf2fa.mp4: 384x640 4 ripeds, 1 unriped, 7.9ms\n",
            "video 1/1 (690/1004) /content/WhatsApp Video 2024-02-19 at 13.14.34_1cbdf2fa.mp4: 384x640 4 ripeds, 1 unriped, 8.9ms\n",
            "video 1/1 (691/1004) /content/WhatsApp Video 2024-02-19 at 13.14.34_1cbdf2fa.mp4: 384x640 4 ripeds, 1 unriped, 8.2ms\n",
            "video 1/1 (692/1004) /content/WhatsApp Video 2024-02-19 at 13.14.34_1cbdf2fa.mp4: 384x640 4 ripeds, 1 unriped, 8.1ms\n",
            "video 1/1 (693/1004) /content/WhatsApp Video 2024-02-19 at 13.14.34_1cbdf2fa.mp4: 384x640 4 ripeds, 2 unripeds, 8.4ms\n",
            "video 1/1 (694/1004) /content/WhatsApp Video 2024-02-19 at 13.14.34_1cbdf2fa.mp4: 384x640 4 ripeds, 2 unripeds, 9.1ms\n",
            "video 1/1 (695/1004) /content/WhatsApp Video 2024-02-19 at 13.14.34_1cbdf2fa.mp4: 384x640 4 ripeds, 2 unripeds, 9.0ms\n",
            "video 1/1 (696/1004) /content/WhatsApp Video 2024-02-19 at 13.14.34_1cbdf2fa.mp4: 384x640 3 ripeds, 2 unripeds, 7.9ms\n",
            "video 1/1 (697/1004) /content/WhatsApp Video 2024-02-19 at 13.14.34_1cbdf2fa.mp4: 384x640 4 ripeds, 2 unripeds, 8.0ms\n",
            "video 1/1 (698/1004) /content/WhatsApp Video 2024-02-19 at 13.14.34_1cbdf2fa.mp4: 384x640 4 ripeds, 1 unriped, 8.0ms\n",
            "video 1/1 (699/1004) /content/WhatsApp Video 2024-02-19 at 13.14.34_1cbdf2fa.mp4: 384x640 4 ripeds, 1 unriped, 7.9ms\n",
            "video 1/1 (700/1004) /content/WhatsApp Video 2024-02-19 at 13.14.34_1cbdf2fa.mp4: 384x640 4 ripeds, 1 unriped, 8.4ms\n",
            "video 1/1 (701/1004) /content/WhatsApp Video 2024-02-19 at 13.14.34_1cbdf2fa.mp4: 384x640 4 ripeds, 1 unriped, 8.4ms\n",
            "video 1/1 (702/1004) /content/WhatsApp Video 2024-02-19 at 13.14.34_1cbdf2fa.mp4: 384x640 4 ripeds, 1 unriped, 8.4ms\n",
            "video 1/1 (703/1004) /content/WhatsApp Video 2024-02-19 at 13.14.34_1cbdf2fa.mp4: 384x640 4 ripeds, 1 unriped, 8.9ms\n",
            "video 1/1 (704/1004) /content/WhatsApp Video 2024-02-19 at 13.14.34_1cbdf2fa.mp4: 384x640 4 ripeds, 1 unriped, 9.0ms\n",
            "video 1/1 (705/1004) /content/WhatsApp Video 2024-02-19 at 13.14.34_1cbdf2fa.mp4: 384x640 3 ripeds, 1 unriped, 7.7ms\n",
            "video 1/1 (706/1004) /content/WhatsApp Video 2024-02-19 at 13.14.34_1cbdf2fa.mp4: 384x640 4 ripeds, 1 unriped, 14.7ms\n",
            "video 1/1 (707/1004) /content/WhatsApp Video 2024-02-19 at 13.14.34_1cbdf2fa.mp4: 384x640 4 ripeds, 1 unriped, 7.7ms\n",
            "video 1/1 (708/1004) /content/WhatsApp Video 2024-02-19 at 13.14.34_1cbdf2fa.mp4: 384x640 4 ripeds, 1 unriped, 9.9ms\n",
            "video 1/1 (709/1004) /content/WhatsApp Video 2024-02-19 at 13.14.34_1cbdf2fa.mp4: 384x640 4 ripeds, 1 unriped, 7.6ms\n",
            "video 1/1 (710/1004) /content/WhatsApp Video 2024-02-19 at 13.14.34_1cbdf2fa.mp4: 384x640 4 ripeds, 1 unriped, 10.1ms\n",
            "video 1/1 (711/1004) /content/WhatsApp Video 2024-02-19 at 13.14.34_1cbdf2fa.mp4: 384x640 4 ripeds, 1 unriped, 8.7ms\n",
            "video 1/1 (712/1004) /content/WhatsApp Video 2024-02-19 at 13.14.34_1cbdf2fa.mp4: 384x640 4 ripeds, 1 unriped, 8.1ms\n",
            "video 1/1 (713/1004) /content/WhatsApp Video 2024-02-19 at 13.14.34_1cbdf2fa.mp4: 384x640 4 ripeds, 1 unriped, 8.8ms\n",
            "video 1/1 (714/1004) /content/WhatsApp Video 2024-02-19 at 13.14.34_1cbdf2fa.mp4: 384x640 4 ripeds, 1 unriped, 8.3ms\n",
            "video 1/1 (715/1004) /content/WhatsApp Video 2024-02-19 at 13.14.34_1cbdf2fa.mp4: 384x640 4 ripeds, 1 unriped, 8.7ms\n",
            "video 1/1 (716/1004) /content/WhatsApp Video 2024-02-19 at 13.14.34_1cbdf2fa.mp4: 384x640 4 ripeds, 1 unriped, 7.7ms\n",
            "video 1/1 (717/1004) /content/WhatsApp Video 2024-02-19 at 13.14.34_1cbdf2fa.mp4: 384x640 4 ripeds, 1 unriped, 8.0ms\n",
            "video 1/1 (718/1004) /content/WhatsApp Video 2024-02-19 at 13.14.34_1cbdf2fa.mp4: 384x640 4 ripeds, 1 unriped, 7.6ms\n",
            "video 1/1 (719/1004) /content/WhatsApp Video 2024-02-19 at 13.14.34_1cbdf2fa.mp4: 384x640 4 ripeds, 1 unriped, 7.6ms\n",
            "video 1/1 (720/1004) /content/WhatsApp Video 2024-02-19 at 13.14.34_1cbdf2fa.mp4: 384x640 4 ripeds, 1 unriped, 8.0ms\n",
            "video 1/1 (721/1004) /content/WhatsApp Video 2024-02-19 at 13.14.34_1cbdf2fa.mp4: 384x640 4 ripeds, 1 unriped, 7.7ms\n",
            "video 1/1 (722/1004) /content/WhatsApp Video 2024-02-19 at 13.14.34_1cbdf2fa.mp4: 384x640 3 ripeds, 1 unriped, 7.6ms\n",
            "video 1/1 (723/1004) /content/WhatsApp Video 2024-02-19 at 13.14.34_1cbdf2fa.mp4: 384x640 4 ripeds, 1 unriped, 11.5ms\n",
            "video 1/1 (724/1004) /content/WhatsApp Video 2024-02-19 at 13.14.34_1cbdf2fa.mp4: 384x640 4 ripeds, 1 unriped, 12.7ms\n",
            "video 1/1 (725/1004) /content/WhatsApp Video 2024-02-19 at 13.14.34_1cbdf2fa.mp4: 384x640 4 ripeds, 1 unriped, 7.8ms\n",
            "video 1/1 (726/1004) /content/WhatsApp Video 2024-02-19 at 13.14.34_1cbdf2fa.mp4: 384x640 4 ripeds, 1 unriped, 7.7ms\n",
            "video 1/1 (727/1004) /content/WhatsApp Video 2024-02-19 at 13.14.34_1cbdf2fa.mp4: 384x640 4 ripeds, 1 unriped, 8.0ms\n",
            "video 1/1 (728/1004) /content/WhatsApp Video 2024-02-19 at 13.14.34_1cbdf2fa.mp4: 384x640 4 ripeds, 1 unriped, 7.7ms\n",
            "video 1/1 (729/1004) /content/WhatsApp Video 2024-02-19 at 13.14.34_1cbdf2fa.mp4: 384x640 4 ripeds, 1 unriped, 7.4ms\n",
            "video 1/1 (730/1004) /content/WhatsApp Video 2024-02-19 at 13.14.34_1cbdf2fa.mp4: 384x640 3 ripeds, 1 unriped, 7.6ms\n",
            "video 1/1 (731/1004) /content/WhatsApp Video 2024-02-19 at 13.14.34_1cbdf2fa.mp4: 384x640 4 ripeds, 1 unriped, 8.1ms\n",
            "video 1/1 (732/1004) /content/WhatsApp Video 2024-02-19 at 13.14.34_1cbdf2fa.mp4: 384x640 5 ripeds, 1 unriped, 8.2ms\n",
            "video 1/1 (733/1004) /content/WhatsApp Video 2024-02-19 at 13.14.34_1cbdf2fa.mp4: 384x640 5 ripeds, 1 unriped, 7.3ms\n",
            "video 1/1 (734/1004) /content/WhatsApp Video 2024-02-19 at 13.14.34_1cbdf2fa.mp4: 384x640 5 ripeds, 1 unriped, 7.7ms\n",
            "video 1/1 (735/1004) /content/WhatsApp Video 2024-02-19 at 13.14.34_1cbdf2fa.mp4: 384x640 5 ripeds, 1 unriped, 7.9ms\n",
            "video 1/1 (736/1004) /content/WhatsApp Video 2024-02-19 at 13.14.34_1cbdf2fa.mp4: 384x640 5 ripeds, 1 unriped, 8.7ms\n",
            "video 1/1 (737/1004) /content/WhatsApp Video 2024-02-19 at 13.14.34_1cbdf2fa.mp4: 384x640 5 ripeds, 1 unriped, 9.4ms\n",
            "video 1/1 (738/1004) /content/WhatsApp Video 2024-02-19 at 13.14.34_1cbdf2fa.mp4: 384x640 5 ripeds, 1 unriped, 8.6ms\n",
            "video 1/1 (739/1004) /content/WhatsApp Video 2024-02-19 at 13.14.34_1cbdf2fa.mp4: 384x640 5 ripeds, 1 unriped, 8.0ms\n",
            "video 1/1 (740/1004) /content/WhatsApp Video 2024-02-19 at 13.14.34_1cbdf2fa.mp4: 384x640 5 ripeds, 1 unriped, 7.9ms\n",
            "video 1/1 (741/1004) /content/WhatsApp Video 2024-02-19 at 13.14.34_1cbdf2fa.mp4: 384x640 5 ripeds, 1 unriped, 8.4ms\n",
            "video 1/1 (742/1004) /content/WhatsApp Video 2024-02-19 at 13.14.34_1cbdf2fa.mp4: 384x640 5 ripeds, 1 unriped, 10.1ms\n",
            "video 1/1 (743/1004) /content/WhatsApp Video 2024-02-19 at 13.14.34_1cbdf2fa.mp4: 384x640 5 ripeds, 1 unriped, 7.5ms\n",
            "video 1/1 (744/1004) /content/WhatsApp Video 2024-02-19 at 13.14.34_1cbdf2fa.mp4: 384x640 5 ripeds, 1 unriped, 8.5ms\n",
            "video 1/1 (745/1004) /content/WhatsApp Video 2024-02-19 at 13.14.34_1cbdf2fa.mp4: 384x640 5 ripeds, 1 unriped, 8.1ms\n",
            "video 1/1 (746/1004) /content/WhatsApp Video 2024-02-19 at 13.14.34_1cbdf2fa.mp4: 384x640 5 ripeds, 1 unriped, 8.6ms\n",
            "video 1/1 (747/1004) /content/WhatsApp Video 2024-02-19 at 13.14.34_1cbdf2fa.mp4: 384x640 5 ripeds, 1 unriped, 8.6ms\n",
            "video 1/1 (748/1004) /content/WhatsApp Video 2024-02-19 at 13.14.34_1cbdf2fa.mp4: 384x640 5 ripeds, 1 unriped, 8.0ms\n",
            "video 1/1 (749/1004) /content/WhatsApp Video 2024-02-19 at 13.14.34_1cbdf2fa.mp4: 384x640 5 ripeds, 1 unriped, 14.9ms\n",
            "video 1/1 (750/1004) /content/WhatsApp Video 2024-02-19 at 13.14.34_1cbdf2fa.mp4: 384x640 6 ripeds, 1 unriped, 8.0ms\n",
            "video 1/1 (751/1004) /content/WhatsApp Video 2024-02-19 at 13.14.34_1cbdf2fa.mp4: 384x640 6 ripeds, 1 unriped, 9.4ms\n",
            "video 1/1 (752/1004) /content/WhatsApp Video 2024-02-19 at 13.14.34_1cbdf2fa.mp4: 384x640 6 ripeds, 1 unriped, 7.6ms\n",
            "video 1/1 (753/1004) /content/WhatsApp Video 2024-02-19 at 13.14.34_1cbdf2fa.mp4: 384x640 6 ripeds, 1 unriped, 9.2ms\n",
            "video 1/1 (754/1004) /content/WhatsApp Video 2024-02-19 at 13.14.34_1cbdf2fa.mp4: 384x640 6 ripeds, 1 unriped, 7.7ms\n",
            "video 1/1 (755/1004) /content/WhatsApp Video 2024-02-19 at 13.14.34_1cbdf2fa.mp4: 384x640 6 ripeds, 1 unriped, 9.2ms\n",
            "video 1/1 (756/1004) /content/WhatsApp Video 2024-02-19 at 13.14.34_1cbdf2fa.mp4: 384x640 6 ripeds, 1 unriped, 8.0ms\n",
            "video 1/1 (757/1004) /content/WhatsApp Video 2024-02-19 at 13.14.34_1cbdf2fa.mp4: 384x640 6 ripeds, 1 unriped, 7.8ms\n",
            "video 1/1 (758/1004) /content/WhatsApp Video 2024-02-19 at 13.14.34_1cbdf2fa.mp4: 384x640 6 ripeds, 1 unriped, 10.1ms\n",
            "video 1/1 (759/1004) /content/WhatsApp Video 2024-02-19 at 13.14.34_1cbdf2fa.mp4: 384x640 6 ripeds, 1 unriped, 7.8ms\n",
            "video 1/1 (760/1004) /content/WhatsApp Video 2024-02-19 at 13.14.34_1cbdf2fa.mp4: 384x640 6 ripeds, 1 unriped, 9.5ms\n",
            "video 1/1 (761/1004) /content/WhatsApp Video 2024-02-19 at 13.14.34_1cbdf2fa.mp4: 384x640 6 ripeds, 1 unriped, 7.8ms\n",
            "video 1/1 (762/1004) /content/WhatsApp Video 2024-02-19 at 13.14.34_1cbdf2fa.mp4: 384x640 6 ripeds, 1 unriped, 8.0ms\n",
            "video 1/1 (763/1004) /content/WhatsApp Video 2024-02-19 at 13.14.34_1cbdf2fa.mp4: 384x640 6 ripeds, 1 unriped, 7.7ms\n",
            "video 1/1 (764/1004) /content/WhatsApp Video 2024-02-19 at 13.14.34_1cbdf2fa.mp4: 384x640 5 ripeds, 1 unriped, 7.7ms\n",
            "video 1/1 (765/1004) /content/WhatsApp Video 2024-02-19 at 13.14.34_1cbdf2fa.mp4: 384x640 6 ripeds, 1 unriped, 8.0ms\n",
            "video 1/1 (766/1004) /content/WhatsApp Video 2024-02-19 at 13.14.34_1cbdf2fa.mp4: 384x640 6 ripeds, 1 unriped, 8.7ms\n",
            "video 1/1 (767/1004) /content/WhatsApp Video 2024-02-19 at 13.14.34_1cbdf2fa.mp4: 384x640 6 ripeds, 1 unriped, 8.7ms\n",
            "video 1/1 (768/1004) /content/WhatsApp Video 2024-02-19 at 13.14.34_1cbdf2fa.mp4: 384x640 6 ripeds, 1 unriped, 7.8ms\n",
            "video 1/1 (769/1004) /content/WhatsApp Video 2024-02-19 at 13.14.34_1cbdf2fa.mp4: 384x640 6 ripeds, 1 unriped, 7.9ms\n",
            "video 1/1 (770/1004) /content/WhatsApp Video 2024-02-19 at 13.14.34_1cbdf2fa.mp4: 384x640 6 ripeds, 1 unriped, 8.1ms\n",
            "video 1/1 (771/1004) /content/WhatsApp Video 2024-02-19 at 13.14.34_1cbdf2fa.mp4: 384x640 6 ripeds, 1 unriped, 7.8ms\n",
            "video 1/1 (772/1004) /content/WhatsApp Video 2024-02-19 at 13.14.34_1cbdf2fa.mp4: 384x640 5 ripeds, 1 unriped, 8.7ms\n",
            "video 1/1 (773/1004) /content/WhatsApp Video 2024-02-19 at 13.14.34_1cbdf2fa.mp4: 384x640 6 ripeds, 1 unriped, 8.0ms\n",
            "video 1/1 (774/1004) /content/WhatsApp Video 2024-02-19 at 13.14.34_1cbdf2fa.mp4: 384x640 6 ripeds, 1 unriped, 7.8ms\n",
            "video 1/1 (775/1004) /content/WhatsApp Video 2024-02-19 at 13.14.34_1cbdf2fa.mp4: 384x640 6 ripeds, 1 unriped, 8.3ms\n",
            "video 1/1 (776/1004) /content/WhatsApp Video 2024-02-19 at 13.14.34_1cbdf2fa.mp4: 384x640 6 ripeds, 1 unriped, 8.4ms\n",
            "video 1/1 (777/1004) /content/WhatsApp Video 2024-02-19 at 13.14.34_1cbdf2fa.mp4: 384x640 6 ripeds, 1 unriped, 9.6ms\n",
            "video 1/1 (778/1004) /content/WhatsApp Video 2024-02-19 at 13.14.34_1cbdf2fa.mp4: 384x640 6 ripeds, 1 unriped, 10.5ms\n",
            "video 1/1 (779/1004) /content/WhatsApp Video 2024-02-19 at 13.14.34_1cbdf2fa.mp4: 384x640 6 ripeds, 1 unriped, 8.2ms\n",
            "video 1/1 (780/1004) /content/WhatsApp Video 2024-02-19 at 13.14.34_1cbdf2fa.mp4: 384x640 6 ripeds, 1 unriped, 10.3ms\n",
            "video 1/1 (781/1004) /content/WhatsApp Video 2024-02-19 at 13.14.34_1cbdf2fa.mp4: 384x640 6 ripeds, 1 unriped, 10.0ms\n",
            "video 1/1 (782/1004) /content/WhatsApp Video 2024-02-19 at 13.14.34_1cbdf2fa.mp4: 384x640 6 ripeds, 1 unriped, 15.6ms\n",
            "video 1/1 (783/1004) /content/WhatsApp Video 2024-02-19 at 13.14.34_1cbdf2fa.mp4: 384x640 5 ripeds, 1 unriped, 14.3ms\n",
            "video 1/1 (784/1004) /content/WhatsApp Video 2024-02-19 at 13.14.34_1cbdf2fa.mp4: 384x640 6 ripeds, 1 unriped, 13.7ms\n",
            "video 1/1 (785/1004) /content/WhatsApp Video 2024-02-19 at 13.14.34_1cbdf2fa.mp4: 384x640 6 ripeds, 1 unriped, 15.5ms\n",
            "video 1/1 (786/1004) /content/WhatsApp Video 2024-02-19 at 13.14.34_1cbdf2fa.mp4: 384x640 5 ripeds, 1 unriped, 15.6ms\n",
            "video 1/1 (787/1004) /content/WhatsApp Video 2024-02-19 at 13.14.34_1cbdf2fa.mp4: 384x640 6 ripeds, 1 unriped, 10.8ms\n",
            "video 1/1 (788/1004) /content/WhatsApp Video 2024-02-19 at 13.14.34_1cbdf2fa.mp4: 384x640 6 ripeds, 1 unriped, 17.4ms\n",
            "video 1/1 (789/1004) /content/WhatsApp Video 2024-02-19 at 13.14.34_1cbdf2fa.mp4: 384x640 6 ripeds, 1 unriped, 12.8ms\n",
            "video 1/1 (790/1004) /content/WhatsApp Video 2024-02-19 at 13.14.34_1cbdf2fa.mp4: 384x640 5 ripeds, 1 unriped, 16.0ms\n",
            "video 1/1 (791/1004) /content/WhatsApp Video 2024-02-19 at 13.14.34_1cbdf2fa.mp4: 384x640 6 ripeds, 1 unriped, 10.7ms\n",
            "video 1/1 (792/1004) /content/WhatsApp Video 2024-02-19 at 13.14.34_1cbdf2fa.mp4: 384x640 5 ripeds, 1 unriped, 18.7ms\n",
            "video 1/1 (793/1004) /content/WhatsApp Video 2024-02-19 at 13.14.34_1cbdf2fa.mp4: 384x640 6 ripeds, 1 unriped, 13.5ms\n",
            "video 1/1 (794/1004) /content/WhatsApp Video 2024-02-19 at 13.14.34_1cbdf2fa.mp4: 384x640 6 ripeds, 1 unriped, 10.0ms\n",
            "video 1/1 (795/1004) /content/WhatsApp Video 2024-02-19 at 13.14.34_1cbdf2fa.mp4: 384x640 5 ripeds, 1 unriped, 12.8ms\n",
            "video 1/1 (796/1004) /content/WhatsApp Video 2024-02-19 at 13.14.34_1cbdf2fa.mp4: 384x640 6 ripeds, 1 unriped, 10.5ms\n",
            "video 1/1 (797/1004) /content/WhatsApp Video 2024-02-19 at 13.14.34_1cbdf2fa.mp4: 384x640 6 ripeds, 1 unriped, 10.6ms\n",
            "video 1/1 (798/1004) /content/WhatsApp Video 2024-02-19 at 13.14.34_1cbdf2fa.mp4: 384x640 6 ripeds, 1 unriped, 9.9ms\n",
            "video 1/1 (799/1004) /content/WhatsApp Video 2024-02-19 at 13.14.34_1cbdf2fa.mp4: 384x640 6 ripeds, 1 unriped, 11.5ms\n",
            "video 1/1 (800/1004) /content/WhatsApp Video 2024-02-19 at 13.14.34_1cbdf2fa.mp4: 384x640 6 ripeds, 1 unriped, 10.3ms\n",
            "video 1/1 (801/1004) /content/WhatsApp Video 2024-02-19 at 13.14.34_1cbdf2fa.mp4: 384x640 6 ripeds, 1 unriped, 10.1ms\n",
            "video 1/1 (802/1004) /content/WhatsApp Video 2024-02-19 at 13.14.34_1cbdf2fa.mp4: 384x640 6 ripeds, 1 unriped, 11.1ms\n",
            "video 1/1 (803/1004) /content/WhatsApp Video 2024-02-19 at 13.14.34_1cbdf2fa.mp4: 384x640 6 ripeds, 1 unriped, 11.8ms\n",
            "video 1/1 (804/1004) /content/WhatsApp Video 2024-02-19 at 13.14.34_1cbdf2fa.mp4: 384x640 6 ripeds, 1 unriped, 10.1ms\n",
            "video 1/1 (805/1004) /content/WhatsApp Video 2024-02-19 at 13.14.34_1cbdf2fa.mp4: 384x640 6 ripeds, 1 unriped, 10.7ms\n",
            "video 1/1 (806/1004) /content/WhatsApp Video 2024-02-19 at 13.14.34_1cbdf2fa.mp4: 384x640 6 ripeds, 1 unriped, 13.0ms\n",
            "video 1/1 (807/1004) /content/WhatsApp Video 2024-02-19 at 13.14.34_1cbdf2fa.mp4: 384x640 6 ripeds, 1 unriped, 11.3ms\n",
            "video 1/1 (808/1004) /content/WhatsApp Video 2024-02-19 at 13.14.34_1cbdf2fa.mp4: 384x640 6 ripeds, 1 unriped, 11.2ms\n",
            "video 1/1 (809/1004) /content/WhatsApp Video 2024-02-19 at 13.14.34_1cbdf2fa.mp4: 384x640 6 ripeds, 1 unriped, 10.6ms\n",
            "video 1/1 (810/1004) /content/WhatsApp Video 2024-02-19 at 13.14.34_1cbdf2fa.mp4: 384x640 6 ripeds, 1 unriped, 12.3ms\n",
            "video 1/1 (811/1004) /content/WhatsApp Video 2024-02-19 at 13.14.34_1cbdf2fa.mp4: 384x640 6 ripeds, 1 unriped, 12.7ms\n",
            "video 1/1 (812/1004) /content/WhatsApp Video 2024-02-19 at 13.14.34_1cbdf2fa.mp4: 384x640 6 ripeds, 1 unriped, 10.0ms\n",
            "video 1/1 (813/1004) /content/WhatsApp Video 2024-02-19 at 13.14.34_1cbdf2fa.mp4: 384x640 6 ripeds, 1 unriped, 13.7ms\n",
            "video 1/1 (814/1004) /content/WhatsApp Video 2024-02-19 at 13.14.34_1cbdf2fa.mp4: 384x640 5 ripeds, 1 unriped, 9.6ms\n",
            "video 1/1 (815/1004) /content/WhatsApp Video 2024-02-19 at 13.14.34_1cbdf2fa.mp4: 384x640 6 ripeds, 1 unriped, 10.3ms\n",
            "video 1/1 (816/1004) /content/WhatsApp Video 2024-02-19 at 13.14.34_1cbdf2fa.mp4: 384x640 6 ripeds, 1 unriped, 10.1ms\n",
            "video 1/1 (817/1004) /content/WhatsApp Video 2024-02-19 at 13.14.34_1cbdf2fa.mp4: 384x640 4 ripeds, 1 unriped, 10.4ms\n",
            "video 1/1 (818/1004) /content/WhatsApp Video 2024-02-19 at 13.14.34_1cbdf2fa.mp4: 384x640 4 ripeds, 1 unriped, 10.4ms\n",
            "video 1/1 (819/1004) /content/WhatsApp Video 2024-02-19 at 13.14.34_1cbdf2fa.mp4: 384x640 4 ripeds, 1 unriped, 13.3ms\n",
            "video 1/1 (820/1004) /content/WhatsApp Video 2024-02-19 at 13.14.34_1cbdf2fa.mp4: 384x640 4 ripeds, 1 unriped, 19.7ms\n",
            "video 1/1 (821/1004) /content/WhatsApp Video 2024-02-19 at 13.14.34_1cbdf2fa.mp4: 384x640 4 ripeds, 1 unriped, 18.9ms\n",
            "video 1/1 (822/1004) /content/WhatsApp Video 2024-02-19 at 13.14.34_1cbdf2fa.mp4: 384x640 4 ripeds, 1 unriped, 15.0ms\n",
            "video 1/1 (823/1004) /content/WhatsApp Video 2024-02-19 at 13.14.34_1cbdf2fa.mp4: 384x640 4 ripeds, 1 unriped, 12.2ms\n",
            "video 1/1 (824/1004) /content/WhatsApp Video 2024-02-19 at 13.14.34_1cbdf2fa.mp4: 384x640 4 ripeds, 1 unriped, 12.8ms\n",
            "video 1/1 (825/1004) /content/WhatsApp Video 2024-02-19 at 13.14.34_1cbdf2fa.mp4: 384x640 4 ripeds, 1 unriped, 14.0ms\n",
            "video 1/1 (826/1004) /content/WhatsApp Video 2024-02-19 at 13.14.34_1cbdf2fa.mp4: 384x640 4 ripeds, 1 unriped, 13.3ms\n",
            "video 1/1 (827/1004) /content/WhatsApp Video 2024-02-19 at 13.14.34_1cbdf2fa.mp4: 384x640 4 ripeds, 1 unriped, 16.0ms\n",
            "video 1/1 (828/1004) /content/WhatsApp Video 2024-02-19 at 13.14.34_1cbdf2fa.mp4: 384x640 4 ripeds, 1 unriped, 13.5ms\n",
            "video 1/1 (829/1004) /content/WhatsApp Video 2024-02-19 at 13.14.34_1cbdf2fa.mp4: 384x640 4 ripeds, 1 unriped, 10.7ms\n",
            "video 1/1 (830/1004) /content/WhatsApp Video 2024-02-19 at 13.14.34_1cbdf2fa.mp4: 384x640 5 ripeds, 1 unriped, 10.0ms\n",
            "video 1/1 (831/1004) /content/WhatsApp Video 2024-02-19 at 13.14.34_1cbdf2fa.mp4: 384x640 5 ripeds, 1 unriped, 18.9ms\n",
            "video 1/1 (832/1004) /content/WhatsApp Video 2024-02-19 at 13.14.34_1cbdf2fa.mp4: 384x640 4 ripeds, 1 unriped, 13.0ms\n",
            "video 1/1 (833/1004) /content/WhatsApp Video 2024-02-19 at 13.14.34_1cbdf2fa.mp4: 384x640 4 ripeds, 1 unriped, 15.5ms\n",
            "video 1/1 (834/1004) /content/WhatsApp Video 2024-02-19 at 13.14.34_1cbdf2fa.mp4: 384x640 4 ripeds, 1 unriped, 10.4ms\n",
            "video 1/1 (835/1004) /content/WhatsApp Video 2024-02-19 at 13.14.34_1cbdf2fa.mp4: 384x640 4 ripeds, 1 unriped, 11.8ms\n",
            "video 1/1 (836/1004) /content/WhatsApp Video 2024-02-19 at 13.14.34_1cbdf2fa.mp4: 384x640 4 ripeds, 1 unriped, 17.6ms\n",
            "video 1/1 (837/1004) /content/WhatsApp Video 2024-02-19 at 13.14.34_1cbdf2fa.mp4: 384x640 4 ripeds, 1 unriped, 13.3ms\n",
            "video 1/1 (838/1004) /content/WhatsApp Video 2024-02-19 at 13.14.34_1cbdf2fa.mp4: 384x640 4 ripeds, 1 unriped, 13.6ms\n",
            "video 1/1 (839/1004) /content/WhatsApp Video 2024-02-19 at 13.14.34_1cbdf2fa.mp4: 384x640 4 ripeds, 1 unriped, 16.6ms\n",
            "video 1/1 (840/1004) /content/WhatsApp Video 2024-02-19 at 13.14.34_1cbdf2fa.mp4: 384x640 3 ripeds, 1 unriped, 14.1ms\n",
            "video 1/1 (841/1004) /content/WhatsApp Video 2024-02-19 at 13.14.34_1cbdf2fa.mp4: 384x640 4 ripeds, 1 unriped, 14.0ms\n",
            "video 1/1 (842/1004) /content/WhatsApp Video 2024-02-19 at 13.14.34_1cbdf2fa.mp4: 384x640 4 ripeds, 1 unriped, 13.0ms\n",
            "video 1/1 (843/1004) /content/WhatsApp Video 2024-02-19 at 13.14.34_1cbdf2fa.mp4: 384x640 4 ripeds, 1 unriped, 13.5ms\n",
            "video 1/1 (844/1004) /content/WhatsApp Video 2024-02-19 at 13.14.34_1cbdf2fa.mp4: 384x640 4 ripeds, 1 unriped, 13.2ms\n",
            "video 1/1 (845/1004) /content/WhatsApp Video 2024-02-19 at 13.14.34_1cbdf2fa.mp4: 384x640 4 ripeds, 1 unriped, 15.2ms\n",
            "video 1/1 (846/1004) /content/WhatsApp Video 2024-02-19 at 13.14.34_1cbdf2fa.mp4: 384x640 4 ripeds, 1 unriped, 18.9ms\n",
            "video 1/1 (847/1004) /content/WhatsApp Video 2024-02-19 at 13.14.34_1cbdf2fa.mp4: 384x640 4 ripeds, 1 unriped, 15.2ms\n",
            "video 1/1 (848/1004) /content/WhatsApp Video 2024-02-19 at 13.14.34_1cbdf2fa.mp4: 384x640 4 ripeds, 1 unriped, 11.9ms\n",
            "video 1/1 (849/1004) /content/WhatsApp Video 2024-02-19 at 13.14.34_1cbdf2fa.mp4: 384x640 4 ripeds, 1 unriped, 8.2ms\n",
            "video 1/1 (850/1004) /content/WhatsApp Video 2024-02-19 at 13.14.34_1cbdf2fa.mp4: 384x640 4 ripeds, 1 unriped, 16.0ms\n",
            "video 1/1 (851/1004) /content/WhatsApp Video 2024-02-19 at 13.14.34_1cbdf2fa.mp4: 384x640 4 ripeds, 1 unriped, 9.3ms\n",
            "video 1/1 (852/1004) /content/WhatsApp Video 2024-02-19 at 13.14.34_1cbdf2fa.mp4: 384x640 4 ripeds, 1 unriped, 12.8ms\n",
            "video 1/1 (853/1004) /content/WhatsApp Video 2024-02-19 at 13.14.34_1cbdf2fa.mp4: 384x640 4 ripeds, 1 unriped, 8.8ms\n",
            "video 1/1 (854/1004) /content/WhatsApp Video 2024-02-19 at 13.14.34_1cbdf2fa.mp4: 384x640 4 ripeds, 1 unriped, 9.2ms\n",
            "video 1/1 (855/1004) /content/WhatsApp Video 2024-02-19 at 13.14.34_1cbdf2fa.mp4: 384x640 4 ripeds, 1 unriped, 8.4ms\n",
            "video 1/1 (856/1004) /content/WhatsApp Video 2024-02-19 at 13.14.34_1cbdf2fa.mp4: 384x640 4 ripeds, 1 unriped, 8.2ms\n",
            "video 1/1 (857/1004) /content/WhatsApp Video 2024-02-19 at 13.14.34_1cbdf2fa.mp4: 384x640 4 ripeds, 1 unriped, 8.1ms\n",
            "video 1/1 (858/1004) /content/WhatsApp Video 2024-02-19 at 13.14.34_1cbdf2fa.mp4: 384x640 4 ripeds, 1 unriped, 11.8ms\n",
            "video 1/1 (859/1004) /content/WhatsApp Video 2024-02-19 at 13.14.34_1cbdf2fa.mp4: 384x640 4 ripeds, 1 unriped, 7.7ms\n",
            "video 1/1 (860/1004) /content/WhatsApp Video 2024-02-19 at 13.14.34_1cbdf2fa.mp4: 384x640 4 ripeds, 1 unriped, 8.3ms\n",
            "video 1/1 (861/1004) /content/WhatsApp Video 2024-02-19 at 13.14.34_1cbdf2fa.mp4: 384x640 4 ripeds, 1 unriped, 7.8ms\n",
            "video 1/1 (862/1004) /content/WhatsApp Video 2024-02-19 at 13.14.34_1cbdf2fa.mp4: 384x640 4 ripeds, 1 unriped, 7.7ms\n",
            "video 1/1 (863/1004) /content/WhatsApp Video 2024-02-19 at 13.14.34_1cbdf2fa.mp4: 384x640 4 ripeds, 1 unriped, 7.9ms\n",
            "video 1/1 (864/1004) /content/WhatsApp Video 2024-02-19 at 13.14.34_1cbdf2fa.mp4: 384x640 4 ripeds, 1 unriped, 8.2ms\n",
            "video 1/1 (865/1004) /content/WhatsApp Video 2024-02-19 at 13.14.34_1cbdf2fa.mp4: 384x640 4 ripeds, 1 unriped, 10.1ms\n",
            "video 1/1 (866/1004) /content/WhatsApp Video 2024-02-19 at 13.14.34_1cbdf2fa.mp4: 384x640 4 ripeds, 1 unriped, 8.2ms\n",
            "video 1/1 (867/1004) /content/WhatsApp Video 2024-02-19 at 13.14.34_1cbdf2fa.mp4: 384x640 4 ripeds, 1 unriped, 10.7ms\n",
            "video 1/1 (868/1004) /content/WhatsApp Video 2024-02-19 at 13.14.34_1cbdf2fa.mp4: 384x640 4 ripeds, 7.9ms\n",
            "video 1/1 (869/1004) /content/WhatsApp Video 2024-02-19 at 13.14.34_1cbdf2fa.mp4: 384x640 4 ripeds, 8.0ms\n",
            "video 1/1 (870/1004) /content/WhatsApp Video 2024-02-19 at 13.14.34_1cbdf2fa.mp4: 384x640 4 ripeds, 8.1ms\n",
            "video 1/1 (871/1004) /content/WhatsApp Video 2024-02-19 at 13.14.34_1cbdf2fa.mp4: 384x640 4 ripeds, 8.5ms\n",
            "video 1/1 (872/1004) /content/WhatsApp Video 2024-02-19 at 13.14.34_1cbdf2fa.mp4: 384x640 4 ripeds, 8.0ms\n",
            "video 1/1 (873/1004) /content/WhatsApp Video 2024-02-19 at 13.14.34_1cbdf2fa.mp4: 384x640 4 ripeds, 8.0ms\n",
            "video 1/1 (874/1004) /content/WhatsApp Video 2024-02-19 at 13.14.34_1cbdf2fa.mp4: 384x640 4 ripeds, 7.6ms\n",
            "video 1/1 (875/1004) /content/WhatsApp Video 2024-02-19 at 13.14.34_1cbdf2fa.mp4: 384x640 4 ripeds, 7.6ms\n",
            "video 1/1 (876/1004) /content/WhatsApp Video 2024-02-19 at 13.14.34_1cbdf2fa.mp4: 384x640 4 ripeds, 11.0ms\n",
            "video 1/1 (877/1004) /content/WhatsApp Video 2024-02-19 at 13.14.34_1cbdf2fa.mp4: 384x640 4 ripeds, 7.8ms\n",
            "video 1/1 (878/1004) /content/WhatsApp Video 2024-02-19 at 13.14.34_1cbdf2fa.mp4: 384x640 4 ripeds, 9.2ms\n",
            "video 1/1 (879/1004) /content/WhatsApp Video 2024-02-19 at 13.14.34_1cbdf2fa.mp4: 384x640 4 ripeds, 7.9ms\n",
            "video 1/1 (880/1004) /content/WhatsApp Video 2024-02-19 at 13.14.34_1cbdf2fa.mp4: 384x640 4 ripeds, 8.2ms\n",
            "video 1/1 (881/1004) /content/WhatsApp Video 2024-02-19 at 13.14.34_1cbdf2fa.mp4: 384x640 4 ripeds, 7.8ms\n",
            "video 1/1 (882/1004) /content/WhatsApp Video 2024-02-19 at 13.14.34_1cbdf2fa.mp4: 384x640 4 ripeds, 8.1ms\n",
            "video 1/1 (883/1004) /content/WhatsApp Video 2024-02-19 at 13.14.34_1cbdf2fa.mp4: 384x640 4 ripeds, 7.8ms\n",
            "video 1/1 (884/1004) /content/WhatsApp Video 2024-02-19 at 13.14.34_1cbdf2fa.mp4: 384x640 3 ripeds, 7.7ms\n",
            "video 1/1 (885/1004) /content/WhatsApp Video 2024-02-19 at 13.14.34_1cbdf2fa.mp4: 384x640 4 ripeds, 9.6ms\n",
            "video 1/1 (886/1004) /content/WhatsApp Video 2024-02-19 at 13.14.34_1cbdf2fa.mp4: 384x640 4 ripeds, 8.5ms\n",
            "video 1/1 (887/1004) /content/WhatsApp Video 2024-02-19 at 13.14.34_1cbdf2fa.mp4: 384x640 4 ripeds, 7.8ms\n",
            "video 1/1 (888/1004) /content/WhatsApp Video 2024-02-19 at 13.14.34_1cbdf2fa.mp4: 384x640 4 ripeds, 7.5ms\n",
            "video 1/1 (889/1004) /content/WhatsApp Video 2024-02-19 at 13.14.34_1cbdf2fa.mp4: 384x640 4 ripeds, 8.1ms\n",
            "video 1/1 (890/1004) /content/WhatsApp Video 2024-02-19 at 13.14.34_1cbdf2fa.mp4: 384x640 4 ripeds, 8.1ms\n",
            "video 1/1 (891/1004) /content/WhatsApp Video 2024-02-19 at 13.14.34_1cbdf2fa.mp4: 384x640 4 ripeds, 8.1ms\n",
            "video 1/1 (892/1004) /content/WhatsApp Video 2024-02-19 at 13.14.34_1cbdf2fa.mp4: 384x640 4 ripeds, 8.0ms\n",
            "video 1/1 (893/1004) /content/WhatsApp Video 2024-02-19 at 13.14.34_1cbdf2fa.mp4: 384x640 3 ripeds, 14.7ms\n",
            "video 1/1 (894/1004) /content/WhatsApp Video 2024-02-19 at 13.14.34_1cbdf2fa.mp4: 384x640 4 ripeds, 7.8ms\n",
            "video 1/1 (895/1004) /content/WhatsApp Video 2024-02-19 at 13.14.34_1cbdf2fa.mp4: 384x640 4 ripeds, 11.3ms\n",
            "video 1/1 (896/1004) /content/WhatsApp Video 2024-02-19 at 13.14.34_1cbdf2fa.mp4: 384x640 4 ripeds, 8.5ms\n",
            "video 1/1 (897/1004) /content/WhatsApp Video 2024-02-19 at 13.14.34_1cbdf2fa.mp4: 384x640 4 ripeds, 9.0ms\n",
            "video 1/1 (898/1004) /content/WhatsApp Video 2024-02-19 at 13.14.34_1cbdf2fa.mp4: 384x640 4 ripeds, 7.9ms\n",
            "video 1/1 (899/1004) /content/WhatsApp Video 2024-02-19 at 13.14.34_1cbdf2fa.mp4: 384x640 4 ripeds, 7.6ms\n",
            "video 1/1 (900/1004) /content/WhatsApp Video 2024-02-19 at 13.14.34_1cbdf2fa.mp4: 384x640 4 ripeds, 10.0ms\n",
            "video 1/1 (901/1004) /content/WhatsApp Video 2024-02-19 at 13.14.34_1cbdf2fa.mp4: 384x640 4 ripeds, 8.9ms\n",
            "video 1/1 (902/1004) /content/WhatsApp Video 2024-02-19 at 13.14.34_1cbdf2fa.mp4: 384x640 4 ripeds, 7.9ms\n",
            "video 1/1 (903/1004) /content/WhatsApp Video 2024-02-19 at 13.14.34_1cbdf2fa.mp4: 384x640 4 ripeds, 10.3ms\n",
            "video 1/1 (904/1004) /content/WhatsApp Video 2024-02-19 at 13.14.34_1cbdf2fa.mp4: 384x640 5 ripeds, 7.4ms\n",
            "video 1/1 (905/1004) /content/WhatsApp Video 2024-02-19 at 13.14.34_1cbdf2fa.mp4: 384x640 4 ripeds, 9.0ms\n",
            "video 1/1 (906/1004) /content/WhatsApp Video 2024-02-19 at 13.14.34_1cbdf2fa.mp4: 384x640 4 ripeds, 8.0ms\n",
            "video 1/1 (907/1004) /content/WhatsApp Video 2024-02-19 at 13.14.34_1cbdf2fa.mp4: 384x640 4 ripeds, 7.4ms\n",
            "video 1/1 (908/1004) /content/WhatsApp Video 2024-02-19 at 13.14.34_1cbdf2fa.mp4: 384x640 4 ripeds, 8.9ms\n",
            "video 1/1 (909/1004) /content/WhatsApp Video 2024-02-19 at 13.14.34_1cbdf2fa.mp4: 384x640 5 ripeds, 8.2ms\n",
            "video 1/1 (910/1004) /content/WhatsApp Video 2024-02-19 at 13.14.34_1cbdf2fa.mp4: 384x640 4 ripeds, 7.9ms\n",
            "video 1/1 (911/1004) /content/WhatsApp Video 2024-02-19 at 13.14.34_1cbdf2fa.mp4: 384x640 4 ripeds, 7.4ms\n",
            "video 1/1 (912/1004) /content/WhatsApp Video 2024-02-19 at 13.14.34_1cbdf2fa.mp4: 384x640 3 ripeds, 8.1ms\n",
            "video 1/1 (913/1004) /content/WhatsApp Video 2024-02-19 at 13.14.34_1cbdf2fa.mp4: 384x640 4 ripeds, 7.6ms\n",
            "video 1/1 (914/1004) /content/WhatsApp Video 2024-02-19 at 13.14.34_1cbdf2fa.mp4: 384x640 4 ripeds, 7.7ms\n",
            "video 1/1 (915/1004) /content/WhatsApp Video 2024-02-19 at 13.14.34_1cbdf2fa.mp4: 384x640 4 ripeds, 7.4ms\n",
            "video 1/1 (916/1004) /content/WhatsApp Video 2024-02-19 at 13.14.34_1cbdf2fa.mp4: 384x640 4 ripeds, 7.4ms\n",
            "video 1/1 (917/1004) /content/WhatsApp Video 2024-02-19 at 13.14.34_1cbdf2fa.mp4: 384x640 4 ripeds, 7.6ms\n",
            "video 1/1 (918/1004) /content/WhatsApp Video 2024-02-19 at 13.14.34_1cbdf2fa.mp4: 384x640 5 ripeds, 9.4ms\n",
            "video 1/1 (919/1004) /content/WhatsApp Video 2024-02-19 at 13.14.34_1cbdf2fa.mp4: 384x640 4 ripeds, 9.5ms\n",
            "video 1/1 (920/1004) /content/WhatsApp Video 2024-02-19 at 13.14.34_1cbdf2fa.mp4: 384x640 4 ripeds, 8.5ms\n",
            "video 1/1 (921/1004) /content/WhatsApp Video 2024-02-19 at 13.14.34_1cbdf2fa.mp4: 384x640 3 ripeds, 7.8ms\n",
            "video 1/1 (922/1004) /content/WhatsApp Video 2024-02-19 at 13.14.34_1cbdf2fa.mp4: 384x640 4 ripeds, 11.9ms\n",
            "video 1/1 (923/1004) /content/WhatsApp Video 2024-02-19 at 13.14.34_1cbdf2fa.mp4: 384x640 5 ripeds, 8.9ms\n",
            "video 1/1 (924/1004) /content/WhatsApp Video 2024-02-19 at 13.14.34_1cbdf2fa.mp4: 384x640 5 ripeds, 10.0ms\n",
            "video 1/1 (925/1004) /content/WhatsApp Video 2024-02-19 at 13.14.34_1cbdf2fa.mp4: 384x640 5 ripeds, 9.9ms\n",
            "video 1/1 (926/1004) /content/WhatsApp Video 2024-02-19 at 13.14.34_1cbdf2fa.mp4: 384x640 4 ripeds, 12.7ms\n",
            "video 1/1 (927/1004) /content/WhatsApp Video 2024-02-19 at 13.14.34_1cbdf2fa.mp4: 384x640 4 ripeds, 8.2ms\n",
            "video 1/1 (928/1004) /content/WhatsApp Video 2024-02-19 at 13.14.34_1cbdf2fa.mp4: 384x640 5 ripeds, 7.7ms\n",
            "video 1/1 (929/1004) /content/WhatsApp Video 2024-02-19 at 13.14.34_1cbdf2fa.mp4: 384x640 5 ripeds, 7.8ms\n",
            "video 1/1 (930/1004) /content/WhatsApp Video 2024-02-19 at 13.14.34_1cbdf2fa.mp4: 384x640 4 ripeds, 10.7ms\n",
            "video 1/1 (931/1004) /content/WhatsApp Video 2024-02-19 at 13.14.34_1cbdf2fa.mp4: 384x640 3 ripeds, 8.5ms\n",
            "video 1/1 (932/1004) /content/WhatsApp Video 2024-02-19 at 13.14.34_1cbdf2fa.mp4: 384x640 5 ripeds, 7.9ms\n",
            "video 1/1 (933/1004) /content/WhatsApp Video 2024-02-19 at 13.14.34_1cbdf2fa.mp4: 384x640 5 ripeds, 9.5ms\n",
            "video 1/1 (934/1004) /content/WhatsApp Video 2024-02-19 at 13.14.34_1cbdf2fa.mp4: 384x640 5 ripeds, 7.9ms\n",
            "video 1/1 (935/1004) /content/WhatsApp Video 2024-02-19 at 13.14.34_1cbdf2fa.mp4: 384x640 4 ripeds, 11.8ms\n",
            "video 1/1 (936/1004) /content/WhatsApp Video 2024-02-19 at 13.14.34_1cbdf2fa.mp4: 384x640 5 ripeds, 7.8ms\n",
            "video 1/1 (937/1004) /content/WhatsApp Video 2024-02-19 at 13.14.34_1cbdf2fa.mp4: 384x640 6 ripeds, 7.8ms\n",
            "video 1/1 (938/1004) /content/WhatsApp Video 2024-02-19 at 13.14.34_1cbdf2fa.mp4: 384x640 4 ripeds, 8.3ms\n",
            "video 1/1 (939/1004) /content/WhatsApp Video 2024-02-19 at 13.14.34_1cbdf2fa.mp4: 384x640 4 ripeds, 12.6ms\n",
            "video 1/1 (940/1004) /content/WhatsApp Video 2024-02-19 at 13.14.34_1cbdf2fa.mp4: 384x640 4 ripeds, 8.4ms\n",
            "video 1/1 (941/1004) /content/WhatsApp Video 2024-02-19 at 13.14.34_1cbdf2fa.mp4: 384x640 5 ripeds, 7.8ms\n",
            "video 1/1 (942/1004) /content/WhatsApp Video 2024-02-19 at 13.14.34_1cbdf2fa.mp4: 384x640 4 ripeds, 8.1ms\n",
            "video 1/1 (943/1004) /content/WhatsApp Video 2024-02-19 at 13.14.34_1cbdf2fa.mp4: 384x640 4 ripeds, 8.1ms\n",
            "video 1/1 (944/1004) /content/WhatsApp Video 2024-02-19 at 13.14.34_1cbdf2fa.mp4: 384x640 4 ripeds, 8.3ms\n",
            "video 1/1 (945/1004) /content/WhatsApp Video 2024-02-19 at 13.14.34_1cbdf2fa.mp4: 384x640 5 ripeds, 8.4ms\n",
            "video 1/1 (946/1004) /content/WhatsApp Video 2024-02-19 at 13.14.34_1cbdf2fa.mp4: 384x640 4 ripeds, 7.6ms\n",
            "video 1/1 (947/1004) /content/WhatsApp Video 2024-02-19 at 13.14.34_1cbdf2fa.mp4: 384x640 3 ripeds, 9.4ms\n",
            "video 1/1 (948/1004) /content/WhatsApp Video 2024-02-19 at 13.14.34_1cbdf2fa.mp4: 384x640 2 ripeds, 11.9ms\n",
            "video 1/1 (949/1004) /content/WhatsApp Video 2024-02-19 at 13.14.34_1cbdf2fa.mp4: 384x640 5 ripeds, 9.2ms\n",
            "video 1/1 (950/1004) /content/WhatsApp Video 2024-02-19 at 13.14.34_1cbdf2fa.mp4: 384x640 5 ripeds, 7.8ms\n",
            "video 1/1 (951/1004) /content/WhatsApp Video 2024-02-19 at 13.14.34_1cbdf2fa.mp4: 384x640 5 ripeds, 8.8ms\n",
            "video 1/1 (952/1004) /content/WhatsApp Video 2024-02-19 at 13.14.34_1cbdf2fa.mp4: 384x640 4 ripeds, 10.1ms\n",
            "video 1/1 (953/1004) /content/WhatsApp Video 2024-02-19 at 13.14.34_1cbdf2fa.mp4: 384x640 4 ripeds, 8.1ms\n",
            "video 1/1 (954/1004) /content/WhatsApp Video 2024-02-19 at 13.14.34_1cbdf2fa.mp4: 384x640 5 ripeds, 8.9ms\n",
            "video 1/1 (955/1004) /content/WhatsApp Video 2024-02-19 at 13.14.34_1cbdf2fa.mp4: 384x640 5 ripeds, 8.2ms\n",
            "video 1/1 (956/1004) /content/WhatsApp Video 2024-02-19 at 13.14.34_1cbdf2fa.mp4: 384x640 3 ripeds, 7.8ms\n",
            "video 1/1 (957/1004) /content/WhatsApp Video 2024-02-19 at 13.14.34_1cbdf2fa.mp4: 384x640 2 ripeds, 8.3ms\n",
            "video 1/1 (958/1004) /content/WhatsApp Video 2024-02-19 at 13.14.34_1cbdf2fa.mp4: 384x640 3 ripeds, 7.7ms\n",
            "video 1/1 (959/1004) /content/WhatsApp Video 2024-02-19 at 13.14.34_1cbdf2fa.mp4: 384x640 4 ripeds, 9.0ms\n",
            "video 1/1 (960/1004) /content/WhatsApp Video 2024-02-19 at 13.14.34_1cbdf2fa.mp4: 384x640 4 ripeds, 7.6ms\n",
            "video 1/1 (961/1004) /content/WhatsApp Video 2024-02-19 at 13.14.34_1cbdf2fa.mp4: 384x640 3 ripeds, 7.6ms\n",
            "video 1/1 (962/1004) /content/WhatsApp Video 2024-02-19 at 13.14.34_1cbdf2fa.mp4: 384x640 3 ripeds, 8.9ms\n",
            "video 1/1 (963/1004) /content/WhatsApp Video 2024-02-19 at 13.14.34_1cbdf2fa.mp4: 384x640 3 ripeds, 7.7ms\n",
            "video 1/1 (964/1004) /content/WhatsApp Video 2024-02-19 at 13.14.34_1cbdf2fa.mp4: 384x640 4 ripeds, 7.6ms\n",
            "video 1/1 (965/1004) /content/WhatsApp Video 2024-02-19 at 13.14.34_1cbdf2fa.mp4: 384x640 3 ripeds, 8.4ms\n",
            "video 1/1 (966/1004) /content/WhatsApp Video 2024-02-19 at 13.14.34_1cbdf2fa.mp4: 384x640 3 ripeds, 7.9ms\n",
            "video 1/1 (967/1004) /content/WhatsApp Video 2024-02-19 at 13.14.34_1cbdf2fa.mp4: 384x640 2 ripeds, 7.7ms\n",
            "video 1/1 (968/1004) /content/WhatsApp Video 2024-02-19 at 13.14.34_1cbdf2fa.mp4: 384x640 3 ripeds, 7.8ms\n",
            "video 1/1 (969/1004) /content/WhatsApp Video 2024-02-19 at 13.14.34_1cbdf2fa.mp4: 384x640 4 ripeds, 7.6ms\n",
            "video 1/1 (970/1004) /content/WhatsApp Video 2024-02-19 at 13.14.34_1cbdf2fa.mp4: 384x640 3 ripeds, 8.3ms\n",
            "video 1/1 (971/1004) /content/WhatsApp Video 2024-02-19 at 13.14.34_1cbdf2fa.mp4: 384x640 3 ripeds, 9.7ms\n",
            "video 1/1 (972/1004) /content/WhatsApp Video 2024-02-19 at 13.14.34_1cbdf2fa.mp4: 384x640 3 ripeds, 9.5ms\n",
            "video 1/1 (973/1004) /content/WhatsApp Video 2024-02-19 at 13.14.34_1cbdf2fa.mp4: 384x640 3 ripeds, 8.0ms\n",
            "video 1/1 (974/1004) /content/WhatsApp Video 2024-02-19 at 13.14.34_1cbdf2fa.mp4: 384x640 3 ripeds, 7.7ms\n",
            "video 1/1 (975/1004) /content/WhatsApp Video 2024-02-19 at 13.14.34_1cbdf2fa.mp4: 384x640 3 ripeds, 8.0ms\n",
            "video 1/1 (976/1004) /content/WhatsApp Video 2024-02-19 at 13.14.34_1cbdf2fa.mp4: 384x640 2 ripeds, 10.1ms\n",
            "video 1/1 (977/1004) /content/WhatsApp Video 2024-02-19 at 13.14.34_1cbdf2fa.mp4: 384x640 3 ripeds, 7.7ms\n",
            "video 1/1 (978/1004) /content/WhatsApp Video 2024-02-19 at 13.14.34_1cbdf2fa.mp4: 384x640 3 ripeds, 7.6ms\n",
            "video 1/1 (979/1004) /content/WhatsApp Video 2024-02-19 at 13.14.34_1cbdf2fa.mp4: 384x640 3 ripeds, 8.4ms\n",
            "video 1/1 (980/1004) /content/WhatsApp Video 2024-02-19 at 13.14.34_1cbdf2fa.mp4: 384x640 3 ripeds, 7.7ms\n",
            "video 1/1 (981/1004) /content/WhatsApp Video 2024-02-19 at 13.14.34_1cbdf2fa.mp4: 384x640 3 ripeds, 8.0ms\n",
            "video 1/1 (982/1004) /content/WhatsApp Video 2024-02-19 at 13.14.34_1cbdf2fa.mp4: 384x640 3 ripeds, 9.9ms\n",
            "video 1/1 (983/1004) /content/WhatsApp Video 2024-02-19 at 13.14.34_1cbdf2fa.mp4: 384x640 3 ripeds, 14.7ms\n",
            "video 1/1 (984/1004) /content/WhatsApp Video 2024-02-19 at 13.14.34_1cbdf2fa.mp4: 384x640 3 ripeds, 7.9ms\n",
            "video 1/1 (985/1004) /content/WhatsApp Video 2024-02-19 at 13.14.34_1cbdf2fa.mp4: 384x640 2 ripeds, 11.5ms\n",
            "video 1/1 (986/1004) /content/WhatsApp Video 2024-02-19 at 13.14.34_1cbdf2fa.mp4: 384x640 2 ripeds, 8.0ms\n",
            "video 1/1 (987/1004) /content/WhatsApp Video 2024-02-19 at 13.14.34_1cbdf2fa.mp4: 384x640 2 ripeds, 9.8ms\n",
            "video 1/1 (988/1004) /content/WhatsApp Video 2024-02-19 at 13.14.34_1cbdf2fa.mp4: 384x640 2 ripeds, 10.1ms\n",
            "video 1/1 (989/1004) /content/WhatsApp Video 2024-02-19 at 13.14.34_1cbdf2fa.mp4: 384x640 2 ripeds, 9.0ms\n",
            "video 1/1 (990/1004) /content/WhatsApp Video 2024-02-19 at 13.14.34_1cbdf2fa.mp4: 384x640 2 ripeds, 15.5ms\n",
            "video 1/1 (991/1004) /content/WhatsApp Video 2024-02-19 at 13.14.34_1cbdf2fa.mp4: 384x640 2 ripeds, 8.5ms\n",
            "video 1/1 (992/1004) /content/WhatsApp Video 2024-02-19 at 13.14.34_1cbdf2fa.mp4: 384x640 2 ripeds, 8.1ms\n",
            "video 1/1 (993/1004) /content/WhatsApp Video 2024-02-19 at 13.14.34_1cbdf2fa.mp4: 384x640 2 ripeds, 7.7ms\n",
            "video 1/1 (994/1004) /content/WhatsApp Video 2024-02-19 at 13.14.34_1cbdf2fa.mp4: 384x640 2 ripeds, 8.1ms\n",
            "video 1/1 (995/1004) /content/WhatsApp Video 2024-02-19 at 13.14.34_1cbdf2fa.mp4: 384x640 2 ripeds, 9.1ms\n",
            "video 1/1 (996/1004) /content/WhatsApp Video 2024-02-19 at 13.14.34_1cbdf2fa.mp4: 384x640 1 riped, 11.4ms\n",
            "video 1/1 (997/1004) /content/WhatsApp Video 2024-02-19 at 13.14.34_1cbdf2fa.mp4: 384x640 2 ripeds, 9.5ms\n",
            "video 1/1 (998/1004) /content/WhatsApp Video 2024-02-19 at 13.14.34_1cbdf2fa.mp4: 384x640 2 ripeds, 8.3ms\n",
            "video 1/1 (999/1004) /content/WhatsApp Video 2024-02-19 at 13.14.34_1cbdf2fa.mp4: 384x640 2 ripeds, 9.0ms\n",
            "video 1/1 (1000/1004) /content/WhatsApp Video 2024-02-19 at 13.14.34_1cbdf2fa.mp4: 384x640 2 ripeds, 7.7ms\n",
            "video 1/1 (1001/1004) /content/WhatsApp Video 2024-02-19 at 13.14.34_1cbdf2fa.mp4: 384x640 2 ripeds, 10.5ms\n",
            "video 1/1 (1002/1004) /content/WhatsApp Video 2024-02-19 at 13.14.34_1cbdf2fa.mp4: 384x640 2 ripeds, 9.1ms\n",
            "video 1/1 (1003/1004) /content/WhatsApp Video 2024-02-19 at 13.14.34_1cbdf2fa.mp4: 384x640 2 ripeds, 10.0ms\n",
            "video 1/1 (1004/1004) /content/WhatsApp Video 2024-02-19 at 13.14.34_1cbdf2fa.mp4: 384x640 2 ripeds, 1 unriped, 8.8ms\n",
            "Speed: 2.8ms preprocess, 9.3ms inference, 1.3ms postprocess per image at shape (1, 3, 384, 640)\n",
            "Results saved to \u001b[1mruns/detect/predict\u001b[0m\n"
          ]
        }
      ]
    },
    {
      "cell_type": "code",
      "source": [],
      "metadata": {
        "id": "pvJED8FtI7Iu"
      },
      "execution_count": null,
      "outputs": []
    },
    {
      "cell_type": "code",
      "source": [],
      "metadata": {
        "id": "BxWcN9yoINth"
      },
      "execution_count": null,
      "outputs": []
    },
    {
      "cell_type": "code",
      "source": [
        "pip install ultralytics"
      ],
      "metadata": {
        "colab": {
          "base_uri": "https://localhost:8080/"
        },
        "id": "q6lAf3SKF6EC",
        "outputId": "b3e4a2d1-22bb-405c-eade-f257e5bae2fd"
      },
      "execution_count": 2,
      "outputs": [
        {
          "output_type": "stream",
          "name": "stdout",
          "text": [
            "Collecting ultralytics\n",
            "  Downloading ultralytics-8.1.19-py3-none-any.whl (716 kB)\n",
            "\u001b[2K     \u001b[90m━━━━━━━━━━━━━━━━━━━━━━━━━━━━━━━━━━━━━━━━\u001b[0m \u001b[32m716.2/716.2 kB\u001b[0m \u001b[31m8.1 MB/s\u001b[0m eta \u001b[36m0:00:00\u001b[0m\n",
            "\u001b[?25hRequirement already satisfied: matplotlib>=3.3.0 in /usr/local/lib/python3.10/dist-packages (from ultralytics) (3.7.1)\n",
            "Requirement already satisfied: opencv-python>=4.6.0 in /usr/local/lib/python3.10/dist-packages (from ultralytics) (4.8.0.76)\n",
            "Requirement already satisfied: pillow>=7.1.2 in /usr/local/lib/python3.10/dist-packages (from ultralytics) (9.4.0)\n",
            "Requirement already satisfied: pyyaml>=5.3.1 in /usr/local/lib/python3.10/dist-packages (from ultralytics) (6.0.1)\n",
            "Requirement already satisfied: requests>=2.23.0 in /usr/local/lib/python3.10/dist-packages (from ultralytics) (2.31.0)\n",
            "Requirement already satisfied: scipy>=1.4.1 in /usr/local/lib/python3.10/dist-packages (from ultralytics) (1.11.4)\n",
            "Requirement already satisfied: torch>=1.8.0 in /usr/local/lib/python3.10/dist-packages (from ultralytics) (2.1.0+cu121)\n",
            "Requirement already satisfied: torchvision>=0.9.0 in /usr/local/lib/python3.10/dist-packages (from ultralytics) (0.16.0+cu121)\n",
            "Requirement already satisfied: tqdm>=4.64.0 in /usr/local/lib/python3.10/dist-packages (from ultralytics) (4.66.2)\n",
            "Requirement already satisfied: psutil in /usr/local/lib/python3.10/dist-packages (from ultralytics) (5.9.5)\n",
            "Requirement already satisfied: py-cpuinfo in /usr/local/lib/python3.10/dist-packages (from ultralytics) (9.0.0)\n",
            "Collecting thop>=0.1.1 (from ultralytics)\n",
            "  Downloading thop-0.1.1.post2209072238-py3-none-any.whl (15 kB)\n",
            "Requirement already satisfied: pandas>=1.1.4 in /usr/local/lib/python3.10/dist-packages (from ultralytics) (1.5.3)\n",
            "Requirement already satisfied: seaborn>=0.11.0 in /usr/local/lib/python3.10/dist-packages (from ultralytics) (0.13.1)\n",
            "Requirement already satisfied: contourpy>=1.0.1 in /usr/local/lib/python3.10/dist-packages (from matplotlib>=3.3.0->ultralytics) (1.2.0)\n",
            "Requirement already satisfied: cycler>=0.10 in /usr/local/lib/python3.10/dist-packages (from matplotlib>=3.3.0->ultralytics) (0.10.0)\n",
            "Requirement already satisfied: fonttools>=4.22.0 in /usr/local/lib/python3.10/dist-packages (from matplotlib>=3.3.0->ultralytics) (4.49.0)\n",
            "Requirement already satisfied: kiwisolver>=1.0.1 in /usr/local/lib/python3.10/dist-packages (from matplotlib>=3.3.0->ultralytics) (1.4.5)\n",
            "Requirement already satisfied: numpy>=1.20 in /usr/local/lib/python3.10/dist-packages (from matplotlib>=3.3.0->ultralytics) (1.25.2)\n",
            "Requirement already satisfied: packaging>=20.0 in /usr/local/lib/python3.10/dist-packages (from matplotlib>=3.3.0->ultralytics) (23.2)\n",
            "Requirement already satisfied: pyparsing>=2.3.1 in /usr/local/lib/python3.10/dist-packages (from matplotlib>=3.3.0->ultralytics) (3.1.1)\n",
            "Requirement already satisfied: python-dateutil>=2.7 in /usr/local/lib/python3.10/dist-packages (from matplotlib>=3.3.0->ultralytics) (2.8.2)\n",
            "Requirement already satisfied: pytz>=2020.1 in /usr/local/lib/python3.10/dist-packages (from pandas>=1.1.4->ultralytics) (2023.4)\n",
            "Requirement already satisfied: charset-normalizer<4,>=2 in /usr/local/lib/python3.10/dist-packages (from requests>=2.23.0->ultralytics) (3.3.2)\n",
            "Requirement already satisfied: idna<4,>=2.5 in /usr/local/lib/python3.10/dist-packages (from requests>=2.23.0->ultralytics) (2.10)\n",
            "Requirement already satisfied: urllib3<3,>=1.21.1 in /usr/local/lib/python3.10/dist-packages (from requests>=2.23.0->ultralytics) (2.0.7)\n",
            "Requirement already satisfied: certifi>=2017.4.17 in /usr/local/lib/python3.10/dist-packages (from requests>=2.23.0->ultralytics) (2023.7.22)\n",
            "Requirement already satisfied: filelock in /usr/local/lib/python3.10/dist-packages (from torch>=1.8.0->ultralytics) (3.13.1)\n",
            "Requirement already satisfied: typing-extensions in /usr/local/lib/python3.10/dist-packages (from torch>=1.8.0->ultralytics) (4.9.0)\n",
            "Requirement already satisfied: sympy in /usr/local/lib/python3.10/dist-packages (from torch>=1.8.0->ultralytics) (1.12)\n",
            "Requirement already satisfied: networkx in /usr/local/lib/python3.10/dist-packages (from torch>=1.8.0->ultralytics) (3.2.1)\n",
            "Requirement already satisfied: jinja2 in /usr/local/lib/python3.10/dist-packages (from torch>=1.8.0->ultralytics) (3.1.3)\n",
            "Requirement already satisfied: fsspec in /usr/local/lib/python3.10/dist-packages (from torch>=1.8.0->ultralytics) (2023.6.0)\n",
            "Requirement already satisfied: triton==2.1.0 in /usr/local/lib/python3.10/dist-packages (from torch>=1.8.0->ultralytics) (2.1.0)\n",
            "Requirement already satisfied: six in /usr/local/lib/python3.10/dist-packages (from cycler>=0.10->matplotlib>=3.3.0->ultralytics) (1.16.0)\n",
            "Requirement already satisfied: MarkupSafe>=2.0 in /usr/local/lib/python3.10/dist-packages (from jinja2->torch>=1.8.0->ultralytics) (2.1.5)\n",
            "Requirement already satisfied: mpmath>=0.19 in /usr/local/lib/python3.10/dist-packages (from sympy->torch>=1.8.0->ultralytics) (1.3.0)\n",
            "Installing collected packages: thop, ultralytics\n",
            "Successfully installed thop-0.1.1.post2209072238 ultralytics-8.1.19\n"
          ]
        }
      ]
    }
  ]
}